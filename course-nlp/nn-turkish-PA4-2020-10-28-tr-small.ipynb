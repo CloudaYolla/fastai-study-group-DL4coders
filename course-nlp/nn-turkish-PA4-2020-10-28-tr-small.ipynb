{
 "cells": [
  {
   "cell_type": "markdown",
   "metadata": {},
   "source": [
    "# HBA PA4\n",
    "\n",
    "French version: https://github.com/Daniel-R-Armstrong/French-Wiki-2500-Pretrained-SentencePiece-LM/blob/master/fr_spm.ipynb\n",
    "https://forums.fast.ai/t/sentencepiece/53010/50"
   ]
  },
  {
   "cell_type": "markdown",
   "metadata": {},
   "source": [
    "# Turkish ULMFiT from scratch"
   ]
  },
  {
   "cell_type": "code",
   "execution_count": null,
   "metadata": {},
   "outputs": [],
   "source": [
    "# #hide\n",
    "# !pip install -Uqq fastbook\n",
    "# import fastbook\n",
    "# fastbook.setup_book()"
   ]
  },
  {
   "cell_type": "code",
   "execution_count": null,
   "metadata": {},
   "outputs": [],
   "source": [
    "# import sys\n",
    "# !{sys.executable} -m pip install fastai==1.0.61 #This right here"
   ]
  },
  {
   "cell_type": "code",
   "execution_count": null,
   "metadata": {},
   "outputs": [],
   "source": [
    "# import sys\n",
    "# !{sys.executable} -m pip install fastcore==1. #This right here"
   ]
  },
  {
   "cell_type": "code",
   "execution_count": null,
   "metadata": {},
   "outputs": [],
   "source": [
    "# #fastai v1 API: https://fastai1.fast.ai/overview.html\n",
    "# from fastai.basics import *"
   ]
  },
  {
   "cell_type": "code",
   "execution_count": null,
   "metadata": {},
   "outputs": [],
   "source": [
    "# from fastai.utils import *\n",
    "# show_install()"
   ]
  },
  {
   "cell_type": "code",
   "execution_count": 1,
   "metadata": {},
   "outputs": [],
   "source": [
    "%reload_ext autoreload\n",
    "%autoreload 2\n",
    "%matplotlib inline\n",
    "\n",
    "from fastai import *\n",
    "from fastai.text import *"
   ]
  },
  {
   "cell_type": "code",
   "execution_count": 2,
   "metadata": {},
   "outputs": [
    {
     "name": "stdout",
     "output_type": "stream",
     "text": [
      "hello\n"
     ]
    }
   ],
   "source": [
    "print ('hello')"
   ]
  },
  {
   "cell_type": "code",
   "execution_count": 3,
   "metadata": {},
   "outputs": [],
   "source": [
    "from fastai.imports import *"
   ]
  },
  {
   "cell_type": "code",
   "execution_count": 4,
   "metadata": {},
   "outputs": [],
   "source": [
    "data_path = Path('/home/ec2-user/.fastai/data')"
   ]
  },
  {
   "cell_type": "code",
   "execution_count": 5,
   "metadata": {},
   "outputs": [],
   "source": [
    "bs=128\n",
    "torch.cuda.set_device(2)\n",
    "# data_path = Config.data_path()\n",
    "# data_path = '/home/ec2-user/.fastai/data'\n",
    "\n",
    "lang = 'tx'\n",
    "name = f'{lang}wiki'\n",
    "path = data_path/name\n",
    "path.mkdir(exist_ok=True, parents=True)"
   ]
  },
  {
   "cell_type": "code",
   "execution_count": 6,
   "metadata": {},
   "outputs": [],
   "source": [
    "mdl_path = path/'models'\n",
    "mdl_path.mkdir(exist_ok=True)\n",
    "lm_fns = [mdl_path/f'{lang}_wt', mdl_path/f'{lang}_wt_vocab']"
   ]
  },
  {
   "cell_type": "code",
   "execution_count": 7,
   "metadata": {},
   "outputs": [
    {
     "data": {
      "text/plain": [
       "PosixPath('/home/ec2-user/.fastai/data/txwiki')"
      ]
     },
     "execution_count": 7,
     "metadata": {},
     "output_type": "execute_result"
    }
   ],
   "source": [
    "path"
   ]
  },
  {
   "cell_type": "code",
   "execution_count": 8,
   "metadata": {},
   "outputs": [
    {
     "data": {
      "text/plain": [
       "'tx'"
      ]
     },
     "execution_count": 8,
     "metadata": {},
     "output_type": "execute_result"
    }
   ],
   "source": [
    "lang"
   ]
  },
  {
   "cell_type": "markdown",
   "metadata": {},
   "source": [
    "## Turkish wikipedia model"
   ]
  },
  {
   "cell_type": "code",
   "execution_count": 8,
   "metadata": {},
   "outputs": [],
   "source": [
    "# #HBA\n",
    "# import sys\n",
    "# !{sys.executable} -m pip install wikiextractor"
   ]
  },
  {
   "cell_type": "code",
   "execution_count": 9,
   "metadata": {},
   "outputs": [],
   "source": [
    "# !pip install wikiextractor"
   ]
  },
  {
   "cell_type": "code",
   "execution_count": 9,
   "metadata": {},
   "outputs": [],
   "source": [
    "from nlputils import split_wiki,get_wiki"
   ]
  },
  {
   "cell_type": "markdown",
   "metadata": {},
   "source": [
    "## Uncompress wiki file from cli\n",
    "\n",
    "Source: https://github.com/attardi/wikiextractor\n",
    "\n",
    "1. Do `python setup.py install`\n",
    "1. Double check with: `which wikiextractor`\n",
    "\n",
    "`\n",
    "base) [ec2-user@ip-172-16-69-8 trwiki]$ which wikiextractor\n",
    "~/anaconda3/bin/wikiextractor\n",
    "`\n",
    "\n",
    "1. Uncrompress\n",
    "\n",
    "`\n",
    "(base) [ec2-user@ip-172-16-69-8 trwiki]$ python -m wikiextractor.WikiExtractor trwiki-latest-pages-articles.xml\n",
    "INFO: 2832129   Mucize Dünyası: New York – Birleşik Kahramanlar\n",
    "INFO: 2832111   Kraliyet Mühendislik Akademisi üyesi kadınlar listesi\n",
    "INFO: 2832131   Ilana Rovina\n",
    "INFO: 2832155   Artur Taymazov\n",
    "INFO: 2832130   Enka (kadın voleybol takımı) 1992-93 sezonu\n",
    "INFO: Finished 31-process extraction of 377951 articles in 123.1s (3071.5 art/s)\n",
    "INFO: total of page: 732729, total of articl page: 377951; total of used articl page: 377951\n",
    "(base) [ec2-user@ip-172-16-69-8 trwiki]$ which wikiextractor\n",
    "~/anaconda3/bin/wikiextractor\n",
    "`\n",
    "    \n"
   ]
  },
  {
   "cell_type": "code",
   "execution_count": 10,
   "metadata": {},
   "outputs": [
    {
     "name": "stdout",
     "output_type": "stream",
     "text": [
      "downloading...\n",
      "unzipping...\n",
      "extracting... akirmak\n"
     ]
    }
   ],
   "source": [
    "get_wiki(path,lang)"
   ]
  },
  {
   "cell_type": "code",
   "execution_count": 11,
   "metadata": {},
   "outputs": [
    {
     "name": "stdout",
     "output_type": "stream",
     "text": [
      "<doc id=\"10\" url=\"https://tr.wikipedia.org/wiki?curid=10\" title=\"Cengiz Han\">\r\n",
      "Cengiz Han\r\n",
      "\r\n",
      "Cengiz Han (doğum Temuçin, – 18 Ağustos 1227) ölümünden sonra tarihin en büyük yüzölçümüne sahip imparatorluğu haline gelmiş Moğol İmparatorluğu'nun kurucusu ve ilk Kağanı ve İmparatoru olan Moğol komutan ve hükümdar. 13. Yüzyılın başında Orta Asya'daki tüm göçebe bozkır kavimlerini birleştirerek bir ulus hâline getirdi ve o ulusu \"Moğol\" siyasi kimliği çatısı altında topladı.\r\n"
     ]
    }
   ],
   "source": [
    "# from nlputils import split_wiki,get_wiki\n",
    "\n",
    "# get_wiki(path,lang)\n",
    "!head -n4 {path}/{name}"
   ]
  },
  {
   "cell_type": "code",
   "execution_count": 12,
   "metadata": {},
   "outputs": [
    {
     "data": {
      "text/plain": [
       "[PosixPath('/home/ec2-user/.fastai/data/txwiki/wikiextractor-orig'),\n",
       " PosixPath('/home/ec2-user/.fastai/data/txwiki/txwiki-latest-pages-articles.xml'),\n",
       " PosixPath('/home/ec2-user/.fastai/data/txwiki/txwiki-latest-pages-articles.xml.bz2'),\n",
       " PosixPath('/home/ec2-user/.fastai/data/txwiki/log'),\n",
       " PosixPath('/home/ec2-user/.fastai/data/txwiki/wikiextractor'),\n",
       " PosixPath('/home/ec2-user/.fastai/data/txwiki/docs'),\n",
       " PosixPath('/home/ec2-user/.fastai/data/txwiki/models'),\n",
       " PosixPath('/home/ec2-user/.fastai/data/txwiki/txwiki')]"
      ]
     },
     "execution_count": 12,
     "metadata": {},
     "output_type": "execute_result"
    }
   ],
   "source": [
    "path.ls()"
   ]
  },
  {
   "cell_type": "code",
   "execution_count": 13,
   "metadata": {},
   "outputs": [
    {
     "name": "stdout",
     "output_type": "stream",
     "text": [
      "/home/ec2-user/.fastai/data/txwiki/docs already exists; not splitting\n"
     ]
    }
   ],
   "source": [
    "dest = split_wiki(path,lang)"
   ]
  },
  {
   "cell_type": "code",
   "execution_count": 14,
   "metadata": {},
   "outputs": [
    {
     "data": {
      "text/plain": [
       "[PosixPath('/home/ec2-user/.fastai/data/txwiki/docs/Kara delik.txt'),\n",
       " PosixPath('/home/ec2-user/.fastai/data/txwiki/docs/Heaviside katmanı.txt'),\n",
       " PosixPath('/home/ec2-user/.fastai/data/txwiki/docs/Zurna.txt'),\n",
       " PosixPath('/home/ec2-user/.fastai/data/txwiki/docs/Özallı Yıllar.txt'),\n",
       " PosixPath('/home/ec2-user/.fastai/data/txwiki/docs/Kuşça, Cihanbeyli.txt')]"
      ]
     },
     "execution_count": 14,
     "metadata": {},
     "output_type": "execute_result"
    }
   ],
   "source": [
    "dest.ls()[:5]"
   ]
  },
  {
   "cell_type": "code",
   "execution_count": 15,
   "metadata": {},
   "outputs": [
    {
     "data": {
      "text/plain": [
       "PosixPath('/home/ec2-user/.fastai/data/txwiki/docs')"
      ]
     },
     "execution_count": 15,
     "metadata": {},
     "output_type": "execute_result"
    }
   ],
   "source": [
    "dest"
   ]
  },
  {
   "cell_type": "code",
   "execution_count": null,
   "metadata": {},
   "outputs": [],
   "source": []
  },
  {
   "cell_type": "code",
   "execution_count": null,
   "metadata": {},
   "outputs": [],
   "source": []
  },
  {
   "cell_type": "markdown",
   "metadata": {},
   "source": [
    "Turkish is an [Agglutinative_language](https://en.wikipedia.org/wiki/Agglutinative_language) so it needs special care!\n",
    "\n",
    "![Turkish morphemes example](images/turkish.jpg)"
   ]
  },
  {
   "cell_type": "markdown",
   "metadata": {},
   "source": [
    "# HBA fix\n",
    "\n",
    "1. Open via: `vi ~/SageMaker/.env/fastai/lib/python3.6/site-packages/fastai/text/data.py`\n",
    "1. see: https://forums.fast.ai/t/multifit-runtime-error-permission-denied/72874/5\n",
    "1. See: https://github.com/fastai/fastai/issues/2572 "
   ]
  },
  {
   "cell_type": "code",
   "execution_count": null,
   "metadata": {
    "scrolled": false
   },
   "outputs": [],
   "source": []
  },
  {
   "cell_type": "code",
   "execution_count": 16,
   "metadata": {},
   "outputs": [
    {
     "data": {
      "text/plain": [
       "PosixPath('/home/ec2-user/.fastai/data/txwiki/docs')"
      ]
     },
     "execution_count": 16,
     "metadata": {},
     "output_type": "execute_result"
    }
   ],
   "source": [
    "dest"
   ]
  },
  {
   "cell_type": "code",
   "execution_count": 17,
   "metadata": {},
   "outputs": [
    {
     "data": {
      "text/plain": [
       "[PosixPath('/home/ec2-user/.fastai/data/txwiki/docs/Kara delik.txt'),\n",
       " PosixPath('/home/ec2-user/.fastai/data/txwiki/docs/Heaviside katmanı.txt'),\n",
       " PosixPath('/home/ec2-user/.fastai/data/txwiki/docs/Zurna.txt'),\n",
       " PosixPath('/home/ec2-user/.fastai/data/txwiki/docs/Özallı Yıllar.txt'),\n",
       " PosixPath('/home/ec2-user/.fastai/data/txwiki/docs/Kuşça, Cihanbeyli.txt')]"
      ]
     },
     "execution_count": 17,
     "metadata": {},
     "output_type": "execute_result"
    }
   ],
   "source": [
    "dest.ls()[:5]"
   ]
  },
  {
   "cell_type": "code",
   "execution_count": 18,
   "metadata": {},
   "outputs": [
    {
     "name": "stdout",
     "output_type": "stream",
     "text": [
      "56219\r\n"
     ]
    }
   ],
   "source": [
    "#PRINT NUMBER OF FILES IN DIR\n",
    "!find /home/ec2-user/.fastai/data/txwiki/docs -mindepth 1 -maxdepth 1 -printf '.' | wc -c"
   ]
  },
  {
   "cell_type": "code",
   "execution_count": null,
   "metadata": {},
   "outputs": [],
   "source": [
    "#REMOVE ALL BUT 1O FILES\n",
    "# !ls -1tr /home/ec2-user/.fastai/data/txwiki/docs | head -n -100 | xargs -d '\\n' rm -f --"
   ]
  },
  {
   "cell_type": "code",
   "execution_count": null,
   "metadata": {},
   "outputs": [],
   "source": [
    "# # x.sh\n",
    "# cp \"Zurna.txt\" ../docs-100/\n",
    "# cp \"Ulucak Höyüğü.txt\" ../docs-100/\n",
    "# cp \"Özallı Yıllar.txt\" ../docs-100/\n",
    "# cp \"Kuşça, Cihanbeyli.txt\" ../docs-100/\n",
    "# cp \"Kara delik.txt\" ../docs-100/\n",
    "# cp \"Heaviside katmanı.txt\" ../docs-100/\n",
    "# cp \"Çağlar Söyüncü.txt\" ../docs-100/\n",
    "# cp \"Bilim ve Teknik.txt\" ../docs-100/\n",
    "# cp \"Arş.txt\" ../docs-100/\n",
    "# cp \"Amnesia: Dark Descent.txt\" ../docs-100/\n",
    "# cp \"Yunancanın romanizasyonu.txt\" ../docs-100/\n",
    "# cp \"Yön Tanrıları.txt\" ../docs-100/\n",
    "# cp \"Yemeksepeti.com.txt\" ../docs-100/\n",
    "# cp \"Yaman, Mudanya.txt\" ../docs-100/\n",
    "# cp \"WWE 24_7 Championship.txt\" ../docs-100/\n",
    "# cp \"Wilhelm Reich.txt\" ../docs-100/\n",
    "# cp \"Web grafik tasarımı.txt\" ../docs-100/\n",
    "# cp \"Vuslat Doğan Sabancı.txt\" ../docs-100/\n",
    "# cp \"Vladislav Tretyak.txt\" ../docs-100/\n",
    "# cp \"VIII. Henry.txt\" ../docs-100/\n",
    "# cp \"Us (The Walking Dead).txt\" ../docs-100/\n",
    "# cp \"USS Arizona (BB-39).txt\" ../docs-100/\n",
    "# cp \"Türk Kurtuluş Savaşı sırasında katliamlar.txt\" ../docs-100/\n",
    "# cp \"TRT 1.txt\" ../docs-100/\n",
    "# cp \"Transvaal Cumhuriyeti.txt\" ../docs-100/\n",
    "# cp \"Trabzon Konferansı.txt\" ../docs-100/\n",
    "# cp \"Today Was a Fairytale.txt\" ../docs-100/\n",
    "# cp \"Tehlikeli Oyun (film, 2008).txt\" ../docs-100/\n",
    "# cp \"TCG Berk.txt\" ../docs-100/\n",
    "# cp \"Taziz.txt\" ../docs-100/\n",
    "# cp \"Taye Taiwo.txt\" ../docs-100/\n",
    "# cp \"Tatyana Volosojar.txt\" ../docs-100/\n",
    "# cp \"Tanzanya arması.txt\" ../docs-100/\n",
    "# cp \"Süleyman Türkünal.txt\" ../docs-100/\n",
    "# cp \"Street Fighter (video oyunu).txt\" ../docs-100/\n",
    "# cp \"Sons of Anarchy.txt\" ../docs-100/\n",
    "# cp \"Sol SR.txt\" ../docs-100/\n",
    "# cp \"Sloven İstihbarat ve Güvenlik Ajansı.txt\" ../docs-100/\n",
    "# cp \"Simon bar Kohba.txt\" ../docs-100/\n",
    "# cp \"Silverline Ankastre.txt\" ../docs-100/\n",
    "# cp \"Sıçansılar (balık).txt\" ../docs-100/\n",
    "# cp \"Shim Changmin.txt\" ../docs-100/\n",
    "# cp \"Seş.txt\" ../docs-100/\n",
    "# cp \"Şar Dağları.txt\" ../docs-100/\n",
    "# cp \"San Marino millî futbol takımı.txt\" ../docs-100/\n",
    "# cp \"Saga Norén.txt\" ../docs-100/\n",
    "# cp \"Robot of Sherwood.txt\" ../docs-100/\n",
    "# cp \"Refik Turan.txt\" ../docs-100/\n",
    "# cp \"RaceRoom.txt\" ../docs-100/\n",
    "# cp \"Porsche 911 GT2.txt\" ../docs-100/\n",
    "# cp \"Piçan İlçesi.txt\" ../docs-100/\n",
    "# cp \"Perşa Liha.txt\" ../docs-100/\n",
    "# cp \"Perpa.txt\" ../docs-100/\n",
    "# cp \"Pepsi Twist.txt\" ../docs-100/\n",
    "# cp \"Outlook Express.txt\" ../docs-100/\n",
    "# cp \"Öter ardıç kuşu.txt\" ../docs-100/\n",
    "# cp \"Østfold.txt\" ../docs-100/\n",
    "# cp \"Ortak varlıkların trajedisi.txt\" ../docs-100/\n",
    "# cp \"Ondokuz Mayıs Üniversitesi.txt\" ../docs-100/\n",
    "# cp \"Ömer Dinçer.txt\" ../docs-100/\n",
    "# cp \"Nissim Kamondo.txt\" ../docs-100/\n",
    "# cp \"Nif geni.txt\" ../docs-100/\n",
    "# cp \"Nick Hornby.txt\" ../docs-100/\n",
    "# cp \"Neo Geo.txt\" ../docs-100/\n",
    "# cp \"NBA Yılın En İyi Beşi.txt\" ../docs-100/\n",
    "# cp \"Nancy Atakan.txt\" ../docs-100/\n",
    "# cp \"Nacho Vidal.txt\" ../docs-100/\n",
    "# cp \"Mukor.txt\" ../docs-100/\n",
    "# cp \"Miuccia Prada.txt\" ../docs-100/\n",
    "# cp \"Millî marş.txt\" ../docs-100/\n",
    "# cp \"Millet İttifakı.txt\" ../docs-100/\n",
    "# cp \"Mikio Oda.txt\" ../docs-100/\n",
    "# cp \"Matvey Muranov.txt\" ../docs-100/\n",
    "# cp \"Maliye Bakanlığı (Azerbaycan).txt\" ../docs-100/\n",
    "# cp \"Malabadi Köprüsü.txt\" ../docs-100/\n",
    "# cp \"Makas Eller.txt\" ../docs-100/\n",
    "# cp \"Lund Üniversitesi.txt\" ../docs-100/\n",
    "# cp \"Liemba.txt\" ../docs-100/\n",
    "# cp \"LA X.txt\" ../docs-100/\n",
    "# cp \"Lando Buzzanca.txt\" ../docs-100/\n",
    "# cp \"Kutsal Duman.txt\" ../docs-100/\n",
    "# cp \"Kurtlar Vadisi bölümleri listesi.txt\" ../docs-100/\n",
    "# cp \"Kuch Kuch Hota Hai.txt\" ../docs-100/\n",
    "# cp \"Koyulhisar.txt\" ../docs-100/\n",
    "# cp \"Kökpar.txt\" ../docs-100/\n",
    "# cp \"Kitap tasarımı.txt\" ../docs-100/\n",
    "# cp \"Kelime.txt\" ../docs-100/\n",
    "# cp \"Kazatomprom.txt\" ../docs-100/\n",
    "# cp \"Kayseri'de 2009 Türkiye yerel seçimleri.txt\" ../docs-100/\n",
    "# cp \"Karpal tünel sendromu.txt\" ../docs-100/\n",
    "# cp \"Kanserojen.txt\" ../docs-100/\n",
    "# cp \"Joseph Henry.txt\" ../docs-100/\n",
    "# cp \"José Bosingwa.txt\" ../docs-100/\n",
    "# cp \"John 5.txt\" ../docs-100/\n",
    "# cp \"Je suis Charlie.txt\" ../docs-100/\n",
    "# cp \"Jesse Ventura.txt\" ../docs-100/\n",
    "# cp \"Jérôme Rothen.txt\" ../docs-100/\n",
    "# cp \"Japon militarizmi.txt\" ../docs-100/\n",
    "# cp \"Iustinus.txt\" ../docs-100/\n",
    "# cp \"İstihbarat Bakanlığı (İran).txt\" ../docs-100/\n"
   ]
  },
  {
   "cell_type": "code",
   "execution_count": 19,
   "metadata": {},
   "outputs": [
    {
     "name": "stdout",
     "output_type": "stream",
     "text": [
      "100\r\n"
     ]
    }
   ],
   "source": [
    "#PRINT NUMBER OF FILES IN DIR\n",
    "!find /home/ec2-user/.fastai/data/txwiki/docs -mindepth 1 -maxdepth 1 -printf '.' | wc -c"
   ]
  },
  {
   "cell_type": "code",
   "execution_count": 20,
   "metadata": {},
   "outputs": [
    {
     "data": {
      "text/html": [],
      "text/plain": [
       "<IPython.core.display.HTML object>"
      ]
     },
     "metadata": {},
     "output_type": "display_data"
    },
    {
     "name": "stderr",
     "output_type": "stream",
     "text": [
      "/home/ec2-user/SageMaker/.env/fastai/lib/python3.6/site-packages/fastai/text/data.py:476: VisibleDeprecationWarning: Creating an ndarray from ragged nested sequences (which is a list-or-tuple of lists-or-tuples-or ndarrays with different lengths or shapes) is deprecated. If you meant to do this, you must specify 'dtype=object' when creating the ndarray\n",
      "  ds.items = np.array(sum(e.map(self._encode_batch, partition_by_cores(ds.items, self.n_cpus)), []))\n"
     ]
    },
    {
     "data": {
      "text/html": [],
      "text/plain": [
       "<IPython.core.display.HTML object>"
      ]
     },
     "metadata": {},
     "output_type": "display_data"
    },
    {
     "data": {
      "text/plain": [
       "(5736, 90)"
      ]
     },
     "execution_count": 20,
     "metadata": {},
     "output_type": "execute_result"
    }
   ],
   "source": [
    "data = (TextList.from_folder(dest, processor=[OpenFileProcessor(), SPProcessor()])\n",
    "        .split_by_rand_pct(0.1, seed=42)\n",
    "        .label_for_lm()\n",
    "        .databunch(bs=bs, num_workers=1))\n",
    "\n",
    "data.save(f'{lang}_databunch')\n",
    "len(data.vocab.itos),len(data.train_ds)"
   ]
  },
  {
   "cell_type": "code",
   "execution_count": 21,
   "metadata": {},
   "outputs": [],
   "source": [
    "data = load_data(dest, f'{lang}_databunch', bs=bs)"
   ]
  },
  {
   "cell_type": "code",
   "execution_count": 22,
   "metadata": {},
   "outputs": [
    {
     "name": "stderr",
     "output_type": "stream",
     "text": [
      "/home/ec2-user/SageMaker/.env/fastai/lib/python3.6/site-packages/fastai/text/data.py:339: UserWarning: This overload of nonzero is deprecated:\n",
      "\tnonzero()\n",
      "Consider using one of the following signatures instead:\n",
      "\tnonzero(*, bool as_tuple) (Triggered internally at  /pytorch/torch/csrc/utils/python_arg_parser.cpp:766.)\n",
      "  idx_min = (t != self.pad_idx).nonzero().min()\n"
     ]
    },
    {
     "data": {
      "text/html": [
       "<table border=\"1\" class=\"dataframe\">\n",
       "  <thead>\n",
       "    <tr style=\"text-align: right;\">\n",
       "      <th>idx</th>\n",
       "      <th>text</th>\n",
       "    </tr>\n",
       "  </thead>\n",
       "  <tbody>\n",
       "    <tr>\n",
       "      <td>0</td>\n",
       "      <td>. ▁yükseklik ten ▁sonra ▁başlar . ▁xxmaj ▁bu ▁ismi n ▁veril mesi nin ▁sebebi ▁i yon osfer ▁bölgesinde ▁güneş ▁rüzg ar ı ▁ve ▁ko z mik ▁ ışık ▁gibi ▁uzay ▁kaynak lı ▁etkiler den ▁ötürü ▁i yon ▁yoğunluğu nun ▁yüksek ▁oluş u dur . ▁xxmaj ▁bu ▁i yon lar ▁çeşitli ▁ara ▁katman lara ▁yol ▁açar . ▁xxmaj ▁bilim ▁dünya sında ▁bu ▁ara ▁katman lar ▁xxup ▁ d , e ,</td>\n",
       "    </tr>\n",
       "    <tr>\n",
       "      <td>1</td>\n",
       "      <td>▁ar x e oloji ▁kazı n tılar ▁zaman ı ▁mar al ▁ boynuz un dan ▁hazırlanmış ▁dört ▁adet ▁zurna ▁ aş kar ▁edilmişti r . ▁xxmaj ▁bilim ▁adam larının ▁hesap lama larına ▁göre , ▁yüksek ▁ ze v k le ▁yapılmış ▁bu ▁çalgı ların ▁üç ▁bin ▁yıl ▁yaş ı ▁vardır . ▁xxmaj ▁esasen ▁erik , ▁ceviz , ▁ ya ba nı ▁ s öğüt ▁ve ▁ du t ▁ağa c</td>\n",
       "    </tr>\n",
       "    <tr>\n",
       "      <td>2</td>\n",
       "      <td>▁xxmaj ▁demir el ' in ▁tekrar ▁başbakan ▁olması , ▁xxmaj ▁özal ' ın ▁hem ▁xxmaj ▁demir el ▁hem ▁de ▁xxmaj ▁yılmaz ▁ile ▁anlaşma z lığı , ▁xxmaj ▁özal ' ın ▁anap ' tan ▁ko p u şu , ▁yeni ▁parti ▁ arayışlar ı ▁ve ▁ ölümüne ▁yer ▁verildi . ▁&lt; ▁/ ▁ doc &gt; ▁xxbos ▁xxmaj ▁kuşça , ▁xxmaj ▁cihanbeyli ▁xxmaj ▁kuşca ▁( k ür t çe : ▁xxmaj ▁he</td>\n",
       "    </tr>\n",
       "    <tr>\n",
       "      <td>3</td>\n",
       "      <td>7 ▁cm ) ö l ç ü lerinde ▁basıl maya ▁başlan dı . ▁2001 ▁yılında ▁xxmaj ▁i ̇ r f an ▁xxmaj ▁say ar ' ın ▁çiz diği ▁xxmaj ▁ zi h ni ▁xxmaj ▁sinir ' in ▁\" p ro ce lerini \" ▁yayınla maya ▁başladı . ▁xxmaj ▁bu ▁yıl da ▁400 . ▁sayısında ▁( mar t ▁2001 ) ▁birlikte ▁ek ▁olarak ▁\" i ̇ nsan ▁xxmaj ▁genomu \" ▁verildi</td>\n",
       "    </tr>\n",
       "    <tr>\n",
       "      <td>4</td>\n",
       "      <td>▁sonra ▁xxmaj ▁daniel ▁bir ▁ ışık ▁görür ▁ve ▁xxmaj ▁ag rip pa ' nın ▁sesi ▁duyul ur ; ▁xxmaj ▁w e ye r ' a ▁xxmaj ▁daniel ' ı ▁kurtar mak ▁için ▁bir ▁şey ▁yap masını ▁söyler ▁ve ▁xxmaj ▁daniel ▁hayat a ▁geri ▁döner . ▁&lt; br &gt; ▁xxmaj ▁gizli ▁xxmaj ▁son : ▁xxmaj ▁alexander , ▁xxmaj ▁daniel ' ı ▁hücre ye ▁atar ▁ve ▁ona ▁bekle mesi ni ▁söyler .</td>\n",
       "    </tr>\n",
       "  </tbody>\n",
       "</table>"
      ],
      "text/plain": [
       "<IPython.core.display.HTML object>"
      ]
     },
     "metadata": {},
     "output_type": "display_data"
    }
   ],
   "source": [
    "data.show_batch()"
   ]
  },
  {
   "cell_type": "code",
   "execution_count": 23,
   "metadata": {
    "scrolled": false
   },
   "outputs": [],
   "source": [
    "learn = language_model_learner(data, AWD_LSTM, drop_mult=0.1, wd=0.1, pretrained=False).to_fp16()"
   ]
  },
  {
   "cell_type": "markdown",
   "metadata": {},
   "source": [
    "# HBA French"
   ]
  },
  {
   "cell_type": "code",
   "execution_count": 79,
   "metadata": {},
   "outputs": [
    {
     "data": {
      "text/html": [
       "\n",
       "    <div>\n",
       "        <style>\n",
       "            /* Turns off some styling */\n",
       "            progress {\n",
       "                /* gets rid of default border in Firefox and Opera. */\n",
       "                border: none;\n",
       "                /* Needs to be in here for Safari polyfill so background images work as expected. */\n",
       "                background-size: auto;\n",
       "            }\n",
       "            .progress-bar-interrupted, .progress-bar-interrupted::-webkit-progress-bar {\n",
       "                background: #F44336;\n",
       "            }\n",
       "        </style>\n",
       "      <progress value='6' class='' max='7' style='width:300px; height:20px; vertical-align: middle;'></progress>\n",
       "      85.71% [6/7 01:05<00:10]\n",
       "    </div>\n",
       "    \n",
       "<table border=\"1\" class=\"dataframe\">\n",
       "  <thead>\n",
       "    <tr style=\"text-align: left;\">\n",
       "      <th>epoch</th>\n",
       "      <th>train_loss</th>\n",
       "      <th>valid_loss</th>\n",
       "      <th>accuracy</th>\n",
       "      <th>time</th>\n",
       "    </tr>\n",
       "  </thead>\n",
       "  <tbody>\n",
       "    <tr>\n",
       "      <td>0</td>\n",
       "      <td>6.641625</td>\n",
       "      <td>#na#</td>\n",
       "      <td>00:10</td>\n",
       "    </tr>\n",
       "    <tr>\n",
       "      <td>1</td>\n",
       "      <td>6.640193</td>\n",
       "      <td>#na#</td>\n",
       "      <td>00:10</td>\n",
       "    </tr>\n",
       "    <tr>\n",
       "      <td>2</td>\n",
       "      <td>6.640217</td>\n",
       "      <td>#na#</td>\n",
       "      <td>00:10</td>\n",
       "    </tr>\n",
       "    <tr>\n",
       "      <td>3</td>\n",
       "      <td>6.640306</td>\n",
       "      <td>#na#</td>\n",
       "      <td>00:10</td>\n",
       "    </tr>\n",
       "    <tr>\n",
       "      <td>4</td>\n",
       "      <td>6.640304</td>\n",
       "      <td>#na#</td>\n",
       "      <td>00:10</td>\n",
       "    </tr>\n",
       "    <tr>\n",
       "      <td>5</td>\n",
       "      <td>6.641004</td>\n",
       "      <td>#na#</td>\n",
       "      <td>00:10</td>\n",
       "    </tr>\n",
       "  </tbody>\n",
       "</table><p>\n",
       "\n",
       "    <div>\n",
       "        <style>\n",
       "            /* Turns off some styling */\n",
       "            progress {\n",
       "                /* gets rid of default border in Firefox and Opera. */\n",
       "                border: none;\n",
       "                /* Needs to be in here for Safari polyfill so background images work as expected. */\n",
       "                background-size: auto;\n",
       "            }\n",
       "            .progress-bar-interrupted, .progress-bar-interrupted::-webkit-progress-bar {\n",
       "                background: #F44336;\n",
       "            }\n",
       "        </style>\n",
       "      <progress value='3' class='' max='16' style='width:300px; height:20px; vertical-align: middle;'></progress>\n",
       "      18.75% [3/16 00:02<00:08 6.6389]\n",
       "    </div>\n",
       "    "
      ],
      "text/plain": [
       "<IPython.core.display.HTML object>"
      ]
     },
     "metadata": {},
     "output_type": "display_data"
    },
    {
     "name": "stdout",
     "output_type": "stream",
     "text": [
      "LR Finder is complete, type {learner_name}.recorder.plot() to see the graph.\n"
     ]
    }
   ],
   "source": [
    "learn.lr_find()"
   ]
  },
  {
   "cell_type": "code",
   "execution_count": null,
   "metadata": {},
   "outputs": [],
   "source": [
    "learn.lr_find(stop_div=False, num_it=5)"
   ]
  },
  {
   "cell_type": "code",
   "execution_count": 80,
   "metadata": {},
   "outputs": [
    {
     "name": "stdout",
     "output_type": "stream",
     "text": [
      "Min numerical gradient: 8.32E-06\n",
      "Min loss divided by 10: 1.32E-01\n"
     ]
    },
    {
     "data": {
      "image/png": "[encoded data removed]",
      "text/plain": [
       "<Figure size 432x288 with 1 Axes>"
      ]
     },
     "metadata": {
      "needs_background": "light"
     },
     "output_type": "display_data"
    }
   ],
   "source": [
    "learn.recorder.plot(suggestion=True)"
   ]
  },
  {
   "cell_type": "code",
   "execution_count": 24,
   "metadata": {},
   "outputs": [],
   "source": [
    "lr = 3e-3\n",
    "lr *= bs/48  # Scale learning rate by batch size"
   ]
  },
  {
   "cell_type": "code",
   "execution_count": 25,
   "metadata": {},
   "outputs": [
    {
     "data": {
      "text/html": [
       "<table border=\"1\" class=\"dataframe\">\n",
       "  <thead>\n",
       "    <tr style=\"text-align: left;\">\n",
       "      <th>epoch</th>\n",
       "      <th>train_loss</th>\n",
       "      <th>valid_loss</th>\n",
       "      <th>accuracy</th>\n",
       "      <th>time</th>\n",
       "    </tr>\n",
       "  </thead>\n",
       "  <tbody>\n",
       "    <tr>\n",
       "      <td>0</td>\n",
       "      <td>7.656495</td>\n",
       "      <td>6.846730</td>\n",
       "      <td>0.056994</td>\n",
       "      <td>00:17</td>\n",
       "    </tr>\n",
       "    <tr>\n",
       "      <td>1</td>\n",
       "      <td>7.206811</td>\n",
       "      <td>7.901802</td>\n",
       "      <td>0.038951</td>\n",
       "      <td>00:16</td>\n",
       "    </tr>\n",
       "    <tr>\n",
       "      <td>2</td>\n",
       "      <td>7.146518</td>\n",
       "      <td>6.850193</td>\n",
       "      <td>0.056994</td>\n",
       "      <td>00:16</td>\n",
       "    </tr>\n",
       "    <tr>\n",
       "      <td>3</td>\n",
       "      <td>6.994226</td>\n",
       "      <td>6.723795</td>\n",
       "      <td>0.056994</td>\n",
       "      <td>00:16</td>\n",
       "    </tr>\n",
       "    <tr>\n",
       "      <td>4</td>\n",
       "      <td>6.892519</td>\n",
       "      <td>6.729263</td>\n",
       "      <td>0.056994</td>\n",
       "      <td>00:17</td>\n",
       "    </tr>\n",
       "    <tr>\n",
       "      <td>5</td>\n",
       "      <td>6.824438</td>\n",
       "      <td>6.711360</td>\n",
       "      <td>0.056994</td>\n",
       "      <td>00:16</td>\n",
       "    </tr>\n",
       "    <tr>\n",
       "      <td>6</td>\n",
       "      <td>6.777204</td>\n",
       "      <td>6.704089</td>\n",
       "      <td>0.056994</td>\n",
       "      <td>00:17</td>\n",
       "    </tr>\n",
       "    <tr>\n",
       "      <td>7</td>\n",
       "      <td>6.742869</td>\n",
       "      <td>6.696327</td>\n",
       "      <td>0.056994</td>\n",
       "      <td>00:17</td>\n",
       "    </tr>\n",
       "    <tr>\n",
       "      <td>8</td>\n",
       "      <td>6.714705</td>\n",
       "      <td>6.692200</td>\n",
       "      <td>0.056994</td>\n",
       "      <td>00:17</td>\n",
       "    </tr>\n",
       "    <tr>\n",
       "      <td>9</td>\n",
       "      <td>6.693724</td>\n",
       "      <td>6.691544</td>\n",
       "      <td>0.056994</td>\n",
       "      <td>00:17</td>\n",
       "    </tr>\n",
       "  </tbody>\n",
       "</table>"
      ],
      "text/plain": [
       "<IPython.core.display.HTML object>"
      ]
     },
     "metadata": {},
     "output_type": "display_data"
    },
    {
     "name": "stderr",
     "output_type": "stream",
     "text": [
      "/home/ec2-user/SageMaker/.env/fastai/lib/python3.6/site-packages/torch/nn/modules/module.py:1319: UserWarning: The .grad attribute of a Tensor that is not a leaf Tensor is being accessed. Its .grad attribute won't be populated during autograd.backward(). If you indeed want the gradient for a non-leaf Tensor, use .retain_grad() on the non-leaf Tensor. If you access the non-leaf Tensor by mistake, make sure you access the leaf Tensor instead. See github.com/pytorch/pytorch/pull/30531 for more informations.\n",
      "  if p.grad is not None:\n",
      "/home/ec2-user/SageMaker/.env/fastai/lib/python3.6/site-packages/torch/nn/modules/module.py:1319: UserWarning: The .grad attribute of a Tensor that is not a leaf Tensor is being accessed. Its .grad attribute won't be populated during autograd.backward(). If you indeed want the gradient for a non-leaf Tensor, use .retain_grad() on the non-leaf Tensor. If you access the non-leaf Tensor by mistake, make sure you access the leaf Tensor instead. See github.com/pytorch/pytorch/pull/30531 for more informations.\n",
      "  if p.grad is not None:\n",
      "/home/ec2-user/SageMaker/.env/fastai/lib/python3.6/site-packages/torch/nn/modules/module.py:1319: UserWarning: The .grad attribute of a Tensor that is not a leaf Tensor is being accessed. Its .grad attribute won't be populated during autograd.backward(). If you indeed want the gradient for a non-leaf Tensor, use .retain_grad() on the non-leaf Tensor. If you access the non-leaf Tensor by mistake, make sure you access the leaf Tensor instead. See github.com/pytorch/pytorch/pull/30531 for more informations.\n",
      "  if p.grad is not None:\n",
      "/home/ec2-user/SageMaker/.env/fastai/lib/python3.6/site-packages/torch/nn/modules/module.py:1319: UserWarning: The .grad attribute of a Tensor that is not a leaf Tensor is being accessed. Its .grad attribute won't be populated during autograd.backward(). If you indeed want the gradient for a non-leaf Tensor, use .retain_grad() on the non-leaf Tensor. If you access the non-leaf Tensor by mistake, make sure you access the leaf Tensor instead. See github.com/pytorch/pytorch/pull/30531 for more informations.\n",
      "  if p.grad is not None:\n",
      "/home/ec2-user/SageMaker/.env/fastai/lib/python3.6/site-packages/torch/nn/modules/module.py:1319: UserWarning: The .grad attribute of a Tensor that is not a leaf Tensor is being accessed. Its .grad attribute won't be populated during autograd.backward(). If you indeed want the gradient for a non-leaf Tensor, use .retain_grad() on the non-leaf Tensor. If you access the non-leaf Tensor by mistake, make sure you access the leaf Tensor instead. See github.com/pytorch/pytorch/pull/30531 for more informations.\n",
      "  if p.grad is not None:\n",
      "/home/ec2-user/SageMaker/.env/fastai/lib/python3.6/site-packages/torch/nn/modules/module.py:1319: UserWarning: The .grad attribute of a Tensor that is not a leaf Tensor is being accessed. Its .grad attribute won't be populated during autograd.backward(). If you indeed want the gradient for a non-leaf Tensor, use .retain_grad() on the non-leaf Tensor. If you access the non-leaf Tensor by mistake, make sure you access the leaf Tensor instead. See github.com/pytorch/pytorch/pull/30531 for more informations.\n",
      "  if p.grad is not None:\n",
      "/home/ec2-user/SageMaker/.env/fastai/lib/python3.6/site-packages/torch/nn/modules/module.py:1319: UserWarning: The .grad attribute of a Tensor that is not a leaf Tensor is being accessed. Its .grad attribute won't be populated during autograd.backward(). If you indeed want the gradient for a non-leaf Tensor, use .retain_grad() on the non-leaf Tensor. If you access the non-leaf Tensor by mistake, make sure you access the leaf Tensor instead. See github.com/pytorch/pytorch/pull/30531 for more informations.\n",
      "  if p.grad is not None:\n",
      "/home/ec2-user/SageMaker/.env/fastai/lib/python3.6/site-packages/torch/nn/modules/module.py:1319: UserWarning: The .grad attribute of a Tensor that is not a leaf Tensor is being accessed. Its .grad attribute won't be populated during autograd.backward(). If you indeed want the gradient for a non-leaf Tensor, use .retain_grad() on the non-leaf Tensor. If you access the non-leaf Tensor by mistake, make sure you access the leaf Tensor instead. See github.com/pytorch/pytorch/pull/30531 for more informations.\n",
      "  if p.grad is not None:\n",
      "/home/ec2-user/SageMaker/.env/fastai/lib/python3.6/site-packages/torch/nn/modules/module.py:1319: UserWarning: The .grad attribute of a Tensor that is not a leaf Tensor is being accessed. Its .grad attribute won't be populated during autograd.backward(). If you indeed want the gradient for a non-leaf Tensor, use .retain_grad() on the non-leaf Tensor. If you access the non-leaf Tensor by mistake, make sure you access the leaf Tensor instead. See github.com/pytorch/pytorch/pull/30531 for more informations.\n",
      "  if p.grad is not None:\n",
      "/home/ec2-user/SageMaker/.env/fastai/lib/python3.6/site-packages/torch/nn/modules/module.py:1319: UserWarning: The .grad attribute of a Tensor that is not a leaf Tensor is being accessed. Its .grad attribute won't be populated during autograd.backward(). If you indeed want the gradient for a non-leaf Tensor, use .retain_grad() on the non-leaf Tensor. If you access the non-leaf Tensor by mistake, make sure you access the leaf Tensor instead. See github.com/pytorch/pytorch/pull/30531 for more informations.\n",
      "  if p.grad is not None:\n",
      "/home/ec2-user/SageMaker/.env/fastai/lib/python3.6/site-packages/torch/nn/modules/module.py:1319: UserWarning: The .grad attribute of a Tensor that is not a leaf Tensor is being accessed. Its .grad attribute won't be populated during autograd.backward(). If you indeed want the gradient for a non-leaf Tensor, use .retain_grad() on the non-leaf Tensor. If you access the non-leaf Tensor by mistake, make sure you access the leaf Tensor instead. See github.com/pytorch/pytorch/pull/30531 for more informations.\n",
      "  if p.grad is not None:\n",
      "/home/ec2-user/SageMaker/.env/fastai/lib/python3.6/site-packages/torch/nn/modules/module.py:1319: UserWarning: The .grad attribute of a Tensor that is not a leaf Tensor is being accessed. Its .grad attribute won't be populated during autograd.backward(). If you indeed want the gradient for a non-leaf Tensor, use .retain_grad() on the non-leaf Tensor. If you access the non-leaf Tensor by mistake, make sure you access the leaf Tensor instead. See github.com/pytorch/pytorch/pull/30531 for more informations.\n",
      "  if p.grad is not None:\n",
      "/home/ec2-user/SageMaker/.env/fastai/lib/python3.6/site-packages/torch/nn/modules/module.py:1319: UserWarning: The .grad attribute of a Tensor that is not a leaf Tensor is being accessed. Its .grad attribute won't be populated during autograd.backward(). If you indeed want the gradient for a non-leaf Tensor, use .retain_grad() on the non-leaf Tensor. If you access the non-leaf Tensor by mistake, make sure you access the leaf Tensor instead. See github.com/pytorch/pytorch/pull/30531 for more informations.\n",
      "  if p.grad is not None:\n",
      "/home/ec2-user/SageMaker/.env/fastai/lib/python3.6/site-packages/torch/nn/modules/module.py:1319: UserWarning: The .grad attribute of a Tensor that is not a leaf Tensor is being accessed. Its .grad attribute won't be populated during autograd.backward(). If you indeed want the gradient for a non-leaf Tensor, use .retain_grad() on the non-leaf Tensor. If you access the non-leaf Tensor by mistake, make sure you access the leaf Tensor instead. See github.com/pytorch/pytorch/pull/30531 for more informations.\n",
      "  if p.grad is not None:\n",
      "/home/ec2-user/SageMaker/.env/fastai/lib/python3.6/site-packages/torch/nn/modules/module.py:1319: UserWarning: The .grad attribute of a Tensor that is not a leaf Tensor is being accessed. Its .grad attribute won't be populated during autograd.backward(). If you indeed want the gradient for a non-leaf Tensor, use .retain_grad() on the non-leaf Tensor. If you access the non-leaf Tensor by mistake, make sure you access the leaf Tensor instead. See github.com/pytorch/pytorch/pull/30531 for more informations.\n",
      "  if p.grad is not None:\n",
      "/home/ec2-user/SageMaker/.env/fastai/lib/python3.6/site-packages/torch/nn/modules/module.py:1319: UserWarning: The .grad attribute of a Tensor that is not a leaf Tensor is being accessed. Its .grad attribute won't be populated during autograd.backward(). If you indeed want the gradient for a non-leaf Tensor, use .retain_grad() on the non-leaf Tensor. If you access the non-leaf Tensor by mistake, make sure you access the leaf Tensor instead. See github.com/pytorch/pytorch/pull/30531 for more informations.\n",
      "  if p.grad is not None:\n",
      "/home/ec2-user/SageMaker/.env/fastai/lib/python3.6/site-packages/torch/nn/modules/module.py:1319: UserWarning: The .grad attribute of a Tensor that is not a leaf Tensor is being accessed. Its .grad attribute won't be populated during autograd.backward(). If you indeed want the gradient for a non-leaf Tensor, use .retain_grad() on the non-leaf Tensor. If you access the non-leaf Tensor by mistake, make sure you access the leaf Tensor instead. See github.com/pytorch/pytorch/pull/30531 for more informations.\n",
      "  if p.grad is not None:\n",
      "/home/ec2-user/SageMaker/.env/fastai/lib/python3.6/site-packages/torch/nn/modules/module.py:1319: UserWarning: The .grad attribute of a Tensor that is not a leaf Tensor is being accessed. Its .grad attribute won't be populated during autograd.backward(). If you indeed want the gradient for a non-leaf Tensor, use .retain_grad() on the non-leaf Tensor. If you access the non-leaf Tensor by mistake, make sure you access the leaf Tensor instead. See github.com/pytorch/pytorch/pull/30531 for more informations.\n",
      "  if p.grad is not None:\n",
      "/home/ec2-user/SageMaker/.env/fastai/lib/python3.6/site-packages/torch/nn/modules/module.py:1319: UserWarning: The .grad attribute of a Tensor that is not a leaf Tensor is being accessed. Its .grad attribute won't be populated during autograd.backward(). If you indeed want the gradient for a non-leaf Tensor, use .retain_grad() on the non-leaf Tensor. If you access the non-leaf Tensor by mistake, make sure you access the leaf Tensor instead. See github.com/pytorch/pytorch/pull/30531 for more informations.\n",
      "  if p.grad is not None:\n",
      "/home/ec2-user/SageMaker/.env/fastai/lib/python3.6/site-packages/torch/nn/modules/module.py:1319: UserWarning: The .grad attribute of a Tensor that is not a leaf Tensor is being accessed. Its .grad attribute won't be populated during autograd.backward(). If you indeed want the gradient for a non-leaf Tensor, use .retain_grad() on the non-leaf Tensor. If you access the non-leaf Tensor by mistake, make sure you access the leaf Tensor instead. See github.com/pytorch/pytorch/pull/30531 for more informations.\n",
      "  if p.grad is not None:\n",
      "/home/ec2-user/SageMaker/.env/fastai/lib/python3.6/site-packages/torch/nn/modules/module.py:1319: UserWarning: The .grad attribute of a Tensor that is not a leaf Tensor is being accessed. Its .grad attribute won't be populated during autograd.backward(). If you indeed want the gradient for a non-leaf Tensor, use .retain_grad() on the non-leaf Tensor. If you access the non-leaf Tensor by mistake, make sure you access the leaf Tensor instead. See github.com/pytorch/pytorch/pull/30531 for more informations.\n",
      "  if p.grad is not None:\n",
      "/home/ec2-user/SageMaker/.env/fastai/lib/python3.6/site-packages/torch/nn/modules/module.py:1319: UserWarning: The .grad attribute of a Tensor that is not a leaf Tensor is being accessed. Its .grad attribute won't be populated during autograd.backward(). If you indeed want the gradient for a non-leaf Tensor, use .retain_grad() on the non-leaf Tensor. If you access the non-leaf Tensor by mistake, make sure you access the leaf Tensor instead. See github.com/pytorch/pytorch/pull/30531 for more informations.\n",
      "  if p.grad is not None:\n",
      "/home/ec2-user/SageMaker/.env/fastai/lib/python3.6/site-packages/torch/nn/modules/module.py:1319: UserWarning: The .grad attribute of a Tensor that is not a leaf Tensor is being accessed. Its .grad attribute won't be populated during autograd.backward(). If you indeed want the gradient for a non-leaf Tensor, use .retain_grad() on the non-leaf Tensor. If you access the non-leaf Tensor by mistake, make sure you access the leaf Tensor instead. See github.com/pytorch/pytorch/pull/30531 for more informations.\n",
      "  if p.grad is not None:\n",
      "/home/ec2-user/SageMaker/.env/fastai/lib/python3.6/site-packages/torch/nn/modules/module.py:1319: UserWarning: The .grad attribute of a Tensor that is not a leaf Tensor is being accessed. Its .grad attribute won't be populated during autograd.backward(). If you indeed want the gradient for a non-leaf Tensor, use .retain_grad() on the non-leaf Tensor. If you access the non-leaf Tensor by mistake, make sure you access the leaf Tensor instead. See github.com/pytorch/pytorch/pull/30531 for more informations.\n",
      "  if p.grad is not None:\n",
      "/home/ec2-user/SageMaker/.env/fastai/lib/python3.6/site-packages/torch/nn/modules/module.py:1319: UserWarning: The .grad attribute of a Tensor that is not a leaf Tensor is being accessed. Its .grad attribute won't be populated during autograd.backward(). If you indeed want the gradient for a non-leaf Tensor, use .retain_grad() on the non-leaf Tensor. If you access the non-leaf Tensor by mistake, make sure you access the leaf Tensor instead. See github.com/pytorch/pytorch/pull/30531 for more informations.\n",
      "  if p.grad is not None:\n",
      "/home/ec2-user/SageMaker/.env/fastai/lib/python3.6/site-packages/torch/nn/modules/module.py:1319: UserWarning: The .grad attribute of a Tensor that is not a leaf Tensor is being accessed. Its .grad attribute won't be populated during autograd.backward(). If you indeed want the gradient for a non-leaf Tensor, use .retain_grad() on the non-leaf Tensor. If you access the non-leaf Tensor by mistake, make sure you access the leaf Tensor instead. See github.com/pytorch/pytorch/pull/30531 for more informations.\n",
      "  if p.grad is not None:\n",
      "/home/ec2-user/SageMaker/.env/fastai/lib/python3.6/site-packages/torch/nn/modules/module.py:1319: UserWarning: The .grad attribute of a Tensor that is not a leaf Tensor is being accessed. Its .grad attribute won't be populated during autograd.backward(). If you indeed want the gradient for a non-leaf Tensor, use .retain_grad() on the non-leaf Tensor. If you access the non-leaf Tensor by mistake, make sure you access the leaf Tensor instead. See github.com/pytorch/pytorch/pull/30531 for more informations.\n",
      "  if p.grad is not None:\n",
      "/home/ec2-user/SageMaker/.env/fastai/lib/python3.6/site-packages/torch/nn/modules/module.py:1319: UserWarning: The .grad attribute of a Tensor that is not a leaf Tensor is being accessed. Its .grad attribute won't be populated during autograd.backward(). If you indeed want the gradient for a non-leaf Tensor, use .retain_grad() on the non-leaf Tensor. If you access the non-leaf Tensor by mistake, make sure you access the leaf Tensor instead. See github.com/pytorch/pytorch/pull/30531 for more informations.\n",
      "  if p.grad is not None:\n",
      "/home/ec2-user/SageMaker/.env/fastai/lib/python3.6/site-packages/torch/nn/modules/module.py:1319: UserWarning: The .grad attribute of a Tensor that is not a leaf Tensor is being accessed. Its .grad attribute won't be populated during autograd.backward(). If you indeed want the gradient for a non-leaf Tensor, use .retain_grad() on the non-leaf Tensor. If you access the non-leaf Tensor by mistake, make sure you access the leaf Tensor instead. See github.com/pytorch/pytorch/pull/30531 for more informations.\n",
      "  if p.grad is not None:\n",
      "/home/ec2-user/SageMaker/.env/fastai/lib/python3.6/site-packages/torch/nn/modules/module.py:1319: UserWarning: The .grad attribute of a Tensor that is not a leaf Tensor is being accessed. Its .grad attribute won't be populated during autograd.backward(). If you indeed want the gradient for a non-leaf Tensor, use .retain_grad() on the non-leaf Tensor. If you access the non-leaf Tensor by mistake, make sure you access the leaf Tensor instead. See github.com/pytorch/pytorch/pull/30531 for more informations.\n",
      "  if p.grad is not None:\n",
      "/home/ec2-user/SageMaker/.env/fastai/lib/python3.6/site-packages/torch/nn/modules/module.py:1319: UserWarning: The .grad attribute of a Tensor that is not a leaf Tensor is being accessed. Its .grad attribute won't be populated during autograd.backward(). If you indeed want the gradient for a non-leaf Tensor, use .retain_grad() on the non-leaf Tensor. If you access the non-leaf Tensor by mistake, make sure you access the leaf Tensor instead. See github.com/pytorch/pytorch/pull/30531 for more informations.\n",
      "  if p.grad is not None:\n",
      "/home/ec2-user/SageMaker/.env/fastai/lib/python3.6/site-packages/torch/nn/modules/module.py:1319: UserWarning: The .grad attribute of a Tensor that is not a leaf Tensor is being accessed. Its .grad attribute won't be populated during autograd.backward(). If you indeed want the gradient for a non-leaf Tensor, use .retain_grad() on the non-leaf Tensor. If you access the non-leaf Tensor by mistake, make sure you access the leaf Tensor instead. See github.com/pytorch/pytorch/pull/30531 for more informations.\n",
      "  if p.grad is not None:\n",
      "/home/ec2-user/SageMaker/.env/fastai/lib/python3.6/site-packages/torch/nn/modules/module.py:1319: UserWarning: The .grad attribute of a Tensor that is not a leaf Tensor is being accessed. Its .grad attribute won't be populated during autograd.backward(). If you indeed want the gradient for a non-leaf Tensor, use .retain_grad() on the non-leaf Tensor. If you access the non-leaf Tensor by mistake, make sure you access the leaf Tensor instead. See github.com/pytorch/pytorch/pull/30531 for more informations.\n",
      "  if p.grad is not None:\n",
      "/home/ec2-user/SageMaker/.env/fastai/lib/python3.6/site-packages/torch/nn/modules/module.py:1319: UserWarning: The .grad attribute of a Tensor that is not a leaf Tensor is being accessed. Its .grad attribute won't be populated during autograd.backward(). If you indeed want the gradient for a non-leaf Tensor, use .retain_grad() on the non-leaf Tensor. If you access the non-leaf Tensor by mistake, make sure you access the leaf Tensor instead. See github.com/pytorch/pytorch/pull/30531 for more informations.\n",
      "  if p.grad is not None:\n",
      "/home/ec2-user/SageMaker/.env/fastai/lib/python3.6/site-packages/torch/nn/modules/module.py:1319: UserWarning: The .grad attribute of a Tensor that is not a leaf Tensor is being accessed. Its .grad attribute won't be populated during autograd.backward(). If you indeed want the gradient for a non-leaf Tensor, use .retain_grad() on the non-leaf Tensor. If you access the non-leaf Tensor by mistake, make sure you access the leaf Tensor instead. See github.com/pytorch/pytorch/pull/30531 for more informations.\n",
      "  if p.grad is not None:\n",
      "/home/ec2-user/SageMaker/.env/fastai/lib/python3.6/site-packages/torch/nn/modules/module.py:1319: UserWarning: The .grad attribute of a Tensor that is not a leaf Tensor is being accessed. Its .grad attribute won't be populated during autograd.backward(). If you indeed want the gradient for a non-leaf Tensor, use .retain_grad() on the non-leaf Tensor. If you access the non-leaf Tensor by mistake, make sure you access the leaf Tensor instead. See github.com/pytorch/pytorch/pull/30531 for more informations.\n",
      "  if p.grad is not None:\n",
      "/home/ec2-user/SageMaker/.env/fastai/lib/python3.6/site-packages/torch/nn/modules/module.py:1319: UserWarning: The .grad attribute of a Tensor that is not a leaf Tensor is being accessed. Its .grad attribute won't be populated during autograd.backward(). If you indeed want the gradient for a non-leaf Tensor, use .retain_grad() on the non-leaf Tensor. If you access the non-leaf Tensor by mistake, make sure you access the leaf Tensor instead. See github.com/pytorch/pytorch/pull/30531 for more informations.\n",
      "  if p.grad is not None:\n",
      "/home/ec2-user/SageMaker/.env/fastai/lib/python3.6/site-packages/torch/nn/modules/module.py:1319: UserWarning: The .grad attribute of a Tensor that is not a leaf Tensor is being accessed. Its .grad attribute won't be populated during autograd.backward(). If you indeed want the gradient for a non-leaf Tensor, use .retain_grad() on the non-leaf Tensor. If you access the non-leaf Tensor by mistake, make sure you access the leaf Tensor instead. See github.com/pytorch/pytorch/pull/30531 for more informations.\n",
      "  if p.grad is not None:\n",
      "/home/ec2-user/SageMaker/.env/fastai/lib/python3.6/site-packages/torch/nn/modules/module.py:1319: UserWarning: The .grad attribute of a Tensor that is not a leaf Tensor is being accessed. Its .grad attribute won't be populated during autograd.backward(). If you indeed want the gradient for a non-leaf Tensor, use .retain_grad() on the non-leaf Tensor. If you access the non-leaf Tensor by mistake, make sure you access the leaf Tensor instead. See github.com/pytorch/pytorch/pull/30531 for more informations.\n",
      "  if p.grad is not None:\n",
      "/home/ec2-user/SageMaker/.env/fastai/lib/python3.6/site-packages/torch/nn/modules/module.py:1319: UserWarning: The .grad attribute of a Tensor that is not a leaf Tensor is being accessed. Its .grad attribute won't be populated during autograd.backward(). If you indeed want the gradient for a non-leaf Tensor, use .retain_grad() on the non-leaf Tensor. If you access the non-leaf Tensor by mistake, make sure you access the leaf Tensor instead. See github.com/pytorch/pytorch/pull/30531 for more informations.\n",
      "  if p.grad is not None:\n",
      "/home/ec2-user/SageMaker/.env/fastai/lib/python3.6/site-packages/torch/nn/modules/module.py:1319: UserWarning: The .grad attribute of a Tensor that is not a leaf Tensor is being accessed. Its .grad attribute won't be populated during autograd.backward(). If you indeed want the gradient for a non-leaf Tensor, use .retain_grad() on the non-leaf Tensor. If you access the non-leaf Tensor by mistake, make sure you access the leaf Tensor instead. See github.com/pytorch/pytorch/pull/30531 for more informations.\n",
      "  if p.grad is not None:\n",
      "/home/ec2-user/SageMaker/.env/fastai/lib/python3.6/site-packages/torch/nn/modules/module.py:1319: UserWarning: The .grad attribute of a Tensor that is not a leaf Tensor is being accessed. Its .grad attribute won't be populated during autograd.backward(). If you indeed want the gradient for a non-leaf Tensor, use .retain_grad() on the non-leaf Tensor. If you access the non-leaf Tensor by mistake, make sure you access the leaf Tensor instead. See github.com/pytorch/pytorch/pull/30531 for more informations.\n",
      "  if p.grad is not None:\n",
      "/home/ec2-user/SageMaker/.env/fastai/lib/python3.6/site-packages/torch/nn/modules/module.py:1319: UserWarning: The .grad attribute of a Tensor that is not a leaf Tensor is being accessed. Its .grad attribute won't be populated during autograd.backward(). If you indeed want the gradient for a non-leaf Tensor, use .retain_grad() on the non-leaf Tensor. If you access the non-leaf Tensor by mistake, make sure you access the leaf Tensor instead. See github.com/pytorch/pytorch/pull/30531 for more informations.\n",
      "  if p.grad is not None:\n",
      "/home/ec2-user/SageMaker/.env/fastai/lib/python3.6/site-packages/torch/nn/modules/module.py:1319: UserWarning: The .grad attribute of a Tensor that is not a leaf Tensor is being accessed. Its .grad attribute won't be populated during autograd.backward(). If you indeed want the gradient for a non-leaf Tensor, use .retain_grad() on the non-leaf Tensor. If you access the non-leaf Tensor by mistake, make sure you access the leaf Tensor instead. See github.com/pytorch/pytorch/pull/30531 for more informations.\n",
      "  if p.grad is not None:\n",
      "/home/ec2-user/SageMaker/.env/fastai/lib/python3.6/site-packages/torch/nn/modules/module.py:1319: UserWarning: The .grad attribute of a Tensor that is not a leaf Tensor is being accessed. Its .grad attribute won't be populated during autograd.backward(). If you indeed want the gradient for a non-leaf Tensor, use .retain_grad() on the non-leaf Tensor. If you access the non-leaf Tensor by mistake, make sure you access the leaf Tensor instead. See github.com/pytorch/pytorch/pull/30531 for more informations.\n",
      "  if p.grad is not None:\n",
      "/home/ec2-user/SageMaker/.env/fastai/lib/python3.6/site-packages/torch/nn/modules/module.py:1319: UserWarning: The .grad attribute of a Tensor that is not a leaf Tensor is being accessed. Its .grad attribute won't be populated during autograd.backward(). If you indeed want the gradient for a non-leaf Tensor, use .retain_grad() on the non-leaf Tensor. If you access the non-leaf Tensor by mistake, make sure you access the leaf Tensor instead. See github.com/pytorch/pytorch/pull/30531 for more informations.\n",
      "  if p.grad is not None:\n",
      "/home/ec2-user/SageMaker/.env/fastai/lib/python3.6/site-packages/torch/nn/modules/module.py:1319: UserWarning: The .grad attribute of a Tensor that is not a leaf Tensor is being accessed. Its .grad attribute won't be populated during autograd.backward(). If you indeed want the gradient for a non-leaf Tensor, use .retain_grad() on the non-leaf Tensor. If you access the non-leaf Tensor by mistake, make sure you access the leaf Tensor instead. See github.com/pytorch/pytorch/pull/30531 for more informations.\n",
      "  if p.grad is not None:\n",
      "/home/ec2-user/SageMaker/.env/fastai/lib/python3.6/site-packages/torch/nn/modules/module.py:1319: UserWarning: The .grad attribute of a Tensor that is not a leaf Tensor is being accessed. Its .grad attribute won't be populated during autograd.backward(). If you indeed want the gradient for a non-leaf Tensor, use .retain_grad() on the non-leaf Tensor. If you access the non-leaf Tensor by mistake, make sure you access the leaf Tensor instead. See github.com/pytorch/pytorch/pull/30531 for more informations.\n",
      "  if p.grad is not None:\n",
      "/home/ec2-user/SageMaker/.env/fastai/lib/python3.6/site-packages/torch/nn/modules/module.py:1319: UserWarning: The .grad attribute of a Tensor that is not a leaf Tensor is being accessed. Its .grad attribute won't be populated during autograd.backward(). If you indeed want the gradient for a non-leaf Tensor, use .retain_grad() on the non-leaf Tensor. If you access the non-leaf Tensor by mistake, make sure you access the leaf Tensor instead. See github.com/pytorch/pytorch/pull/30531 for more informations.\n",
      "  if p.grad is not None:\n",
      "/home/ec2-user/SageMaker/.env/fastai/lib/python3.6/site-packages/torch/nn/modules/module.py:1319: UserWarning: The .grad attribute of a Tensor that is not a leaf Tensor is being accessed. Its .grad attribute won't be populated during autograd.backward(). If you indeed want the gradient for a non-leaf Tensor, use .retain_grad() on the non-leaf Tensor. If you access the non-leaf Tensor by mistake, make sure you access the leaf Tensor instead. See github.com/pytorch/pytorch/pull/30531 for more informations.\n",
      "  if p.grad is not None:\n",
      "/home/ec2-user/SageMaker/.env/fastai/lib/python3.6/site-packages/torch/nn/modules/module.py:1319: UserWarning: The .grad attribute of a Tensor that is not a leaf Tensor is being accessed. Its .grad attribute won't be populated during autograd.backward(). If you indeed want the gradient for a non-leaf Tensor, use .retain_grad() on the non-leaf Tensor. If you access the non-leaf Tensor by mistake, make sure you access the leaf Tensor instead. See github.com/pytorch/pytorch/pull/30531 for more informations.\n",
      "  if p.grad is not None:\n",
      "/home/ec2-user/SageMaker/.env/fastai/lib/python3.6/site-packages/torch/nn/modules/module.py:1319: UserWarning: The .grad attribute of a Tensor that is not a leaf Tensor is being accessed. Its .grad attribute won't be populated during autograd.backward(). If you indeed want the gradient for a non-leaf Tensor, use .retain_grad() on the non-leaf Tensor. If you access the non-leaf Tensor by mistake, make sure you access the leaf Tensor instead. See github.com/pytorch/pytorch/pull/30531 for more informations.\n",
      "  if p.grad is not None:\n",
      "/home/ec2-user/SageMaker/.env/fastai/lib/python3.6/site-packages/torch/nn/modules/module.py:1319: UserWarning: The .grad attribute of a Tensor that is not a leaf Tensor is being accessed. Its .grad attribute won't be populated during autograd.backward(). If you indeed want the gradient for a non-leaf Tensor, use .retain_grad() on the non-leaf Tensor. If you access the non-leaf Tensor by mistake, make sure you access the leaf Tensor instead. See github.com/pytorch/pytorch/pull/30531 for more informations.\n",
      "  if p.grad is not None:\n",
      "/home/ec2-user/SageMaker/.env/fastai/lib/python3.6/site-packages/torch/nn/modules/module.py:1319: UserWarning: The .grad attribute of a Tensor that is not a leaf Tensor is being accessed. Its .grad attribute won't be populated during autograd.backward(). If you indeed want the gradient for a non-leaf Tensor, use .retain_grad() on the non-leaf Tensor. If you access the non-leaf Tensor by mistake, make sure you access the leaf Tensor instead. See github.com/pytorch/pytorch/pull/30531 for more informations.\n",
      "  if p.grad is not None:\n",
      "/home/ec2-user/SageMaker/.env/fastai/lib/python3.6/site-packages/torch/nn/modules/module.py:1319: UserWarning: The .grad attribute of a Tensor that is not a leaf Tensor is being accessed. Its .grad attribute won't be populated during autograd.backward(). If you indeed want the gradient for a non-leaf Tensor, use .retain_grad() on the non-leaf Tensor. If you access the non-leaf Tensor by mistake, make sure you access the leaf Tensor instead. See github.com/pytorch/pytorch/pull/30531 for more informations.\n",
      "  if p.grad is not None:\n",
      "/home/ec2-user/SageMaker/.env/fastai/lib/python3.6/site-packages/torch/nn/modules/module.py:1319: UserWarning: The .grad attribute of a Tensor that is not a leaf Tensor is being accessed. Its .grad attribute won't be populated during autograd.backward(). If you indeed want the gradient for a non-leaf Tensor, use .retain_grad() on the non-leaf Tensor. If you access the non-leaf Tensor by mistake, make sure you access the leaf Tensor instead. See github.com/pytorch/pytorch/pull/30531 for more informations.\n",
      "  if p.grad is not None:\n",
      "/home/ec2-user/SageMaker/.env/fastai/lib/python3.6/site-packages/torch/nn/modules/module.py:1319: UserWarning: The .grad attribute of a Tensor that is not a leaf Tensor is being accessed. Its .grad attribute won't be populated during autograd.backward(). If you indeed want the gradient for a non-leaf Tensor, use .retain_grad() on the non-leaf Tensor. If you access the non-leaf Tensor by mistake, make sure you access the leaf Tensor instead. See github.com/pytorch/pytorch/pull/30531 for more informations.\n",
      "  if p.grad is not None:\n",
      "/home/ec2-user/SageMaker/.env/fastai/lib/python3.6/site-packages/torch/nn/modules/module.py:1319: UserWarning: The .grad attribute of a Tensor that is not a leaf Tensor is being accessed. Its .grad attribute won't be populated during autograd.backward(). If you indeed want the gradient for a non-leaf Tensor, use .retain_grad() on the non-leaf Tensor. If you access the non-leaf Tensor by mistake, make sure you access the leaf Tensor instead. See github.com/pytorch/pytorch/pull/30531 for more informations.\n",
      "  if p.grad is not None:\n",
      "/home/ec2-user/SageMaker/.env/fastai/lib/python3.6/site-packages/torch/nn/modules/module.py:1319: UserWarning: The .grad attribute of a Tensor that is not a leaf Tensor is being accessed. Its .grad attribute won't be populated during autograd.backward(). If you indeed want the gradient for a non-leaf Tensor, use .retain_grad() on the non-leaf Tensor. If you access the non-leaf Tensor by mistake, make sure you access the leaf Tensor instead. See github.com/pytorch/pytorch/pull/30531 for more informations.\n",
      "  if p.grad is not None:\n",
      "/home/ec2-user/SageMaker/.env/fastai/lib/python3.6/site-packages/torch/nn/modules/module.py:1319: UserWarning: The .grad attribute of a Tensor that is not a leaf Tensor is being accessed. Its .grad attribute won't be populated during autograd.backward(). If you indeed want the gradient for a non-leaf Tensor, use .retain_grad() on the non-leaf Tensor. If you access the non-leaf Tensor by mistake, make sure you access the leaf Tensor instead. See github.com/pytorch/pytorch/pull/30531 for more informations.\n",
      "  if p.grad is not None:\n",
      "/home/ec2-user/SageMaker/.env/fastai/lib/python3.6/site-packages/torch/nn/modules/module.py:1319: UserWarning: The .grad attribute of a Tensor that is not a leaf Tensor is being accessed. Its .grad attribute won't be populated during autograd.backward(). If you indeed want the gradient for a non-leaf Tensor, use .retain_grad() on the non-leaf Tensor. If you access the non-leaf Tensor by mistake, make sure you access the leaf Tensor instead. See github.com/pytorch/pytorch/pull/30531 for more informations.\n",
      "  if p.grad is not None:\n",
      "/home/ec2-user/SageMaker/.env/fastai/lib/python3.6/site-packages/torch/nn/modules/module.py:1319: UserWarning: The .grad attribute of a Tensor that is not a leaf Tensor is being accessed. Its .grad attribute won't be populated during autograd.backward(). If you indeed want the gradient for a non-leaf Tensor, use .retain_grad() on the non-leaf Tensor. If you access the non-leaf Tensor by mistake, make sure you access the leaf Tensor instead. See github.com/pytorch/pytorch/pull/30531 for more informations.\n",
      "  if p.grad is not None:\n",
      "/home/ec2-user/SageMaker/.env/fastai/lib/python3.6/site-packages/torch/nn/modules/module.py:1319: UserWarning: The .grad attribute of a Tensor that is not a leaf Tensor is being accessed. Its .grad attribute won't be populated during autograd.backward(). If you indeed want the gradient for a non-leaf Tensor, use .retain_grad() on the non-leaf Tensor. If you access the non-leaf Tensor by mistake, make sure you access the leaf Tensor instead. See github.com/pytorch/pytorch/pull/30531 for more informations.\n",
      "  if p.grad is not None:\n",
      "/home/ec2-user/SageMaker/.env/fastai/lib/python3.6/site-packages/torch/nn/modules/module.py:1319: UserWarning: The .grad attribute of a Tensor that is not a leaf Tensor is being accessed. Its .grad attribute won't be populated during autograd.backward(). If you indeed want the gradient for a non-leaf Tensor, use .retain_grad() on the non-leaf Tensor. If you access the non-leaf Tensor by mistake, make sure you access the leaf Tensor instead. See github.com/pytorch/pytorch/pull/30531 for more informations.\n",
      "  if p.grad is not None:\n",
      "/home/ec2-user/SageMaker/.env/fastai/lib/python3.6/site-packages/torch/nn/modules/module.py:1319: UserWarning: The .grad attribute of a Tensor that is not a leaf Tensor is being accessed. Its .grad attribute won't be populated during autograd.backward(). If you indeed want the gradient for a non-leaf Tensor, use .retain_grad() on the non-leaf Tensor. If you access the non-leaf Tensor by mistake, make sure you access the leaf Tensor instead. See github.com/pytorch/pytorch/pull/30531 for more informations.\n",
      "  if p.grad is not None:\n",
      "/home/ec2-user/SageMaker/.env/fastai/lib/python3.6/site-packages/torch/nn/modules/module.py:1319: UserWarning: The .grad attribute of a Tensor that is not a leaf Tensor is being accessed. Its .grad attribute won't be populated during autograd.backward(). If you indeed want the gradient for a non-leaf Tensor, use .retain_grad() on the non-leaf Tensor. If you access the non-leaf Tensor by mistake, make sure you access the leaf Tensor instead. See github.com/pytorch/pytorch/pull/30531 for more informations.\n",
      "  if p.grad is not None:\n",
      "/home/ec2-user/SageMaker/.env/fastai/lib/python3.6/site-packages/torch/nn/modules/module.py:1319: UserWarning: The .grad attribute of a Tensor that is not a leaf Tensor is being accessed. Its .grad attribute won't be populated during autograd.backward(). If you indeed want the gradient for a non-leaf Tensor, use .retain_grad() on the non-leaf Tensor. If you access the non-leaf Tensor by mistake, make sure you access the leaf Tensor instead. See github.com/pytorch/pytorch/pull/30531 for more informations.\n",
      "  if p.grad is not None:\n",
      "/home/ec2-user/SageMaker/.env/fastai/lib/python3.6/site-packages/torch/nn/modules/module.py:1319: UserWarning: The .grad attribute of a Tensor that is not a leaf Tensor is being accessed. Its .grad attribute won't be populated during autograd.backward(). If you indeed want the gradient for a non-leaf Tensor, use .retain_grad() on the non-leaf Tensor. If you access the non-leaf Tensor by mistake, make sure you access the leaf Tensor instead. See github.com/pytorch/pytorch/pull/30531 for more informations.\n",
      "  if p.grad is not None:\n",
      "/home/ec2-user/SageMaker/.env/fastai/lib/python3.6/site-packages/torch/nn/modules/module.py:1319: UserWarning: The .grad attribute of a Tensor that is not a leaf Tensor is being accessed. Its .grad attribute won't be populated during autograd.backward(). If you indeed want the gradient for a non-leaf Tensor, use .retain_grad() on the non-leaf Tensor. If you access the non-leaf Tensor by mistake, make sure you access the leaf Tensor instead. See github.com/pytorch/pytorch/pull/30531 for more informations.\n",
      "  if p.grad is not None:\n",
      "/home/ec2-user/SageMaker/.env/fastai/lib/python3.6/site-packages/torch/nn/modules/module.py:1319: UserWarning: The .grad attribute of a Tensor that is not a leaf Tensor is being accessed. Its .grad attribute won't be populated during autograd.backward(). If you indeed want the gradient for a non-leaf Tensor, use .retain_grad() on the non-leaf Tensor. If you access the non-leaf Tensor by mistake, make sure you access the leaf Tensor instead. See github.com/pytorch/pytorch/pull/30531 for more informations.\n",
      "  if p.grad is not None:\n",
      "/home/ec2-user/SageMaker/.env/fastai/lib/python3.6/site-packages/torch/nn/modules/module.py:1319: UserWarning: The .grad attribute of a Tensor that is not a leaf Tensor is being accessed. Its .grad attribute won't be populated during autograd.backward(). If you indeed want the gradient for a non-leaf Tensor, use .retain_grad() on the non-leaf Tensor. If you access the non-leaf Tensor by mistake, make sure you access the leaf Tensor instead. See github.com/pytorch/pytorch/pull/30531 for more informations.\n",
      "  if p.grad is not None:\n",
      "/home/ec2-user/SageMaker/.env/fastai/lib/python3.6/site-packages/torch/nn/modules/module.py:1319: UserWarning: The .grad attribute of a Tensor that is not a leaf Tensor is being accessed. Its .grad attribute won't be populated during autograd.backward(). If you indeed want the gradient for a non-leaf Tensor, use .retain_grad() on the non-leaf Tensor. If you access the non-leaf Tensor by mistake, make sure you access the leaf Tensor instead. See github.com/pytorch/pytorch/pull/30531 for more informations.\n",
      "  if p.grad is not None:\n",
      "/home/ec2-user/SageMaker/.env/fastai/lib/python3.6/site-packages/torch/nn/modules/module.py:1319: UserWarning: The .grad attribute of a Tensor that is not a leaf Tensor is being accessed. Its .grad attribute won't be populated during autograd.backward(). If you indeed want the gradient for a non-leaf Tensor, use .retain_grad() on the non-leaf Tensor. If you access the non-leaf Tensor by mistake, make sure you access the leaf Tensor instead. See github.com/pytorch/pytorch/pull/30531 for more informations.\n",
      "  if p.grad is not None:\n",
      "/home/ec2-user/SageMaker/.env/fastai/lib/python3.6/site-packages/torch/nn/modules/module.py:1319: UserWarning: The .grad attribute of a Tensor that is not a leaf Tensor is being accessed. Its .grad attribute won't be populated during autograd.backward(). If you indeed want the gradient for a non-leaf Tensor, use .retain_grad() on the non-leaf Tensor. If you access the non-leaf Tensor by mistake, make sure you access the leaf Tensor instead. See github.com/pytorch/pytorch/pull/30531 for more informations.\n",
      "  if p.grad is not None:\n",
      "/home/ec2-user/SageMaker/.env/fastai/lib/python3.6/site-packages/torch/nn/modules/module.py:1319: UserWarning: The .grad attribute of a Tensor that is not a leaf Tensor is being accessed. Its .grad attribute won't be populated during autograd.backward(). If you indeed want the gradient for a non-leaf Tensor, use .retain_grad() on the non-leaf Tensor. If you access the non-leaf Tensor by mistake, make sure you access the leaf Tensor instead. See github.com/pytorch/pytorch/pull/30531 for more informations.\n",
      "  if p.grad is not None:\n",
      "/home/ec2-user/SageMaker/.env/fastai/lib/python3.6/site-packages/torch/nn/modules/module.py:1319: UserWarning: The .grad attribute of a Tensor that is not a leaf Tensor is being accessed. Its .grad attribute won't be populated during autograd.backward(). If you indeed want the gradient for a non-leaf Tensor, use .retain_grad() on the non-leaf Tensor. If you access the non-leaf Tensor by mistake, make sure you access the leaf Tensor instead. See github.com/pytorch/pytorch/pull/30531 for more informations.\n",
      "  if p.grad is not None:\n",
      "/home/ec2-user/SageMaker/.env/fastai/lib/python3.6/site-packages/torch/nn/modules/module.py:1319: UserWarning: The .grad attribute of a Tensor that is not a leaf Tensor is being accessed. Its .grad attribute won't be populated during autograd.backward(). If you indeed want the gradient for a non-leaf Tensor, use .retain_grad() on the non-leaf Tensor. If you access the non-leaf Tensor by mistake, make sure you access the leaf Tensor instead. See github.com/pytorch/pytorch/pull/30531 for more informations.\n",
      "  if p.grad is not None:\n",
      "/home/ec2-user/SageMaker/.env/fastai/lib/python3.6/site-packages/torch/nn/modules/module.py:1319: UserWarning: The .grad attribute of a Tensor that is not a leaf Tensor is being accessed. Its .grad attribute won't be populated during autograd.backward(). If you indeed want the gradient for a non-leaf Tensor, use .retain_grad() on the non-leaf Tensor. If you access the non-leaf Tensor by mistake, make sure you access the leaf Tensor instead. See github.com/pytorch/pytorch/pull/30531 for more informations.\n",
      "  if p.grad is not None:\n",
      "/home/ec2-user/SageMaker/.env/fastai/lib/python3.6/site-packages/torch/nn/modules/module.py:1319: UserWarning: The .grad attribute of a Tensor that is not a leaf Tensor is being accessed. Its .grad attribute won't be populated during autograd.backward(). If you indeed want the gradient for a non-leaf Tensor, use .retain_grad() on the non-leaf Tensor. If you access the non-leaf Tensor by mistake, make sure you access the leaf Tensor instead. See github.com/pytorch/pytorch/pull/30531 for more informations.\n",
      "  if p.grad is not None:\n",
      "/home/ec2-user/SageMaker/.env/fastai/lib/python3.6/site-packages/torch/nn/modules/module.py:1319: UserWarning: The .grad attribute of a Tensor that is not a leaf Tensor is being accessed. Its .grad attribute won't be populated during autograd.backward(). If you indeed want the gradient for a non-leaf Tensor, use .retain_grad() on the non-leaf Tensor. If you access the non-leaf Tensor by mistake, make sure you access the leaf Tensor instead. See github.com/pytorch/pytorch/pull/30531 for more informations.\n",
      "  if p.grad is not None:\n",
      "/home/ec2-user/SageMaker/.env/fastai/lib/python3.6/site-packages/torch/nn/modules/module.py:1319: UserWarning: The .grad attribute of a Tensor that is not a leaf Tensor is being accessed. Its .grad attribute won't be populated during autograd.backward(). If you indeed want the gradient for a non-leaf Tensor, use .retain_grad() on the non-leaf Tensor. If you access the non-leaf Tensor by mistake, make sure you access the leaf Tensor instead. See github.com/pytorch/pytorch/pull/30531 for more informations.\n",
      "  if p.grad is not None:\n",
      "/home/ec2-user/SageMaker/.env/fastai/lib/python3.6/site-packages/torch/nn/modules/module.py:1319: UserWarning: The .grad attribute of a Tensor that is not a leaf Tensor is being accessed. Its .grad attribute won't be populated during autograd.backward(). If you indeed want the gradient for a non-leaf Tensor, use .retain_grad() on the non-leaf Tensor. If you access the non-leaf Tensor by mistake, make sure you access the leaf Tensor instead. See github.com/pytorch/pytorch/pull/30531 for more informations.\n",
      "  if p.grad is not None:\n",
      "/home/ec2-user/SageMaker/.env/fastai/lib/python3.6/site-packages/torch/nn/modules/module.py:1319: UserWarning: The .grad attribute of a Tensor that is not a leaf Tensor is being accessed. Its .grad attribute won't be populated during autograd.backward(). If you indeed want the gradient for a non-leaf Tensor, use .retain_grad() on the non-leaf Tensor. If you access the non-leaf Tensor by mistake, make sure you access the leaf Tensor instead. See github.com/pytorch/pytorch/pull/30531 for more informations.\n",
      "  if p.grad is not None:\n",
      "/home/ec2-user/SageMaker/.env/fastai/lib/python3.6/site-packages/torch/nn/modules/module.py:1319: UserWarning: The .grad attribute of a Tensor that is not a leaf Tensor is being accessed. Its .grad attribute won't be populated during autograd.backward(). If you indeed want the gradient for a non-leaf Tensor, use .retain_grad() on the non-leaf Tensor. If you access the non-leaf Tensor by mistake, make sure you access the leaf Tensor instead. See github.com/pytorch/pytorch/pull/30531 for more informations.\n",
      "  if p.grad is not None:\n",
      "/home/ec2-user/SageMaker/.env/fastai/lib/python3.6/site-packages/torch/nn/modules/module.py:1319: UserWarning: The .grad attribute of a Tensor that is not a leaf Tensor is being accessed. Its .grad attribute won't be populated during autograd.backward(). If you indeed want the gradient for a non-leaf Tensor, use .retain_grad() on the non-leaf Tensor. If you access the non-leaf Tensor by mistake, make sure you access the leaf Tensor instead. See github.com/pytorch/pytorch/pull/30531 for more informations.\n",
      "  if p.grad is not None:\n",
      "/home/ec2-user/SageMaker/.env/fastai/lib/python3.6/site-packages/torch/nn/modules/module.py:1319: UserWarning: The .grad attribute of a Tensor that is not a leaf Tensor is being accessed. Its .grad attribute won't be populated during autograd.backward(). If you indeed want the gradient for a non-leaf Tensor, use .retain_grad() on the non-leaf Tensor. If you access the non-leaf Tensor by mistake, make sure you access the leaf Tensor instead. See github.com/pytorch/pytorch/pull/30531 for more informations.\n",
      "  if p.grad is not None:\n",
      "/home/ec2-user/SageMaker/.env/fastai/lib/python3.6/site-packages/torch/nn/modules/module.py:1319: UserWarning: The .grad attribute of a Tensor that is not a leaf Tensor is being accessed. Its .grad attribute won't be populated during autograd.backward(). If you indeed want the gradient for a non-leaf Tensor, use .retain_grad() on the non-leaf Tensor. If you access the non-leaf Tensor by mistake, make sure you access the leaf Tensor instead. See github.com/pytorch/pytorch/pull/30531 for more informations.\n",
      "  if p.grad is not None:\n",
      "/home/ec2-user/SageMaker/.env/fastai/lib/python3.6/site-packages/torch/nn/modules/module.py:1319: UserWarning: The .grad attribute of a Tensor that is not a leaf Tensor is being accessed. Its .grad attribute won't be populated during autograd.backward(). If you indeed want the gradient for a non-leaf Tensor, use .retain_grad() on the non-leaf Tensor. If you access the non-leaf Tensor by mistake, make sure you access the leaf Tensor instead. See github.com/pytorch/pytorch/pull/30531 for more informations.\n",
      "  if p.grad is not None:\n",
      "/home/ec2-user/SageMaker/.env/fastai/lib/python3.6/site-packages/torch/nn/modules/module.py:1319: UserWarning: The .grad attribute of a Tensor that is not a leaf Tensor is being accessed. Its .grad attribute won't be populated during autograd.backward(). If you indeed want the gradient for a non-leaf Tensor, use .retain_grad() on the non-leaf Tensor. If you access the non-leaf Tensor by mistake, make sure you access the leaf Tensor instead. See github.com/pytorch/pytorch/pull/30531 for more informations.\n",
      "  if p.grad is not None:\n",
      "/home/ec2-user/SageMaker/.env/fastai/lib/python3.6/site-packages/torch/nn/modules/module.py:1319: UserWarning: The .grad attribute of a Tensor that is not a leaf Tensor is being accessed. Its .grad attribute won't be populated during autograd.backward(). If you indeed want the gradient for a non-leaf Tensor, use .retain_grad() on the non-leaf Tensor. If you access the non-leaf Tensor by mistake, make sure you access the leaf Tensor instead. See github.com/pytorch/pytorch/pull/30531 for more informations.\n",
      "  if p.grad is not None:\n",
      "/home/ec2-user/SageMaker/.env/fastai/lib/python3.6/site-packages/torch/nn/modules/module.py:1319: UserWarning: The .grad attribute of a Tensor that is not a leaf Tensor is being accessed. Its .grad attribute won't be populated during autograd.backward(). If you indeed want the gradient for a non-leaf Tensor, use .retain_grad() on the non-leaf Tensor. If you access the non-leaf Tensor by mistake, make sure you access the leaf Tensor instead. See github.com/pytorch/pytorch/pull/30531 for more informations.\n",
      "  if p.grad is not None:\n",
      "/home/ec2-user/SageMaker/.env/fastai/lib/python3.6/site-packages/torch/nn/modules/module.py:1319: UserWarning: The .grad attribute of a Tensor that is not a leaf Tensor is being accessed. Its .grad attribute won't be populated during autograd.backward(). If you indeed want the gradient for a non-leaf Tensor, use .retain_grad() on the non-leaf Tensor. If you access the non-leaf Tensor by mistake, make sure you access the leaf Tensor instead. See github.com/pytorch/pytorch/pull/30531 for more informations.\n",
      "  if p.grad is not None:\n",
      "/home/ec2-user/SageMaker/.env/fastai/lib/python3.6/site-packages/torch/nn/modules/module.py:1319: UserWarning: The .grad attribute of a Tensor that is not a leaf Tensor is being accessed. Its .grad attribute won't be populated during autograd.backward(). If you indeed want the gradient for a non-leaf Tensor, use .retain_grad() on the non-leaf Tensor. If you access the non-leaf Tensor by mistake, make sure you access the leaf Tensor instead. See github.com/pytorch/pytorch/pull/30531 for more informations.\n",
      "  if p.grad is not None:\n",
      "/home/ec2-user/SageMaker/.env/fastai/lib/python3.6/site-packages/torch/nn/modules/module.py:1319: UserWarning: The .grad attribute of a Tensor that is not a leaf Tensor is being accessed. Its .grad attribute won't be populated during autograd.backward(). If you indeed want the gradient for a non-leaf Tensor, use .retain_grad() on the non-leaf Tensor. If you access the non-leaf Tensor by mistake, make sure you access the leaf Tensor instead. See github.com/pytorch/pytorch/pull/30531 for more informations.\n",
      "  if p.grad is not None:\n",
      "/home/ec2-user/SageMaker/.env/fastai/lib/python3.6/site-packages/torch/nn/modules/module.py:1319: UserWarning: The .grad attribute of a Tensor that is not a leaf Tensor is being accessed. Its .grad attribute won't be populated during autograd.backward(). If you indeed want the gradient for a non-leaf Tensor, use .retain_grad() on the non-leaf Tensor. If you access the non-leaf Tensor by mistake, make sure you access the leaf Tensor instead. See github.com/pytorch/pytorch/pull/30531 for more informations.\n",
      "  if p.grad is not None:\n",
      "/home/ec2-user/SageMaker/.env/fastai/lib/python3.6/site-packages/torch/nn/modules/module.py:1319: UserWarning: The .grad attribute of a Tensor that is not a leaf Tensor is being accessed. Its .grad attribute won't be populated during autograd.backward(). If you indeed want the gradient for a non-leaf Tensor, use .retain_grad() on the non-leaf Tensor. If you access the non-leaf Tensor by mistake, make sure you access the leaf Tensor instead. See github.com/pytorch/pytorch/pull/30531 for more informations.\n",
      "  if p.grad is not None:\n",
      "/home/ec2-user/SageMaker/.env/fastai/lib/python3.6/site-packages/torch/nn/modules/module.py:1319: UserWarning: The .grad attribute of a Tensor that is not a leaf Tensor is being accessed. Its .grad attribute won't be populated during autograd.backward(). If you indeed want the gradient for a non-leaf Tensor, use .retain_grad() on the non-leaf Tensor. If you access the non-leaf Tensor by mistake, make sure you access the leaf Tensor instead. See github.com/pytorch/pytorch/pull/30531 for more informations.\n",
      "  if p.grad is not None:\n",
      "/home/ec2-user/SageMaker/.env/fastai/lib/python3.6/site-packages/torch/nn/modules/module.py:1319: UserWarning: The .grad attribute of a Tensor that is not a leaf Tensor is being accessed. Its .grad attribute won't be populated during autograd.backward(). If you indeed want the gradient for a non-leaf Tensor, use .retain_grad() on the non-leaf Tensor. If you access the non-leaf Tensor by mistake, make sure you access the leaf Tensor instead. See github.com/pytorch/pytorch/pull/30531 for more informations.\n",
      "  if p.grad is not None:\n",
      "/home/ec2-user/SageMaker/.env/fastai/lib/python3.6/site-packages/torch/nn/modules/module.py:1319: UserWarning: The .grad attribute of a Tensor that is not a leaf Tensor is being accessed. Its .grad attribute won't be populated during autograd.backward(). If you indeed want the gradient for a non-leaf Tensor, use .retain_grad() on the non-leaf Tensor. If you access the non-leaf Tensor by mistake, make sure you access the leaf Tensor instead. See github.com/pytorch/pytorch/pull/30531 for more informations.\n",
      "  if p.grad is not None:\n",
      "/home/ec2-user/SageMaker/.env/fastai/lib/python3.6/site-packages/torch/nn/modules/module.py:1319: UserWarning: The .grad attribute of a Tensor that is not a leaf Tensor is being accessed. Its .grad attribute won't be populated during autograd.backward(). If you indeed want the gradient for a non-leaf Tensor, use .retain_grad() on the non-leaf Tensor. If you access the non-leaf Tensor by mistake, make sure you access the leaf Tensor instead. See github.com/pytorch/pytorch/pull/30531 for more informations.\n",
      "  if p.grad is not None:\n",
      "/home/ec2-user/SageMaker/.env/fastai/lib/python3.6/site-packages/torch/nn/modules/module.py:1319: UserWarning: The .grad attribute of a Tensor that is not a leaf Tensor is being accessed. Its .grad attribute won't be populated during autograd.backward(). If you indeed want the gradient for a non-leaf Tensor, use .retain_grad() on the non-leaf Tensor. If you access the non-leaf Tensor by mistake, make sure you access the leaf Tensor instead. See github.com/pytorch/pytorch/pull/30531 for more informations.\n",
      "  if p.grad is not None:\n",
      "/home/ec2-user/SageMaker/.env/fastai/lib/python3.6/site-packages/torch/nn/modules/module.py:1319: UserWarning: The .grad attribute of a Tensor that is not a leaf Tensor is being accessed. Its .grad attribute won't be populated during autograd.backward(). If you indeed want the gradient for a non-leaf Tensor, use .retain_grad() on the non-leaf Tensor. If you access the non-leaf Tensor by mistake, make sure you access the leaf Tensor instead. See github.com/pytorch/pytorch/pull/30531 for more informations.\n",
      "  if p.grad is not None:\n",
      "/home/ec2-user/SageMaker/.env/fastai/lib/python3.6/site-packages/torch/nn/modules/module.py:1319: UserWarning: The .grad attribute of a Tensor that is not a leaf Tensor is being accessed. Its .grad attribute won't be populated during autograd.backward(). If you indeed want the gradient for a non-leaf Tensor, use .retain_grad() on the non-leaf Tensor. If you access the non-leaf Tensor by mistake, make sure you access the leaf Tensor instead. See github.com/pytorch/pytorch/pull/30531 for more informations.\n",
      "  if p.grad is not None:\n",
      "/home/ec2-user/SageMaker/.env/fastai/lib/python3.6/site-packages/torch/nn/modules/module.py:1319: UserWarning: The .grad attribute of a Tensor that is not a leaf Tensor is being accessed. Its .grad attribute won't be populated during autograd.backward(). If you indeed want the gradient for a non-leaf Tensor, use .retain_grad() on the non-leaf Tensor. If you access the non-leaf Tensor by mistake, make sure you access the leaf Tensor instead. See github.com/pytorch/pytorch/pull/30531 for more informations.\n",
      "  if p.grad is not None:\n",
      "/home/ec2-user/SageMaker/.env/fastai/lib/python3.6/site-packages/torch/nn/modules/module.py:1319: UserWarning: The .grad attribute of a Tensor that is not a leaf Tensor is being accessed. Its .grad attribute won't be populated during autograd.backward(). If you indeed want the gradient for a non-leaf Tensor, use .retain_grad() on the non-leaf Tensor. If you access the non-leaf Tensor by mistake, make sure you access the leaf Tensor instead. See github.com/pytorch/pytorch/pull/30531 for more informations.\n",
      "  if p.grad is not None:\n",
      "/home/ec2-user/SageMaker/.env/fastai/lib/python3.6/site-packages/torch/nn/modules/module.py:1319: UserWarning: The .grad attribute of a Tensor that is not a leaf Tensor is being accessed. Its .grad attribute won't be populated during autograd.backward(). If you indeed want the gradient for a non-leaf Tensor, use .retain_grad() on the non-leaf Tensor. If you access the non-leaf Tensor by mistake, make sure you access the leaf Tensor instead. See github.com/pytorch/pytorch/pull/30531 for more informations.\n",
      "  if p.grad is not None:\n",
      "/home/ec2-user/SageMaker/.env/fastai/lib/python3.6/site-packages/torch/nn/modules/module.py:1319: UserWarning: The .grad attribute of a Tensor that is not a leaf Tensor is being accessed. Its .grad attribute won't be populated during autograd.backward(). If you indeed want the gradient for a non-leaf Tensor, use .retain_grad() on the non-leaf Tensor. If you access the non-leaf Tensor by mistake, make sure you access the leaf Tensor instead. See github.com/pytorch/pytorch/pull/30531 for more informations.\n",
      "  if p.grad is not None:\n",
      "/home/ec2-user/SageMaker/.env/fastai/lib/python3.6/site-packages/torch/nn/modules/module.py:1319: UserWarning: The .grad attribute of a Tensor that is not a leaf Tensor is being accessed. Its .grad attribute won't be populated during autograd.backward(). If you indeed want the gradient for a non-leaf Tensor, use .retain_grad() on the non-leaf Tensor. If you access the non-leaf Tensor by mistake, make sure you access the leaf Tensor instead. See github.com/pytorch/pytorch/pull/30531 for more informations.\n",
      "  if p.grad is not None:\n",
      "/home/ec2-user/SageMaker/.env/fastai/lib/python3.6/site-packages/torch/nn/modules/module.py:1319: UserWarning: The .grad attribute of a Tensor that is not a leaf Tensor is being accessed. Its .grad attribute won't be populated during autograd.backward(). If you indeed want the gradient for a non-leaf Tensor, use .retain_grad() on the non-leaf Tensor. If you access the non-leaf Tensor by mistake, make sure you access the leaf Tensor instead. See github.com/pytorch/pytorch/pull/30531 for more informations.\n",
      "  if p.grad is not None:\n",
      "/home/ec2-user/SageMaker/.env/fastai/lib/python3.6/site-packages/torch/nn/modules/module.py:1319: UserWarning: The .grad attribute of a Tensor that is not a leaf Tensor is being accessed. Its .grad attribute won't be populated during autograd.backward(). If you indeed want the gradient for a non-leaf Tensor, use .retain_grad() on the non-leaf Tensor. If you access the non-leaf Tensor by mistake, make sure you access the leaf Tensor instead. See github.com/pytorch/pytorch/pull/30531 for more informations.\n",
      "  if p.grad is not None:\n",
      "/home/ec2-user/SageMaker/.env/fastai/lib/python3.6/site-packages/torch/nn/modules/module.py:1319: UserWarning: The .grad attribute of a Tensor that is not a leaf Tensor is being accessed. Its .grad attribute won't be populated during autograd.backward(). If you indeed want the gradient for a non-leaf Tensor, use .retain_grad() on the non-leaf Tensor. If you access the non-leaf Tensor by mistake, make sure you access the leaf Tensor instead. See github.com/pytorch/pytorch/pull/30531 for more informations.\n",
      "  if p.grad is not None:\n",
      "/home/ec2-user/SageMaker/.env/fastai/lib/python3.6/site-packages/torch/nn/modules/module.py:1319: UserWarning: The .grad attribute of a Tensor that is not a leaf Tensor is being accessed. Its .grad attribute won't be populated during autograd.backward(). If you indeed want the gradient for a non-leaf Tensor, use .retain_grad() on the non-leaf Tensor. If you access the non-leaf Tensor by mistake, make sure you access the leaf Tensor instead. See github.com/pytorch/pytorch/pull/30531 for more informations.\n",
      "  if p.grad is not None:\n",
      "/home/ec2-user/SageMaker/.env/fastai/lib/python3.6/site-packages/torch/nn/modules/module.py:1319: UserWarning: The .grad attribute of a Tensor that is not a leaf Tensor is being accessed. Its .grad attribute won't be populated during autograd.backward(). If you indeed want the gradient for a non-leaf Tensor, use .retain_grad() on the non-leaf Tensor. If you access the non-leaf Tensor by mistake, make sure you access the leaf Tensor instead. See github.com/pytorch/pytorch/pull/30531 for more informations.\n",
      "  if p.grad is not None:\n",
      "/home/ec2-user/SageMaker/.env/fastai/lib/python3.6/site-packages/torch/nn/modules/module.py:1319: UserWarning: The .grad attribute of a Tensor that is not a leaf Tensor is being accessed. Its .grad attribute won't be populated during autograd.backward(). If you indeed want the gradient for a non-leaf Tensor, use .retain_grad() on the non-leaf Tensor. If you access the non-leaf Tensor by mistake, make sure you access the leaf Tensor instead. See github.com/pytorch/pytorch/pull/30531 for more informations.\n",
      "  if p.grad is not None:\n",
      "/home/ec2-user/SageMaker/.env/fastai/lib/python3.6/site-packages/torch/nn/modules/module.py:1319: UserWarning: The .grad attribute of a Tensor that is not a leaf Tensor is being accessed. Its .grad attribute won't be populated during autograd.backward(). If you indeed want the gradient for a non-leaf Tensor, use .retain_grad() on the non-leaf Tensor. If you access the non-leaf Tensor by mistake, make sure you access the leaf Tensor instead. See github.com/pytorch/pytorch/pull/30531 for more informations.\n",
      "  if p.grad is not None:\n",
      "/home/ec2-user/SageMaker/.env/fastai/lib/python3.6/site-packages/torch/nn/modules/module.py:1319: UserWarning: The .grad attribute of a Tensor that is not a leaf Tensor is being accessed. Its .grad attribute won't be populated during autograd.backward(). If you indeed want the gradient for a non-leaf Tensor, use .retain_grad() on the non-leaf Tensor. If you access the non-leaf Tensor by mistake, make sure you access the leaf Tensor instead. See github.com/pytorch/pytorch/pull/30531 for more informations.\n",
      "  if p.grad is not None:\n",
      "/home/ec2-user/SageMaker/.env/fastai/lib/python3.6/site-packages/torch/nn/modules/module.py:1319: UserWarning: The .grad attribute of a Tensor that is not a leaf Tensor is being accessed. Its .grad attribute won't be populated during autograd.backward(). If you indeed want the gradient for a non-leaf Tensor, use .retain_grad() on the non-leaf Tensor. If you access the non-leaf Tensor by mistake, make sure you access the leaf Tensor instead. See github.com/pytorch/pytorch/pull/30531 for more informations.\n",
      "  if p.grad is not None:\n",
      "/home/ec2-user/SageMaker/.env/fastai/lib/python3.6/site-packages/torch/nn/modules/module.py:1319: UserWarning: The .grad attribute of a Tensor that is not a leaf Tensor is being accessed. Its .grad attribute won't be populated during autograd.backward(). If you indeed want the gradient for a non-leaf Tensor, use .retain_grad() on the non-leaf Tensor. If you access the non-leaf Tensor by mistake, make sure you access the leaf Tensor instead. See github.com/pytorch/pytorch/pull/30531 for more informations.\n",
      "  if p.grad is not None:\n",
      "/home/ec2-user/SageMaker/.env/fastai/lib/python3.6/site-packages/torch/nn/modules/module.py:1319: UserWarning: The .grad attribute of a Tensor that is not a leaf Tensor is being accessed. Its .grad attribute won't be populated during autograd.backward(). If you indeed want the gradient for a non-leaf Tensor, use .retain_grad() on the non-leaf Tensor. If you access the non-leaf Tensor by mistake, make sure you access the leaf Tensor instead. See github.com/pytorch/pytorch/pull/30531 for more informations.\n",
      "  if p.grad is not None:\n",
      "/home/ec2-user/SageMaker/.env/fastai/lib/python3.6/site-packages/torch/nn/modules/module.py:1319: UserWarning: The .grad attribute of a Tensor that is not a leaf Tensor is being accessed. Its .grad attribute won't be populated during autograd.backward(). If you indeed want the gradient for a non-leaf Tensor, use .retain_grad() on the non-leaf Tensor. If you access the non-leaf Tensor by mistake, make sure you access the leaf Tensor instead. See github.com/pytorch/pytorch/pull/30531 for more informations.\n",
      "  if p.grad is not None:\n",
      "/home/ec2-user/SageMaker/.env/fastai/lib/python3.6/site-packages/torch/nn/modules/module.py:1319: UserWarning: The .grad attribute of a Tensor that is not a leaf Tensor is being accessed. Its .grad attribute won't be populated during autograd.backward(). If you indeed want the gradient for a non-leaf Tensor, use .retain_grad() on the non-leaf Tensor. If you access the non-leaf Tensor by mistake, make sure you access the leaf Tensor instead. See github.com/pytorch/pytorch/pull/30531 for more informations.\n",
      "  if p.grad is not None:\n",
      "/home/ec2-user/SageMaker/.env/fastai/lib/python3.6/site-packages/torch/nn/modules/module.py:1319: UserWarning: The .grad attribute of a Tensor that is not a leaf Tensor is being accessed. Its .grad attribute won't be populated during autograd.backward(). If you indeed want the gradient for a non-leaf Tensor, use .retain_grad() on the non-leaf Tensor. If you access the non-leaf Tensor by mistake, make sure you access the leaf Tensor instead. See github.com/pytorch/pytorch/pull/30531 for more informations.\n",
      "  if p.grad is not None:\n",
      "/home/ec2-user/SageMaker/.env/fastai/lib/python3.6/site-packages/torch/nn/modules/module.py:1319: UserWarning: The .grad attribute of a Tensor that is not a leaf Tensor is being accessed. Its .grad attribute won't be populated during autograd.backward(). If you indeed want the gradient for a non-leaf Tensor, use .retain_grad() on the non-leaf Tensor. If you access the non-leaf Tensor by mistake, make sure you access the leaf Tensor instead. See github.com/pytorch/pytorch/pull/30531 for more informations.\n",
      "  if p.grad is not None:\n",
      "/home/ec2-user/SageMaker/.env/fastai/lib/python3.6/site-packages/torch/nn/modules/module.py:1319: UserWarning: The .grad attribute of a Tensor that is not a leaf Tensor is being accessed. Its .grad attribute won't be populated during autograd.backward(). If you indeed want the gradient for a non-leaf Tensor, use .retain_grad() on the non-leaf Tensor. If you access the non-leaf Tensor by mistake, make sure you access the leaf Tensor instead. See github.com/pytorch/pytorch/pull/30531 for more informations.\n",
      "  if p.grad is not None:\n",
      "/home/ec2-user/SageMaker/.env/fastai/lib/python3.6/site-packages/torch/nn/modules/module.py:1319: UserWarning: The .grad attribute of a Tensor that is not a leaf Tensor is being accessed. Its .grad attribute won't be populated during autograd.backward(). If you indeed want the gradient for a non-leaf Tensor, use .retain_grad() on the non-leaf Tensor. If you access the non-leaf Tensor by mistake, make sure you access the leaf Tensor instead. See github.com/pytorch/pytorch/pull/30531 for more informations.\n",
      "  if p.grad is not None:\n",
      "/home/ec2-user/SageMaker/.env/fastai/lib/python3.6/site-packages/torch/nn/modules/module.py:1319: UserWarning: The .grad attribute of a Tensor that is not a leaf Tensor is being accessed. Its .grad attribute won't be populated during autograd.backward(). If you indeed want the gradient for a non-leaf Tensor, use .retain_grad() on the non-leaf Tensor. If you access the non-leaf Tensor by mistake, make sure you access the leaf Tensor instead. See github.com/pytorch/pytorch/pull/30531 for more informations.\n",
      "  if p.grad is not None:\n",
      "/home/ec2-user/SageMaker/.env/fastai/lib/python3.6/site-packages/torch/nn/modules/module.py:1319: UserWarning: The .grad attribute of a Tensor that is not a leaf Tensor is being accessed. Its .grad attribute won't be populated during autograd.backward(). If you indeed want the gradient for a non-leaf Tensor, use .retain_grad() on the non-leaf Tensor. If you access the non-leaf Tensor by mistake, make sure you access the leaf Tensor instead. See github.com/pytorch/pytorch/pull/30531 for more informations.\n",
      "  if p.grad is not None:\n",
      "/home/ec2-user/SageMaker/.env/fastai/lib/python3.6/site-packages/torch/nn/modules/module.py:1319: UserWarning: The .grad attribute of a Tensor that is not a leaf Tensor is being accessed. Its .grad attribute won't be populated during autograd.backward(). If you indeed want the gradient for a non-leaf Tensor, use .retain_grad() on the non-leaf Tensor. If you access the non-leaf Tensor by mistake, make sure you access the leaf Tensor instead. See github.com/pytorch/pytorch/pull/30531 for more informations.\n",
      "  if p.grad is not None:\n",
      "/home/ec2-user/SageMaker/.env/fastai/lib/python3.6/site-packages/torch/nn/modules/module.py:1319: UserWarning: The .grad attribute of a Tensor that is not a leaf Tensor is being accessed. Its .grad attribute won't be populated during autograd.backward(). If you indeed want the gradient for a non-leaf Tensor, use .retain_grad() on the non-leaf Tensor. If you access the non-leaf Tensor by mistake, make sure you access the leaf Tensor instead. See github.com/pytorch/pytorch/pull/30531 for more informations.\n",
      "  if p.grad is not None:\n",
      "/home/ec2-user/SageMaker/.env/fastai/lib/python3.6/site-packages/torch/nn/modules/module.py:1319: UserWarning: The .grad attribute of a Tensor that is not a leaf Tensor is being accessed. Its .grad attribute won't be populated during autograd.backward(). If you indeed want the gradient for a non-leaf Tensor, use .retain_grad() on the non-leaf Tensor. If you access the non-leaf Tensor by mistake, make sure you access the leaf Tensor instead. See github.com/pytorch/pytorch/pull/30531 for more informations.\n",
      "  if p.grad is not None:\n",
      "/home/ec2-user/SageMaker/.env/fastai/lib/python3.6/site-packages/torch/nn/modules/module.py:1319: UserWarning: The .grad attribute of a Tensor that is not a leaf Tensor is being accessed. Its .grad attribute won't be populated during autograd.backward(). If you indeed want the gradient for a non-leaf Tensor, use .retain_grad() on the non-leaf Tensor. If you access the non-leaf Tensor by mistake, make sure you access the leaf Tensor instead. See github.com/pytorch/pytorch/pull/30531 for more informations.\n",
      "  if p.grad is not None:\n",
      "/home/ec2-user/SageMaker/.env/fastai/lib/python3.6/site-packages/torch/nn/modules/module.py:1319: UserWarning: The .grad attribute of a Tensor that is not a leaf Tensor is being accessed. Its .grad attribute won't be populated during autograd.backward(). If you indeed want the gradient for a non-leaf Tensor, use .retain_grad() on the non-leaf Tensor. If you access the non-leaf Tensor by mistake, make sure you access the leaf Tensor instead. See github.com/pytorch/pytorch/pull/30531 for more informations.\n",
      "  if p.grad is not None:\n",
      "/home/ec2-user/SageMaker/.env/fastai/lib/python3.6/site-packages/torch/nn/modules/module.py:1319: UserWarning: The .grad attribute of a Tensor that is not a leaf Tensor is being accessed. Its .grad attribute won't be populated during autograd.backward(). If you indeed want the gradient for a non-leaf Tensor, use .retain_grad() on the non-leaf Tensor. If you access the non-leaf Tensor by mistake, make sure you access the leaf Tensor instead. See github.com/pytorch/pytorch/pull/30531 for more informations.\n",
      "  if p.grad is not None:\n",
      "/home/ec2-user/SageMaker/.env/fastai/lib/python3.6/site-packages/torch/nn/modules/module.py:1319: UserWarning: The .grad attribute of a Tensor that is not a leaf Tensor is being accessed. Its .grad attribute won't be populated during autograd.backward(). If you indeed want the gradient for a non-leaf Tensor, use .retain_grad() on the non-leaf Tensor. If you access the non-leaf Tensor by mistake, make sure you access the leaf Tensor instead. See github.com/pytorch/pytorch/pull/30531 for more informations.\n",
      "  if p.grad is not None:\n",
      "/home/ec2-user/SageMaker/.env/fastai/lib/python3.6/site-packages/torch/nn/modules/module.py:1319: UserWarning: The .grad attribute of a Tensor that is not a leaf Tensor is being accessed. Its .grad attribute won't be populated during autograd.backward(). If you indeed want the gradient for a non-leaf Tensor, use .retain_grad() on the non-leaf Tensor. If you access the non-leaf Tensor by mistake, make sure you access the leaf Tensor instead. See github.com/pytorch/pytorch/pull/30531 for more informations.\n",
      "  if p.grad is not None:\n",
      "/home/ec2-user/SageMaker/.env/fastai/lib/python3.6/site-packages/torch/nn/modules/module.py:1319: UserWarning: The .grad attribute of a Tensor that is not a leaf Tensor is being accessed. Its .grad attribute won't be populated during autograd.backward(). If you indeed want the gradient for a non-leaf Tensor, use .retain_grad() on the non-leaf Tensor. If you access the non-leaf Tensor by mistake, make sure you access the leaf Tensor instead. See github.com/pytorch/pytorch/pull/30531 for more informations.\n",
      "  if p.grad is not None:\n",
      "/home/ec2-user/SageMaker/.env/fastai/lib/python3.6/site-packages/torch/nn/modules/module.py:1319: UserWarning: The .grad attribute of a Tensor that is not a leaf Tensor is being accessed. Its .grad attribute won't be populated during autograd.backward(). If you indeed want the gradient for a non-leaf Tensor, use .retain_grad() on the non-leaf Tensor. If you access the non-leaf Tensor by mistake, make sure you access the leaf Tensor instead. See github.com/pytorch/pytorch/pull/30531 for more informations.\n",
      "  if p.grad is not None:\n",
      "/home/ec2-user/SageMaker/.env/fastai/lib/python3.6/site-packages/torch/nn/modules/module.py:1319: UserWarning: The .grad attribute of a Tensor that is not a leaf Tensor is being accessed. Its .grad attribute won't be populated during autograd.backward(). If you indeed want the gradient for a non-leaf Tensor, use .retain_grad() on the non-leaf Tensor. If you access the non-leaf Tensor by mistake, make sure you access the leaf Tensor instead. See github.com/pytorch/pytorch/pull/30531 for more informations.\n",
      "  if p.grad is not None:\n",
      "/home/ec2-user/SageMaker/.env/fastai/lib/python3.6/site-packages/torch/nn/modules/module.py:1319: UserWarning: The .grad attribute of a Tensor that is not a leaf Tensor is being accessed. Its .grad attribute won't be populated during autograd.backward(). If you indeed want the gradient for a non-leaf Tensor, use .retain_grad() on the non-leaf Tensor. If you access the non-leaf Tensor by mistake, make sure you access the leaf Tensor instead. See github.com/pytorch/pytorch/pull/30531 for more informations.\n",
      "  if p.grad is not None:\n",
      "/home/ec2-user/SageMaker/.env/fastai/lib/python3.6/site-packages/torch/nn/modules/module.py:1319: UserWarning: The .grad attribute of a Tensor that is not a leaf Tensor is being accessed. Its .grad attribute won't be populated during autograd.backward(). If you indeed want the gradient for a non-leaf Tensor, use .retain_grad() on the non-leaf Tensor. If you access the non-leaf Tensor by mistake, make sure you access the leaf Tensor instead. See github.com/pytorch/pytorch/pull/30531 for more informations.\n",
      "  if p.grad is not None:\n",
      "/home/ec2-user/SageMaker/.env/fastai/lib/python3.6/site-packages/torch/nn/modules/module.py:1319: UserWarning: The .grad attribute of a Tensor that is not a leaf Tensor is being accessed. Its .grad attribute won't be populated during autograd.backward(). If you indeed want the gradient for a non-leaf Tensor, use .retain_grad() on the non-leaf Tensor. If you access the non-leaf Tensor by mistake, make sure you access the leaf Tensor instead. See github.com/pytorch/pytorch/pull/30531 for more informations.\n",
      "  if p.grad is not None:\n",
      "/home/ec2-user/SageMaker/.env/fastai/lib/python3.6/site-packages/torch/nn/modules/module.py:1319: UserWarning: The .grad attribute of a Tensor that is not a leaf Tensor is being accessed. Its .grad attribute won't be populated during autograd.backward(). If you indeed want the gradient for a non-leaf Tensor, use .retain_grad() on the non-leaf Tensor. If you access the non-leaf Tensor by mistake, make sure you access the leaf Tensor instead. See github.com/pytorch/pytorch/pull/30531 for more informations.\n",
      "  if p.grad is not None:\n",
      "/home/ec2-user/SageMaker/.env/fastai/lib/python3.6/site-packages/torch/nn/modules/module.py:1319: UserWarning: The .grad attribute of a Tensor that is not a leaf Tensor is being accessed. Its .grad attribute won't be populated during autograd.backward(). If you indeed want the gradient for a non-leaf Tensor, use .retain_grad() on the non-leaf Tensor. If you access the non-leaf Tensor by mistake, make sure you access the leaf Tensor instead. See github.com/pytorch/pytorch/pull/30531 for more informations.\n",
      "  if p.grad is not None:\n",
      "/home/ec2-user/SageMaker/.env/fastai/lib/python3.6/site-packages/torch/nn/modules/module.py:1319: UserWarning: The .grad attribute of a Tensor that is not a leaf Tensor is being accessed. Its .grad attribute won't be populated during autograd.backward(). If you indeed want the gradient for a non-leaf Tensor, use .retain_grad() on the non-leaf Tensor. If you access the non-leaf Tensor by mistake, make sure you access the leaf Tensor instead. See github.com/pytorch/pytorch/pull/30531 for more informations.\n",
      "  if p.grad is not None:\n",
      "/home/ec2-user/SageMaker/.env/fastai/lib/python3.6/site-packages/torch/nn/modules/module.py:1319: UserWarning: The .grad attribute of a Tensor that is not a leaf Tensor is being accessed. Its .grad attribute won't be populated during autograd.backward(). If you indeed want the gradient for a non-leaf Tensor, use .retain_grad() on the non-leaf Tensor. If you access the non-leaf Tensor by mistake, make sure you access the leaf Tensor instead. See github.com/pytorch/pytorch/pull/30531 for more informations.\n",
      "  if p.grad is not None:\n",
      "/home/ec2-user/SageMaker/.env/fastai/lib/python3.6/site-packages/torch/nn/modules/module.py:1319: UserWarning: The .grad attribute of a Tensor that is not a leaf Tensor is being accessed. Its .grad attribute won't be populated during autograd.backward(). If you indeed want the gradient for a non-leaf Tensor, use .retain_grad() on the non-leaf Tensor. If you access the non-leaf Tensor by mistake, make sure you access the leaf Tensor instead. See github.com/pytorch/pytorch/pull/30531 for more informations.\n",
      "  if p.grad is not None:\n",
      "/home/ec2-user/SageMaker/.env/fastai/lib/python3.6/site-packages/torch/nn/modules/module.py:1319: UserWarning: The .grad attribute of a Tensor that is not a leaf Tensor is being accessed. Its .grad attribute won't be populated during autograd.backward(). If you indeed want the gradient for a non-leaf Tensor, use .retain_grad() on the non-leaf Tensor. If you access the non-leaf Tensor by mistake, make sure you access the leaf Tensor instead. See github.com/pytorch/pytorch/pull/30531 for more informations.\n",
      "  if p.grad is not None:\n",
      "/home/ec2-user/SageMaker/.env/fastai/lib/python3.6/site-packages/torch/nn/modules/module.py:1319: UserWarning: The .grad attribute of a Tensor that is not a leaf Tensor is being accessed. Its .grad attribute won't be populated during autograd.backward(). If you indeed want the gradient for a non-leaf Tensor, use .retain_grad() on the non-leaf Tensor. If you access the non-leaf Tensor by mistake, make sure you access the leaf Tensor instead. See github.com/pytorch/pytorch/pull/30531 for more informations.\n",
      "  if p.grad is not None:\n",
      "/home/ec2-user/SageMaker/.env/fastai/lib/python3.6/site-packages/torch/nn/modules/module.py:1319: UserWarning: The .grad attribute of a Tensor that is not a leaf Tensor is being accessed. Its .grad attribute won't be populated during autograd.backward(). If you indeed want the gradient for a non-leaf Tensor, use .retain_grad() on the non-leaf Tensor. If you access the non-leaf Tensor by mistake, make sure you access the leaf Tensor instead. See github.com/pytorch/pytorch/pull/30531 for more informations.\n",
      "  if p.grad is not None:\n",
      "/home/ec2-user/SageMaker/.env/fastai/lib/python3.6/site-packages/torch/nn/modules/module.py:1319: UserWarning: The .grad attribute of a Tensor that is not a leaf Tensor is being accessed. Its .grad attribute won't be populated during autograd.backward(). If you indeed want the gradient for a non-leaf Tensor, use .retain_grad() on the non-leaf Tensor. If you access the non-leaf Tensor by mistake, make sure you access the leaf Tensor instead. See github.com/pytorch/pytorch/pull/30531 for more informations.\n",
      "  if p.grad is not None:\n",
      "/home/ec2-user/SageMaker/.env/fastai/lib/python3.6/site-packages/torch/nn/modules/module.py:1319: UserWarning: The .grad attribute of a Tensor that is not a leaf Tensor is being accessed. Its .grad attribute won't be populated during autograd.backward(). If you indeed want the gradient for a non-leaf Tensor, use .retain_grad() on the non-leaf Tensor. If you access the non-leaf Tensor by mistake, make sure you access the leaf Tensor instead. See github.com/pytorch/pytorch/pull/30531 for more informations.\n",
      "  if p.grad is not None:\n",
      "/home/ec2-user/SageMaker/.env/fastai/lib/python3.6/site-packages/torch/nn/modules/module.py:1319: UserWarning: The .grad attribute of a Tensor that is not a leaf Tensor is being accessed. Its .grad attribute won't be populated during autograd.backward(). If you indeed want the gradient for a non-leaf Tensor, use .retain_grad() on the non-leaf Tensor. If you access the non-leaf Tensor by mistake, make sure you access the leaf Tensor instead. See github.com/pytorch/pytorch/pull/30531 for more informations.\n",
      "  if p.grad is not None:\n",
      "/home/ec2-user/SageMaker/.env/fastai/lib/python3.6/site-packages/torch/nn/modules/module.py:1319: UserWarning: The .grad attribute of a Tensor that is not a leaf Tensor is being accessed. Its .grad attribute won't be populated during autograd.backward(). If you indeed want the gradient for a non-leaf Tensor, use .retain_grad() on the non-leaf Tensor. If you access the non-leaf Tensor by mistake, make sure you access the leaf Tensor instead. See github.com/pytorch/pytorch/pull/30531 for more informations.\n",
      "  if p.grad is not None:\n",
      "/home/ec2-user/SageMaker/.env/fastai/lib/python3.6/site-packages/torch/nn/modules/module.py:1319: UserWarning: The .grad attribute of a Tensor that is not a leaf Tensor is being accessed. Its .grad attribute won't be populated during autograd.backward(). If you indeed want the gradient for a non-leaf Tensor, use .retain_grad() on the non-leaf Tensor. If you access the non-leaf Tensor by mistake, make sure you access the leaf Tensor instead. See github.com/pytorch/pytorch/pull/30531 for more informations.\n",
      "  if p.grad is not None:\n",
      "/home/ec2-user/SageMaker/.env/fastai/lib/python3.6/site-packages/torch/nn/modules/module.py:1319: UserWarning: The .grad attribute of a Tensor that is not a leaf Tensor is being accessed. Its .grad attribute won't be populated during autograd.backward(). If you indeed want the gradient for a non-leaf Tensor, use .retain_grad() on the non-leaf Tensor. If you access the non-leaf Tensor by mistake, make sure you access the leaf Tensor instead. See github.com/pytorch/pytorch/pull/30531 for more informations.\n",
      "  if p.grad is not None:\n",
      "/home/ec2-user/SageMaker/.env/fastai/lib/python3.6/site-packages/torch/nn/modules/module.py:1319: UserWarning: The .grad attribute of a Tensor that is not a leaf Tensor is being accessed. Its .grad attribute won't be populated during autograd.backward(). If you indeed want the gradient for a non-leaf Tensor, use .retain_grad() on the non-leaf Tensor. If you access the non-leaf Tensor by mistake, make sure you access the leaf Tensor instead. See github.com/pytorch/pytorch/pull/30531 for more informations.\n",
      "  if p.grad is not None:\n",
      "/home/ec2-user/SageMaker/.env/fastai/lib/python3.6/site-packages/torch/nn/modules/module.py:1319: UserWarning: The .grad attribute of a Tensor that is not a leaf Tensor is being accessed. Its .grad attribute won't be populated during autograd.backward(). If you indeed want the gradient for a non-leaf Tensor, use .retain_grad() on the non-leaf Tensor. If you access the non-leaf Tensor by mistake, make sure you access the leaf Tensor instead. See github.com/pytorch/pytorch/pull/30531 for more informations.\n",
      "  if p.grad is not None:\n",
      "/home/ec2-user/SageMaker/.env/fastai/lib/python3.6/site-packages/torch/nn/modules/module.py:1319: UserWarning: The .grad attribute of a Tensor that is not a leaf Tensor is being accessed. Its .grad attribute won't be populated during autograd.backward(). If you indeed want the gradient for a non-leaf Tensor, use .retain_grad() on the non-leaf Tensor. If you access the non-leaf Tensor by mistake, make sure you access the leaf Tensor instead. See github.com/pytorch/pytorch/pull/30531 for more informations.\n",
      "  if p.grad is not None:\n",
      "/home/ec2-user/SageMaker/.env/fastai/lib/python3.6/site-packages/torch/nn/modules/module.py:1319: UserWarning: The .grad attribute of a Tensor that is not a leaf Tensor is being accessed. Its .grad attribute won't be populated during autograd.backward(). If you indeed want the gradient for a non-leaf Tensor, use .retain_grad() on the non-leaf Tensor. If you access the non-leaf Tensor by mistake, make sure you access the leaf Tensor instead. See github.com/pytorch/pytorch/pull/30531 for more informations.\n",
      "  if p.grad is not None:\n",
      "/home/ec2-user/SageMaker/.env/fastai/lib/python3.6/site-packages/torch/nn/modules/module.py:1319: UserWarning: The .grad attribute of a Tensor that is not a leaf Tensor is being accessed. Its .grad attribute won't be populated during autograd.backward(). If you indeed want the gradient for a non-leaf Tensor, use .retain_grad() on the non-leaf Tensor. If you access the non-leaf Tensor by mistake, make sure you access the leaf Tensor instead. See github.com/pytorch/pytorch/pull/30531 for more informations.\n",
      "  if p.grad is not None:\n"
     ]
    }
   ],
   "source": [
    "learn.unfreeze()\n",
    "learn.fit_one_cycle(10, lr, moms=(0.8,0.7))"
   ]
  },
  {
   "cell_type": "code",
   "execution_count": 31,
   "metadata": {},
   "outputs": [],
   "source": [
    "learn.to_fp32().save(lm_fns[0], with_opt=False)\n",
    "learn.data.vocab.save(lm_fns[1].with_suffix('.pkl'))"
   ]
  },
  {
   "cell_type": "code",
   "execution_count": null,
   "metadata": {},
   "outputs": [],
   "source": []
  },
  {
   "cell_type": "code",
   "execution_count": 33,
   "metadata": {},
   "outputs": [],
   "source": [
    "learn.to_fp32().export('/home/ec2-user/.fastai/data/txwiki/models/learner_modtx_spm.pkl')"
   ]
  },
  {
   "cell_type": "code",
   "execution_count": 34,
   "metadata": {},
   "outputs": [],
   "source": [
    "learn.data.vocab.save('/home/ec2-user/.fastai/data/txwiki/models/learner_vocab_tx_spm.pkl')\n"
   ]
  },
  {
   "cell_type": "code",
   "execution_count": 35,
   "metadata": {},
   "outputs": [],
   "source": [
    "learn.save_encoder('/home/ec2-user/.fastai/data/txwiki/models/learner_tx_spm_enc')\n"
   ]
  },
  {
   "cell_type": "code",
   "execution_count": 36,
   "metadata": {},
   "outputs": [
    {
     "data": {
      "text/plain": [
       "PosixPath('/home/ec2-user/.fastai/data/txwiki/models/learner_mod_tx_spm_save.pkl.pth')"
      ]
     },
     "execution_count": 36,
     "metadata": {},
     "output_type": "execute_result"
    }
   ],
   "source": [
    "learn.to_fp32().save('/home/ec2-user/.fastai/data/txwiki/models/learner_mod_tx_spm_save.pkl',return_path=True)\n"
   ]
  },
  {
   "cell_type": "markdown",
   "metadata": {},
   "source": [
    "# From NN-IMDB NB"
   ]
  },
  {
   "cell_type": "code",
   "execution_count": 37,
   "metadata": {},
   "outputs": [
    {
     "data": {
      "text/plain": [
       "(5736, 90)"
      ]
     },
     "execution_count": 37,
     "metadata": {},
     "output_type": "execute_result"
    }
   ],
   "source": [
    "len(data.vocab.itos),len(data.train_ds)"
   ]
  },
  {
   "cell_type": "code",
   "execution_count": 39,
   "metadata": {},
   "outputs": [
    {
     "data": {
      "text/html": [
       "<table border=\"1\" class=\"dataframe\">\n",
       "  <thead>\n",
       "    <tr style=\"text-align: right;\">\n",
       "      <th>idx</th>\n",
       "      <th>text</th>\n",
       "    </tr>\n",
       "  </thead>\n",
       "  <tbody>\n",
       "    <tr>\n",
       "      <td>0</td>\n",
       "      <td>▁xxbos ▁xxmaj ▁i ̇ stihbarat ▁xxmaj ▁bakanlığı ▁( i ̇ ran ) ▁xxmaj ▁i ̇ ran ▁xxmaj ▁i ̇ slam ▁xxmaj ▁cumhuriyeti ▁xxmaj ▁i ̇ stihbarat ▁xxmaj ▁bakanlığı ▁( farsça : ▁ و ِ ز ا ر َ ت ِ ▁ ا ِ ط ّ لا ع ا ت ▁ ج ُ م ه و ر ی ِ ▁ ا ِ س لا م ی ِ ▁ ا ی ر</td>\n",
       "    </tr>\n",
       "    <tr>\n",
       "      <td>1</td>\n",
       "      <td>▁ shi m ▁xxmaj ▁ ji - ye on ▁adında ▁iki ▁kız ▁kardeşi ▁vardır . ▁xxup ▁sm ▁xxmaj ▁ entertainment ’ a ▁ba d m in ton ▁oynar ken ▁bir ▁kadın ın ▁ona ▁yaklaşı p ▁yarışmalar a ▁gelmesi ni ▁söyleme sinden ▁sonra ▁annesi ▁istedi ği ▁için ▁katıl mıştır . ▁xxup ▁sm ▁xxmaj ▁ entertainment ▁tarafından ▁düzenlenen ▁xxmaj ▁altıncı ▁xxmaj ▁gençlik ▁xxmaj ▁yarışma sında ▁en ▁iyi ▁şarkıcı ▁ve ▁en ▁iyi ▁</td>\n",
       "    </tr>\n",
       "    <tr>\n",
       "      <td>2</td>\n",
       "      <td>\", ▁ genellikle ▁sürdürüle bilir ▁kalkınma , ▁ekonomik ▁büyüme ▁ve ▁çevre yi ▁koruma nın ▁birbirin e ▁bağlan ması , ▁ve ▁küresel ▁ıs ın ma ▁tartışmaları yla ▁bağlantılı ▁olarak ▁bahsedil ir . ▁xxmaj ▁ayn ı ▁zamanda ▁ekonomi , ▁ evrim sel ▁psikoloji , ▁ an tr op oloji , ▁oyun ▁teori si , ▁siyaset , ▁vergile ndirme ▁ve ▁so sy oloji ▁alanlarında ki ▁davranış ları ▁analiz ▁etmek ▁için ▁de ▁kullanıl mıştır</td>\n",
       "    </tr>\n",
       "    <tr>\n",
       "      <td>3</td>\n",
       "      <td>den ▁etkilen ir ▁ayrıca ▁kediler ▁ve ▁diğer ▁ yı r t ıcı ▁kuşlar ▁tarafından ▁avlan ırlar . ▁xxmaj ▁öte r ▁ardı ç ▁kuşu ▁18 31 ▁yılında ▁xxmaj ▁alman ▁ or ni t olog ▁xxmaj ▁christ ian ▁xxmaj ▁ lu d w i g ▁xxmaj ▁ bre h m ▁tarafından ▁tanıml an mıştır ▁ve ▁o ▁zamanda n ▁beri ▁ilk ▁verilen ▁bilim sel ▁adını ▁koruma ktadır : ▁\" turdus ▁ philo melos</td>\n",
       "    </tr>\n",
       "    <tr>\n",
       "      <td>4</td>\n",
       "      <td>▁xxmaj ▁bu ▁şakıma , ▁xxmaj ▁dış ▁xxmaj ▁hebrid ler ▁alt ▁türü ▁tarafından ▁şubat ▁ayında n ▁haziran ▁ay ına ▁kadar ▁yapılır ▁ancak ▁diğer ▁alt ▁tür ler ▁tarafından ▁kasım dan ▁temmuz a ▁kadar ▁yapılır . ▁xxmaj ▁ağırlığı na ▁ora n la ▁bu ▁kuş ▁türü ▁en ▁yüksek ▁ses le ▁şakı yan ▁kuşlar dan ▁biridir . ▁xxmaj ▁erkek ▁birey lerin ▁100 ' den ▁fazla ▁müzik al ▁dizi ▁içeren ▁re per tu var ları ▁olabilir</td>\n",
       "    </tr>\n",
       "  </tbody>\n",
       "</table>"
      ],
      "text/plain": [
       "<IPython.core.display.HTML object>"
      ]
     },
     "metadata": {},
     "output_type": "display_data"
    }
   ],
   "source": [
    "data.show_batch()"
   ]
  },
  {
   "cell_type": "code",
   "execution_count": 40,
   "metadata": {},
   "outputs": [],
   "source": [
    "vocab = data.vocab"
   ]
  },
  {
   "cell_type": "code",
   "execution_count": 48,
   "metadata": {},
   "outputs": [
    {
     "data": {
      "text/plain": [
       "4646"
      ]
     },
     "execution_count": 48,
     "metadata": {},
     "output_type": "execute_result"
    }
   ],
   "source": [
    "vocab.stoi[\"stratejik\"]"
   ]
  },
  {
   "cell_type": "code",
   "execution_count": 46,
   "metadata": {},
   "outputs": [],
   "source": [
    "wiki_words = set(vocab.itos)\n"
   ]
  },
  {
   "cell_type": "code",
   "execution_count": 50,
   "metadata": {},
   "outputs": [
    {
     "data": {
      "text/plain": [
       "{'stratejik',\n",
       " '▁logosu',\n",
       " '▁çıkarak',\n",
       " '▁bastırı',\n",
       " '▁için',\n",
       " 'talya',\n",
       " 'berk',\n",
       " 'meye',\n",
       " '▁buluntular',\n",
       " 'ttiği',\n",
       " '▁sherwood',\n",
       " 'ların',\n",
       " '▁yorumcu',\n",
       " ']',\n",
       " '▁kutusunu',\n",
       " '▁birlik',\n",
       " '▁xxpad',\n",
       " 'tor',\n",
       " '▁güreşçi',\n",
       " '▁şerefine',\n",
       " '▁çalışma',\n",
       " '▁2016',\n",
       " '▁demokrat',\n",
       " 'keep',\n",
       " '▁yaz',\n",
       " '▁bölgesel',\n",
       " '▁höyük',\n",
       " '▁şimdi',\n",
       " '▁zelanda',\n",
       " '▁türk',\n",
       " '▁yer',\n",
       " 'oksit',\n",
       " '▁rudo',\n",
       " 'e',\n",
       " '▁geliştiren',\n",
       " '▁orantı',\n",
       " '▁rusya',\n",
       " '▁gelmiştir',\n",
       " '▁adı',\n",
       " '▁onur',\n",
       " '▁boy',\n",
       " '▁west',\n",
       " '▁veriler',\n",
       " '▁kemeri',\n",
       " '▁başkanlığı',\n",
       " '▁başın',\n",
       " '▁fark',\n",
       " '▁rauf',\n",
       " 'r',\n",
       " '▁tanrısı',\n",
       " 'doğal',\n",
       " 'pati',\n",
       " '▁%7',\n",
       " '▁tür',\n",
       " '▁dizi',\n",
       " '▁yazılım',\n",
       " '▁doğası',\n",
       " 'aptı',\n",
       " '▁töreninde',\n",
       " 'υ',\n",
       " '▁simülasyon',\n",
       " 'ar',\n",
       " '▁idi',\n",
       " '▁kruvazörü',\n",
       " '▁san',\n",
       " '▁harf',\n",
       " 'ül',\n",
       " 'dy',\n",
       " '▁sızdırma',\n",
       " '▁melissa',\n",
       " 'ması',\n",
       " '▁devletin',\n",
       " '1902',\n",
       " '▁algıla',\n",
       " '▁kaza',\n",
       " '▁\"',\n",
       " '▁ilerleme',\n",
       " 'yalnız',\n",
       " '▁görmek',\n",
       " '▁raporu',\n",
       " 'lenmiştir',\n",
       " 'yalı',\n",
       " '▁taret',\n",
       " '▁hükûmette',\n",
       " 'yu',\n",
       " '▁etrafında',\n",
       " '▁ordu',\n",
       " '▁callao',\n",
       " '▁bölümden',\n",
       " 'tal',\n",
       " '▁kupa',\n",
       " '▁doldurma',\n",
       " 'gazi',\n",
       " 'likle',\n",
       " 'с',\n",
       " '▁gitarist',\n",
       " 'lan',\n",
       " '▁ergen',\n",
       " '▁vardı',\n",
       " '...\"',\n",
       " '▁hem',\n",
       " 'homa',\n",
       " '▁suçlu',\n",
       " '▁kuşatıldı',\n",
       " '▁denetleme',\n",
       " '▁doçent',\n",
       " '▁ailesi',\n",
       " '▁bulun',\n",
       " 'ynyrd',\n",
       " '▁akarsu',\n",
       " '▁elektrofil',\n",
       " '▁siklus',\n",
       " '▁ayrıldı',\n",
       " '▁corne',\n",
       " '▁güney',\n",
       " '▁manastır',\n",
       " '▁bölümde',\n",
       " '▁bi',\n",
       " '▁miniskop',\n",
       " '▁ka',\n",
       " '▁pepsi',\n",
       " '▁uygulaya',\n",
       " '190',\n",
       " '▁kö',\n",
       " '▁henrik',\n",
       " '▁sahiptir',\n",
       " '▁tersanesi',\n",
       " '▁en',\n",
       " '▁söylemleri',\n",
       " '▁verir',\n",
       " '▁filmin',\n",
       " 'love',\n",
       " '▁adıyaman',\n",
       " '▁sert',\n",
       " 'polis',\n",
       " '▁kongresinde',\n",
       " 'düğü',\n",
       " '▁çalışmalarını',\n",
       " '▁dinçer',\n",
       " '>',\n",
       " '▁450',\n",
       " '▁han',\n",
       " '▁civar',\n",
       " '▁tra',\n",
       " '▁bak',\n",
       " '▁nichol',\n",
       " '▁müziği',\n",
       " '▁akraba',\n",
       " '▁birçoğu',\n",
       " '7',\n",
       " '▁edildi',\n",
       " '▁bakteride',\n",
       " '▁onursal',\n",
       " '▁bileşenlerin',\n",
       " '▁kanal',\n",
       " '▁moğolcada',\n",
       " '▁ilişkilerini',\n",
       " '▁vii',\n",
       " '▁filmde',\n",
       " '▁bozuklu',\n",
       " '▁itibarıyla',\n",
       " '▁kidd',\n",
       " '▁filosu',\n",
       " '40',\n",
       " 'lenerek',\n",
       " '▁kav',\n",
       " '▁cumhuriyet',\n",
       " '▁kür',\n",
       " '▁yaptığını',\n",
       " '▁market',\n",
       " '▁adlı',\n",
       " '▁yapma',\n",
       " '▁dryden',\n",
       " '▁devredilmişti',\n",
       " '▁uyar',\n",
       " '▁kanalın',\n",
       " '▁5,',\n",
       " '▁metot',\n",
       " '▁tanıml',\n",
       " '▁vi',\n",
       " 'ph',\n",
       " '4\"',\n",
       " '▁allah',\n",
       " '▁konsolosu',\n",
       " 'müşavir',\n",
       " 'miştir',\n",
       " '▁gizli',\n",
       " '▁orman',\n",
       " '▁ba',\n",
       " '▁kuyruk',\n",
       " 'gil',\n",
       " 'carol',\n",
       " '▁christ',\n",
       " 'sinde',\n",
       " '▁salyangozlar',\n",
       " 'çindekiler',\n",
       " '▁soruşturma',\n",
       " '▁üçlü',\n",
       " '▁kapak',\n",
       " 'futbol',\n",
       " 'biliyor',\n",
       " 'stre',\n",
       " '▁morozov',\n",
       " '▁doktorasın',\n",
       " '▁toronto',\n",
       " '▁dalgasını',\n",
       " '▁ateş',\n",
       " '▁live',\n",
       " '▁çıkartıldı',\n",
       " '▁standart',\n",
       " '▁duman',\n",
       " '▁açıklıkta',\n",
       " '▁yararl',\n",
       " '▁spears',\n",
       " '▁novorossiysk',\n",
       " '▁gösteri',\n",
       " '▁heykel',\n",
       " '▁gemiler',\n",
       " 'izm',\n",
       " 'q',\n",
       " '▁twitter',\n",
       " 'ibinde',\n",
       " '▁girişim',\n",
       " '▁restor',\n",
       " '▁iktidarı',\n",
       " '▁1994',\n",
       " 'son',\n",
       " '▁başkent',\n",
       " '▁yeniden',\n",
       " '▁yarış',\n",
       " 'damla',\n",
       " '▁kullanılan',\n",
       " '▁evler',\n",
       " '▁popülasyonu',\n",
       " '▁referandumu',\n",
       " 'buklar',\n",
       " '▁planı',\n",
       " '▁charlotte',\n",
       " 'html',\n",
       " 'fantasti',\n",
       " '▁1919',\n",
       " '▁altındaki',\n",
       " '▁muharebe',\n",
       " '▁çekimleri',\n",
       " '▁yönler',\n",
       " 'metri',\n",
       " '▁ad',\n",
       " '▁bunu',\n",
       " '▁dişi',\n",
       " 'asından',\n",
       " 'zonguldak',\n",
       " '▁dört',\n",
       " '▁amerikan',\n",
       " '▁196',\n",
       " '▁ediyor',\n",
       " 'ildi',\n",
       " '▁imzalan',\n",
       " '▁komuta',\n",
       " '▁3.',\n",
       " '▁tabak',\n",
       " '▁açıklan',\n",
       " '▁sebebiyle',\n",
       " 'esaret',\n",
       " 'lıyordu',\n",
       " 'dalga',\n",
       " 'ttifak',\n",
       " 'müştür',\n",
       " '▁geçmiş',\n",
       " '▁kullanarak',\n",
       " 'ة',\n",
       " '▁jennifer',\n",
       " '▁giden',\n",
       " '▁şube',\n",
       " '▁marka',\n",
       " '▁hukuk',\n",
       " '▁işgalin',\n",
       " '▁kralı',\n",
       " '▁general',\n",
       " '▁henderson',\n",
       " '▁1983',\n",
       " 'peterburg',\n",
       " '▁kalkan',\n",
       " '▁karsinojen',\n",
       " 'diye',\n",
       " '▁değerli',\n",
       " '▁eğ',\n",
       " 'ğ',\n",
       " '▁aktif',\n",
       " '▁rağmen',\n",
       " '▁olacaktı',\n",
       " '▁ulaşı',\n",
       " '▁derneği',\n",
       " '▁projeler',\n",
       " '▁arasında',\n",
       " '▁kelimesi',\n",
       " 'ы',\n",
       " '▁bolşevikler',\n",
       " 'lık',\n",
       " '▁edi',\n",
       " '▁düşün',\n",
       " '▁ajan',\n",
       " '▁hikâye',\n",
       " '▁sharr',\n",
       " '▁2012',\n",
       " '▁yürü',\n",
       " 'gi',\n",
       " '▁niha',\n",
       " '▁salonu',\n",
       " '▁hikâyesin',\n",
       " '▁töreni',\n",
       " 'bor',\n",
       " '▁son',\n",
       " 'ster',\n",
       " '▁istemektedir',\n",
       " '▁malzeme',\n",
       " 'lüğü',\n",
       " '▁20',\n",
       " 'sında',\n",
       " '▁ilk',\n",
       " '▁şaşırt',\n",
       " '▁hastanesi',\n",
       " '▁kızı',\n",
       " '▁amaçlı',\n",
       " '▁boer',\n",
       " 'düğünü',\n",
       " 'is',\n",
       " '▁feth',\n",
       " '▁destek',\n",
       " '▁büyü',\n",
       " '▁milyar',\n",
       " '▁hardcore',\n",
       " '▁süreç',\n",
       " '▁gemisi',\n",
       " '▁otur',\n",
       " 'ad',\n",
       " '▁katmanı',\n",
       " 'pano',\n",
       " 'kov',\n",
       " 'ntılı',\n",
       " '▁mekan',\n",
       " '▁yapısı',\n",
       " '▁anlamı',\n",
       " '▁ankastre',\n",
       " '▁çekilme',\n",
       " '▁hayvanları',\n",
       " '▁rick',\n",
       " 'ş',\n",
       " '▁yağmala',\n",
       " '▁kalacağın',\n",
       " '▁gözlemevi',\n",
       " 'bb',\n",
       " '▁ref',\n",
       " '▁şampiyonluğu',\n",
       " '▁1917',\n",
       " '▁sahte',\n",
       " 's',\n",
       " '▁yağ',\n",
       " '▁akşener',\n",
       " '▁kalkolitik',\n",
       " '▁mis',\n",
       " '▁tanıştı',\n",
       " '▁ağır',\n",
       " '▁aday',\n",
       " '▁ortam',\n",
       " '▁içerir',\n",
       " '▁1921',\n",
       " '▁mta',\n",
       " 'ankara',\n",
       " '▁kadınlar',\n",
       " '▁kıbrıs',\n",
       " '▁birey',\n",
       " '▁keşfedi',\n",
       " 'lerinde',\n",
       " '▁zombie',\n",
       " '▁başlarında',\n",
       " '▁etmiş',\n",
       " '▁çıkarır',\n",
       " '▁olur',\n",
       " '▁cs',\n",
       " '▁cezalandır',\n",
       " '▁teoloji',\n",
       " '▁itibaren',\n",
       " '▁sür',\n",
       " '▁açık',\n",
       " '▁charming',\n",
       " '▁ana',\n",
       " '▁jacob',\n",
       " '▁hood',\n",
       " '▁kokhba',\n",
       " '▁hedefi',\n",
       " '▁emri',\n",
       " '▁arz',\n",
       " '▁gösterilir',\n",
       " 'inden',\n",
       " '▁izleme',\n",
       " '▁parça',\n",
       " '▁kendisini',\n",
       " '▁piyasay',\n",
       " '▁çalışmış',\n",
       " '▁başvuranlar',\n",
       " '▁rakib',\n",
       " '▁boru',\n",
       " 'karsinojenler',\n",
       " '▁dağıl',\n",
       " '▁kolay',\n",
       " '▁başlaması',\n",
       " '▁bahçe',\n",
       " 'eklenen',\n",
       " '▁olmaya',\n",
       " '▁giren',\n",
       " '▁iyi',\n",
       " '▁üre',\n",
       " 'söz',\n",
       " '▁benzer',\n",
       " '▁meiji',\n",
       " '▁כוזיבא',\n",
       " 'kamış',\n",
       " '▁moskova',\n",
       " 'karsinojeni',\n",
       " '4',\n",
       " '▁höyükte',\n",
       " '▁kont',\n",
       " '▁1960',\n",
       " '▁sorumluluğu',\n",
       " '▁donanma',\n",
       " '▁belir',\n",
       " '▁tcg',\n",
       " 'ette',\n",
       " 'ânı',\n",
       " '▁pruva',\n",
       " '▁gri',\n",
       " 'з',\n",
       " '▁kaybet',\n",
       " '▁tasvir',\n",
       " 'ka',\n",
       " 'leşme',\n",
       " 'bilmek',\n",
       " '▁iddia',\n",
       " '▁edebiyat',\n",
       " 'yormuş',\n",
       " 'hü',\n",
       " '▁george',\n",
       " '▁hayran',\n",
       " '▁ürünlerin',\n",
       " '▁sağlayan',\n",
       " 'ric',\n",
       " '▁cevap',\n",
       " 'ham',\n",
       " '▁sayfalar',\n",
       " 'essi',\n",
       " '▁norfolk',\n",
       " '▁ifade',\n",
       " '▁fethedil',\n",
       " '▁ederken',\n",
       " '▁düşündüğü',\n",
       " 'bağlam',\n",
       " '▁alışveriş',\n",
       " '▁arasındaki',\n",
       " '▁sevgilisi',\n",
       " '▁kitaplar',\n",
       " '▁maggie',\n",
       " '▁arkadaşları',\n",
       " '▁atlanti',\n",
       " '▁ettikleri',\n",
       " '▁çakmak',\n",
       " '▁reznor',\n",
       " '▁azot',\n",
       " '▁savunduğu',\n",
       " '▁kariyerin',\n",
       " '▁gelen',\n",
       " '▁alınama',\n",
       " '▁çev',\n",
       " 'ge',\n",
       " '▁turbo',\n",
       " '▁kuvvetleri',\n",
       " '▁resmî',\n",
       " '▁ilçesi',\n",
       " '▁peribaca',\n",
       " '▁unvanı',\n",
       " 'niz',\n",
       " '▁profes',\n",
       " '▁ormanlarda',\n",
       " 'sis',\n",
       " '▁mysen',\n",
       " '▁kocası',\n",
       " '▁peg',\n",
       " '▁gereksinimler',\n",
       " 'מ',\n",
       " 'burgring',\n",
       " 'ret',\n",
       " '▁karayiplerde',\n",
       " '▁adıyla',\n",
       " '▁çeşit',\n",
       " '▁madde',\n",
       " '▁kuru',\n",
       " 'gat',\n",
       " '°',\n",
       " '▁helin',\n",
       " '▁onların',\n",
       " '▁dönmesin',\n",
       " '▁britanyalı',\n",
       " '▁devam',\n",
       " '▁1976',\n",
       " '▁bundesliga',\n",
       " 'türkiye',\n",
       " '▁yapılmış',\n",
       " 'imetre',\n",
       " '▁bolşevik',\n",
       " '▁geliştirdi',\n",
       " '▁sonra',\n",
       " 'ɪ',\n",
       " '▁olma',\n",
       " '▁etmeye',\n",
       " '▁otomobil',\n",
       " '▁istasyonu',\n",
       " '▁geçtiği',\n",
       " '▁|',\n",
       " 'dığı',\n",
       " '▁benz',\n",
       " '▁rakibi',\n",
       " '▁olay',\n",
       " '▁tarayıcı',\n",
       " 'zan',\n",
       " '▁tanrı',\n",
       " 'doğdu',\n",
       " '▁kural',\n",
       " '▁gönder',\n",
       " '▁koyun',\n",
       " '▁arkadaş',\n",
       " 'keitel',\n",
       " '▁yönel',\n",
       " '▁sevkiyat',\n",
       " 'w',\n",
       " '▁1971',\n",
       " '▁takımı',\n",
       " '▁hayvan',\n",
       " 'rlanda',\n",
       " '▁düştü',\n",
       " '▁uyan',\n",
       " '▁ilgi',\n",
       " '▁gerçekleş',\n",
       " '▁yak',\n",
       " '▁ilerledi',\n",
       " '▁hasan',\n",
       " '▁dergi',\n",
       " '▁oluşum',\n",
       " 'rip',\n",
       " '▁kapasitesin',\n",
       " 'fold',\n",
       " 'mahalli',\n",
       " '▁reis',\n",
       " '▁eserleri',\n",
       " '▁başrolü',\n",
       " '▁sch',\n",
       " '▁depp',\n",
       " '▁dretnot',\n",
       " 'م',\n",
       " '▁benze',\n",
       " '▁görünümünü',\n",
       " 'ulaktartış',\n",
       " '▁1980',\n",
       " '▁felsefesi',\n",
       " '▁esas',\n",
       " '▁pay',\n",
       " '▁eser',\n",
       " '▁alarak',\n",
       " '▁edilmesi',\n",
       " 'ə',\n",
       " '▁çağlar',\n",
       " '▁evliliği',\n",
       " '▁gösteriler',\n",
       " '▁dağı',\n",
       " '▁başar',\n",
       " 'mek',\n",
       " '▁kadar',\n",
       " '▁üst',\n",
       " '▁altınordu',\n",
       " '▁görev',\n",
       " '▁deney',\n",
       " '▁musevi',\n",
       " '▁yapım',\n",
       " '▁bölgelerde',\n",
       " '▁fırlattı',\n",
       " '▁13',\n",
       " '▁universit',\n",
       " '▁değerlendir',\n",
       " '▁neden',\n",
       " '▁kitabı',\n",
       " 'larda',\n",
       " 'montreal',\n",
       " '▁şakıma',\n",
       " 'otokrasi',\n",
       " 'uncu',\n",
       " '25',\n",
       " '▁aşağıdaki',\n",
       " 'meci',\n",
       " 'لا',\n",
       " 'ıyla',\n",
       " '▁vasıtası',\n",
       " '▁david',\n",
       " 'ücü',\n",
       " '▁yayınlanmış',\n",
       " '▁futbolcu',\n",
       " 'şleri',\n",
       " '▁bünyesin',\n",
       " '▁doğrultu',\n",
       " '▁kurulan',\n",
       " '▁esnek',\n",
       " '▁derin',\n",
       " '▁mehmed',\n",
       " '▁simon',\n",
       " '▁merkez',\n",
       " '▁aç',\n",
       " '▁uzay',\n",
       " '▁2006',\n",
       " '▁dizide',\n",
       " '▁toplum',\n",
       " '▁figür',\n",
       " '▁engelleme',\n",
       " '▁sesler',\n",
       " 'asyon',\n",
       " '▁35',\n",
       " 'büyükelçi',\n",
       " '▁karakter',\n",
       " '▁sektör',\n",
       " 'th',\n",
       " '▁tren',\n",
       " '▁yerel',\n",
       " '▁ayır',\n",
       " 'kimliği',\n",
       " '▁çoğaltma',\n",
       " '▁hazır',\n",
       " 'dığında',\n",
       " '▁ayrılı',\n",
       " 'ع',\n",
       " '▁güc',\n",
       " '▁ederek',\n",
       " '▁yıl',\n",
       " 'aş',\n",
       " '▁ahme',\n",
       " '▁kalır',\n",
       " 'lanmış',\n",
       " 'lendirdi',\n",
       " '▁serge',\n",
       " '▁bulunmuş',\n",
       " '▁arttır',\n",
       " '▁gansel',\n",
       " '▁bayer',\n",
       " '▁oğlak',\n",
       " 'larını',\n",
       " '▁ağırlığındadır',\n",
       " '▁evlen',\n",
       " 'tılar',\n",
       " 'charlie',\n",
       " '▁adaları',\n",
       " '▁okuduğu',\n",
       " '▁yumurta',\n",
       " '▁gözlemlenm',\n",
       " '▁robert',\n",
       " '▁otlatma',\n",
       " '▁sayılı',\n",
       " 'ש',\n",
       " '▁mal',\n",
       " '▁kül',\n",
       " '&',\n",
       " 'ılmasını',\n",
       " '▁yelpazesi',\n",
       " 'و',\n",
       " '▁şirketlerin',\n",
       " 'ra',\n",
       " '▁ihtimal',\n",
       " '▁burslu',\n",
       " 'iihf',\n",
       " '▁çıkmış',\n",
       " '▁yaşamını',\n",
       " '▁sürdürüle',\n",
       " '▁benimsenme',\n",
       " '▁şehrinde',\n",
       " '▁kaynak',\n",
       " '▁altı',\n",
       " '▁araya',\n",
       " '▁sayısında',\n",
       " '▁seç',\n",
       " '▁26',\n",
       " '▁dizgi',\n",
       " '▁sunmaktaydı',\n",
       " 'kin',\n",
       " '▁fa',\n",
       " 'tı',\n",
       " '▁sağ',\n",
       " 'anıtı',\n",
       " '▁kaçırma',\n",
       " '▁daniel',\n",
       " '“',\n",
       " 'ns',\n",
       " '▁kemik',\n",
       " 'senaryo',\n",
       " '▁66',\n",
       " '▁yazar',\n",
       " 'ırlar',\n",
       " '▁aziz',\n",
       " '▁çağır',\n",
       " 'ndirme',\n",
       " 'stalin',\n",
       " '▁başbakan',\n",
       " '▁bucaspor',\n",
       " '▁will',\n",
       " '▁kuruldu',\n",
       " '▁esnasında',\n",
       " '▁oğlağı',\n",
       " '▁sayede',\n",
       " '▁bilinen',\n",
       " '▁eagle',\n",
       " '▁düşürmüştü',\n",
       " 'port',\n",
       " 'uşturdu',\n",
       " '▁becker',\n",
       " '▁gün',\n",
       " '▁şehirde',\n",
       " '▁istedi',\n",
       " '▁problemi',\n",
       " 'س',\n",
       " '▁mülkiyet',\n",
       " '▁bogovinska',\n",
       " 'λ',\n",
       " 'span',\n",
       " '▁britanya',\n",
       " '▁anadolu',\n",
       " '▁fransız',\n",
       " '▁uzlaşma',\n",
       " '▁pres',\n",
       " 'lev',\n",
       " '▁bölgenin',\n",
       " '▁anabilim',\n",
       " '▁biridir',\n",
       " 'mud',\n",
       " '▁çözüm',\n",
       " '▁kadın',\n",
       " '▁mesafe',\n",
       " '▁süre',\n",
       " '▁alı',\n",
       " 'muşlardır',\n",
       " '▁sözcüğü',\n",
       " 'mişlerdir',\n",
       " 'ça',\n",
       " '▁paris',\n",
       " '▁boşanma',\n",
       " '▁ayrıca',\n",
       " '▁tam',\n",
       " '1912',\n",
       " '▁benimsenmiş',\n",
       " '▁çeken',\n",
       " 'direkt',\n",
       " '100',\n",
       " '▁sev',\n",
       " '▁yarısı',\n",
       " 'şa',\n",
       " \".00'\",\n",
       " 'lk',\n",
       " '▁tasar',\n",
       " '▁gelmesi',\n",
       " '▁anap',\n",
       " '▁mo',\n",
       " '▁pizza',\n",
       " '▁yoktur',\n",
       " '▁yapıldığı',\n",
       " '▁lee',\n",
       " '▁ilerley',\n",
       " '▁pap',\n",
       " '▁hatırla',\n",
       " '▁atan',\n",
       " '▁konuların',\n",
       " 'zmit',\n",
       " '▁ikisini',\n",
       " '▁batı',\n",
       " '▁yunan',\n",
       " 'plak',\n",
       " '▁fiziksel',\n",
       " '▁balboa',\n",
       " '▁kanadalı',\n",
       " '▁şiddetl',\n",
       " 'ian',\n",
       " 'öğüt',\n",
       " '▁çekişme',\n",
       " 'olog',\n",
       " 'leştirerek',\n",
       " '▁fransa',\n",
       " '▁dünyası',\n",
       " '▁yarışlarında',\n",
       " 'eric',\n",
       " '▁serbest',\n",
       " 'solo',\n",
       " 'larından',\n",
       " '▁mail',\n",
       " '▁hunter',\n",
       " '▁dini',\n",
       " '▁benimseyen',\n",
       " '▁çin',\n",
       " '▁rakip',\n",
       " '▁kraliçe',\n",
       " '▁yüksel',\n",
       " '▁daryl',\n",
       " '▁canlı',\n",
       " '▁yangını',\n",
       " '▁fighter',\n",
       " '▁kahverengi',\n",
       " 'lerini',\n",
       " '▁çıkıp',\n",
       " '▁ban',\n",
       " '▁anlatım',\n",
       " '▁vazgeç',\n",
       " '▁savaşı',\n",
       " '▁marmara',\n",
       " '▁inşa',\n",
       " '▁ülkeleri',\n",
       " '▁sor',\n",
       " 'leri',\n",
       " 'tip',\n",
       " '▁renkleri',\n",
       " '▁düşünü',\n",
       " '▁din',\n",
       " 'í',\n",
       " '▁tersane',\n",
       " '▁tanıttı',\n",
       " '▁geminin',\n",
       " '37',\n",
       " 'le',\n",
       " '▁lider',\n",
       " '▁soğuk',\n",
       " '▁hatta',\n",
       " '▁kimsenin',\n",
       " '▁70',\n",
       " 'tion',\n",
       " 'abileceğini',\n",
       " '▁müdahale',\n",
       " '▁kullanan',\n",
       " 'çu',\n",
       " '▁devletler',\n",
       " '▁dio',\n",
       " 'nabilir',\n",
       " '▁devlet',\n",
       " '▁fen',\n",
       " 'baş',\n",
       " '▁buz',\n",
       " '▁taş',\n",
       " '▁geçiril',\n",
       " '▁konsantrasyon',\n",
       " 'ұ',\n",
       " 'ımı',\n",
       " 'ileceğin',\n",
       " '▁bombala',\n",
       " 'way',\n",
       " '▁seçil',\n",
       " '▁boks',\n",
       " '▁eklen',\n",
       " '11',\n",
       " '▁sok',\n",
       " '▁günü',\n",
       " '▁cümle',\n",
       " '▁banabi',\n",
       " '▁ozzfest',\n",
       " 'diğini',\n",
       " '▁trafiği',\n",
       " '▁menemen',\n",
       " 'klarını',\n",
       " 'lerden',\n",
       " 'batısında',\n",
       " '▁petrol',\n",
       " '▁100',\n",
       " '▁tekniğin',\n",
       " '▁görüntü',\n",
       " 'jür',\n",
       " '▁muranov',\n",
       " '▁kardeşi',\n",
       " '▁harekât',\n",
       " '▁step',\n",
       " '▁itira',\n",
       " '▁köyleri',\n",
       " '▁kraliyet',\n",
       " 'leriyle',\n",
       " 'yı',\n",
       " '▁yapısında',\n",
       " '▁de',\n",
       " '▁kurallar',\n",
       " '▁olup',\n",
       " '▁sol',\n",
       " '▁güreş',\n",
       " '▁girer',\n",
       " '▁askerleri',\n",
       " '▁geri',\n",
       " '▁armutlu',\n",
       " '▁göç',\n",
       " '▁kızıl',\n",
       " '49',\n",
       " '▁angels',\n",
       " '▁anısına',\n",
       " 'ayet',\n",
       " '▁faaliyetlerin',\n",
       " '▁toprakların',\n",
       " '▁kaybettiği',\n",
       " '▁korkuluklar',\n",
       " 'dikleri',\n",
       " '▁sonuç',\n",
       " '▁açıl',\n",
       " '▁ermeniler',\n",
       " '▁üstünde',\n",
       " '▁haber',\n",
       " '▁oluşturma',\n",
       " '▁platform',\n",
       " '▁oluşturulmuş',\n",
       " '▁odacıklar',\n",
       " '▁sözleri',\n",
       " '▁durumun',\n",
       " '▁komünist',\n",
       " '▁yatağın',\n",
       " '▁modeli',\n",
       " 'ahi',\n",
       " '▁nokta',\n",
       " '▁metre',\n",
       " '▁sezonu',\n",
       " 'hoş',\n",
       " '▁ölümünden',\n",
       " '▁gerçek',\n",
       " 'ἰ',\n",
       " '▁ryu',\n",
       " 'bakanlar',\n",
       " '▁değişme',\n",
       " 'entertainment',\n",
       " '▁şirketi',\n",
       " 'å',\n",
       " '▁mar',\n",
       " 'tar',\n",
       " '▁köy',\n",
       " '▁isyan',\n",
       " '▁kökpar',\n",
       " '▁oyunları',\n",
       " '▁törende',\n",
       " '▁isteğin',\n",
       " '▁sağlamak',\n",
       " '▁duygus',\n",
       " '▁194',\n",
       " '▁300',\n",
       " '▁har',\n",
       " '▁erken',\n",
       " '▁kamp',\n",
       " '▁yakınında',\n",
       " '▁richard',\n",
       " '▁gösterdiği',\n",
       " '▁ulaşmıştır',\n",
       " '▁kuşlar',\n",
       " '▁savunmasız',\n",
       " '▁sezgi',\n",
       " 'zim',\n",
       " '▁militari',\n",
       " '▁kara',\n",
       " 'olonya',\n",
       " 'melos',\n",
       " '▁işlevlerin',\n",
       " '▁kalan',\n",
       " '.000',\n",
       " '▁mecra',\n",
       " '▁keşi',\n",
       " '▁höyüğü',\n",
       " 'iam',\n",
       " 'key',\n",
       " 'leşmiş',\n",
       " '▁seçim',\n",
       " 'işe',\n",
       " '▁etkilen',\n",
       " '▁21',\n",
       " '▁söylenir',\n",
       " '▁yürütül',\n",
       " '▁cephane',\n",
       " '▁gerekli',\n",
       " '▁toprak',\n",
       " '▁jord',\n",
       " '▁içer',\n",
       " '▁yani',\n",
       " '▁vekiller',\n",
       " '▁kelimelerin',\n",
       " 'қ',\n",
       " '▁insanlar',\n",
       " 'eytin',\n",
       " '▁yaşar',\n",
       " 'ten',\n",
       " 'düşer',\n",
       " '▁1889',\n",
       " 'iyeti',\n",
       " '▁enkaz',\n",
       " '▁zaman',\n",
       " '▁depo',\n",
       " '▁başlattı',\n",
       " '▁irade',\n",
       " '▁kars',\n",
       " '▁yaygın',\n",
       " '▁cenevre',\n",
       " 'hang',\n",
       " '▁sistemleri',\n",
       " '▁bağlanmış',\n",
       " 'm',\n",
       " ...}"
      ]
     },
     "execution_count": 50,
     "metadata": {},
     "output_type": "execute_result"
    }
   ],
   "source": [
    "wiki_words"
   ]
  },
  {
   "cell_type": "code",
   "execution_count": 54,
   "metadata": {},
   "outputs": [
    {
     "data": {
      "text/plain": [
       "True"
      ]
     },
     "execution_count": 54,
     "metadata": {},
     "output_type": "execute_result"
    }
   ],
   "source": [
    "\"▁salyangozlar\" in wiki_words"
   ]
  },
  {
   "cell_type": "code",
   "execution_count": 55,
   "metadata": {},
   "outputs": [
    {
     "data": {
      "text/plain": [
       "True"
      ]
     },
     "execution_count": 55,
     "metadata": {},
     "output_type": "execute_result"
    }
   ],
   "source": [
    "\"türkiye\" in wiki_words"
   ]
  },
  {
   "cell_type": "code",
   "execution_count": 61,
   "metadata": {},
   "outputs": [
    {
     "data": {
      "text/plain": [
       "True"
      ]
     },
     "execution_count": 61,
     "metadata": {},
     "output_type": "execute_result"
    }
   ],
   "source": [
    "\"futbol\" in wiki_words"
   ]
  },
  {
   "cell_type": "code",
   "execution_count": 56,
   "metadata": {},
   "outputs": [
    {
     "data": {
      "text/plain": [
       "4961"
      ]
     },
     "execution_count": 56,
     "metadata": {},
     "output_type": "execute_result"
    }
   ],
   "source": [
    "vocab.stoi[\"türkiye\"]"
   ]
  },
  {
   "cell_type": "markdown",
   "metadata": {},
   "source": [
    "## Generating Fake Wiki"
   ]
  },
  {
   "cell_type": "code",
   "execution_count": 77,
   "metadata": {},
   "outputs": [],
   "source": [
    "TEXT = \"Bilim ve Teknik türkiye\"\n",
    "# TEXT = \"Temmuz ayı içerisinde\"\n",
    "N_WORDS = 40\n",
    "N_SENTENCES = 2"
   ]
  },
  {
   "cell_type": "code",
   "execution_count": 76,
   "metadata": {},
   "outputs": [
    {
     "name": "stdout",
     "output_type": "stream",
     "text": [
      "Temmuz ayı içerisinde mak mayı da ▁( ▁w ▁xxmaj . i ὁ ▁gök ▁maçın ▁rağmen ▁xxmaj ▁konusu ▁xxmaj in y ▁listesi h z ’ lik ▁yapılan ) 190 u . un ▁xxmaj , e ▁ile ▁2001 ▁xxmaj ▁ ▁ ▁xxmaj ▁i - ,\n",
      "Temmuz ayı içerisinde , ▁ . . ' ▁mitolojisinde ▁xxmaj ▁ ya ▁xxmaj ▁miuccia klarını ▁ ▁yıllarda ' , ̇ ▁xxmaj , dü ▁xxup ▁xxmaj ▁xxmaj , ▁( i ▁bu ya ▁\" ▁\" mesi ün ▁xxmaj ▁xxmaj ▁veril ▁xxmaj ▁( ' - se\n"
     ]
    }
   ],
   "source": [
    "print(\"\\n\".join(learn.predict(TEXT, N_WORDS, temperature=0.75) for _ in range(N_SENTENCES)))"
   ]
  },
  {
   "cell_type": "code",
   "execution_count": 72,
   "metadata": {},
   "outputs": [
    {
     "name": "stdout",
     "output_type": "stream",
     "text": [
      "Bilim ve Teknik türkiye ro st ▁xxmaj ▁xxmaj tı ▁xxmaj ▁xxmaj . ▁xxmaj daha n lar ▁xxmaj , a . ▁bıraktı ▁xxmaj . ' . ▁xxmaj en nda ▁vardır dı ▁kapak , ▁yüksekokulu e ▁ yı ▁xxup ▁futbolcu di , ün ın ▁ ▁xxmaj\n",
      "Bilim ve Teknik türkiye ▁ter ▁ve ▁xxmaj ▁ . ▁ve i ▁xxup ▁ at g le si up ▁ ▁xxmaj ▁ve ▁xxmaj ▁xxmaj ▁civar ▁ve m ▁ ▁seçil ▁sonra ▁xxmaj ▁tarihinde ▁uzun ▁xxmaj ▁xxmaj ▁bir ▁xxmaj ▁xxmaj ▁xxmaj ▁bir ▁c ▁farklı ▁diğer ▁xxmaj ▁xxmaj\n"
     ]
    }
   ],
   "source": [
    "print(\"\\n\".join(learn.predict(TEXT, N_WORDS, temperature=0.80) for _ in range(N_SENTENCES)))"
   ]
  },
  {
   "cell_type": "markdown",
   "metadata": {},
   "source": [
    "## Turkish sentiment analysis"
   ]
  },
  {
   "cell_type": "markdown",
   "metadata": {},
   "source": [
    "https://www.win.tue.nl/~mpechen/projects/smm/"
   ]
  },
  {
   "cell_type": "markdown",
   "metadata": {},
   "source": [
    "### Language model"
   ]
  },
  {
   "cell_type": "code",
   "execution_count": null,
   "metadata": {},
   "outputs": [],
   "source": [
    "path_clas = path/'movies'\n",
    "path_clas.ls()"
   ]
  },
  {
   "cell_type": "code",
   "execution_count": null,
   "metadata": {},
   "outputs": [],
   "source": [
    "pos = (path_clas/'tr_polarity.pos').open(encoding='iso-8859-9').readlines()\n",
    "pos_df = pd.DataFrame({'text':pos})\n",
    "pos_df['pos'] = 1\n",
    "pos_df.head()"
   ]
  },
  {
   "cell_type": "code",
   "execution_count": null,
   "metadata": {},
   "outputs": [],
   "source": [
    "neg = (path_clas/'tr_polarity.neg').open(encoding='iso-8859-9').readlines()\n",
    "neg_df = pd.DataFrame({'text':neg})\n",
    "neg_df['pos'] = 0\n",
    "neg_df.head()"
   ]
  },
  {
   "cell_type": "code",
   "execution_count": null,
   "metadata": {},
   "outputs": [],
   "source": [
    "df = pd.concat([pos_df,neg_df], sort=False)"
   ]
  },
  {
   "cell_type": "code",
   "execution_count": null,
   "metadata": {},
   "outputs": [],
   "source": [
    "data_lm = (TextList.from_df(df, path_clas, cols='text', processor=SPProcessor.load(dest))\n",
    "    .split_by_rand_pct(0.1, seed=42)\n",
    "    .label_for_lm()           \n",
    "    .databunch(bs=bs, num_workers=1))\n",
    "\n",
    "data_lm.save(f'{lang}_clas_databunch')"
   ]
  },
  {
   "cell_type": "code",
   "execution_count": null,
   "metadata": {},
   "outputs": [],
   "source": [
    "data_lm = load_data(path_clas, f'{lang}_clas_databunch', bs=bs)"
   ]
  },
  {
   "cell_type": "code",
   "execution_count": null,
   "metadata": {},
   "outputs": [],
   "source": [
    "data_lm.show_batch()"
   ]
  },
  {
   "cell_type": "code",
   "execution_count": null,
   "metadata": {},
   "outputs": [],
   "source": [
    "learn_lm = language_model_learner(data_lm, AWD_LSTM, pretrained_fnames=lm_fns, drop_mult=1.0, wd=0.1)"
   ]
  },
  {
   "cell_type": "code",
   "execution_count": null,
   "metadata": {},
   "outputs": [],
   "source": [
    "lr = 1e-3\n",
    "lr *= bs/48"
   ]
  },
  {
   "cell_type": "code",
   "execution_count": null,
   "metadata": {},
   "outputs": [],
   "source": [
    "learn_lm.fit_one_cycle(1, lr*10, moms=(0.8,0.7))"
   ]
  },
  {
   "cell_type": "code",
   "execution_count": null,
   "metadata": {},
   "outputs": [],
   "source": [
    "learn_lm.unfreeze()\n",
    "learn_lm.fit_one_cycle(5, slice(lr/10,lr*10), moms=(0.8,0.7))"
   ]
  },
  {
   "cell_type": "code",
   "execution_count": null,
   "metadata": {},
   "outputs": [],
   "source": [
    "learn_lm.save(f'{lang}fine_tuned')\n",
    "learn_lm.save_encoder(f'{lang}fine_tuned_enc')"
   ]
  },
  {
   "cell_type": "markdown",
   "metadata": {},
   "source": [
    "### Classifier"
   ]
  },
  {
   "cell_type": "code",
   "execution_count": null,
   "metadata": {},
   "outputs": [],
   "source": [
    "data_clas = (TextList.from_df(df, path_clas, cols='text', processor=SPProcessor.load(dest))\n",
    "    .split_by_rand_pct(0.1, seed=42)\n",
    "    .label_from_df(cols='pos')\n",
    "    .databunch(bs=bs, num_workers=1))"
   ]
  },
  {
   "cell_type": "code",
   "execution_count": null,
   "metadata": {},
   "outputs": [],
   "source": [
    "learn_c = text_classifier_learner(data_clas, AWD_LSTM, drop_mult=0.5, pretrained=False, wd=0.1).to_fp16()\n",
    "learn_c.load_encoder(f'{lang}fine_tuned_enc')\n",
    "learn_c.freeze()"
   ]
  },
  {
   "cell_type": "code",
   "execution_count": null,
   "metadata": {},
   "outputs": [],
   "source": [
    "lr=2e-2\n",
    "lr *= bs/48"
   ]
  },
  {
   "cell_type": "code",
   "execution_count": null,
   "metadata": {
    "scrolled": false
   },
   "outputs": [],
   "source": [
    "learn_c.fit_one_cycle(2, lr, moms=(0.8,0.7))"
   ]
  },
  {
   "cell_type": "code",
   "execution_count": null,
   "metadata": {
    "scrolled": false
   },
   "outputs": [],
   "source": [
    "learn_c.fit_one_cycle(2, lr, moms=(0.8,0.7))"
   ]
  },
  {
   "cell_type": "code",
   "execution_count": null,
   "metadata": {},
   "outputs": [],
   "source": [
    "learn_c.freeze_to(-2)\n",
    "learn_c.fit_one_cycle(2, slice(lr/(2.6**4),lr), moms=(0.8,0.7))"
   ]
  },
  {
   "cell_type": "code",
   "execution_count": null,
   "metadata": {},
   "outputs": [],
   "source": [
    "learn_c.freeze_to(-3)\n",
    "learn_c.fit_one_cycle(2, slice(lr/2/(2.6**4),lr/2), moms=(0.8,0.7))"
   ]
  },
  {
   "cell_type": "code",
   "execution_count": null,
   "metadata": {},
   "outputs": [],
   "source": [
    "learn_c.unfreeze()\n",
    "learn_c.fit_one_cycle(4, slice(lr/10/(2.6**4),lr/10), moms=(0.8,0.7))"
   ]
  },
  {
   "cell_type": "markdown",
   "metadata": {},
   "source": [
    "Accuracy in Gezici (2018), *Sentiment Analysis in Turkish* is: `75.16%`."
   ]
  },
  {
   "cell_type": "code",
   "execution_count": null,
   "metadata": {},
   "outputs": [],
   "source": [
    "learn_c.save(f'{lang}clas')"
   ]
  },
  {
   "cell_type": "markdown",
   "metadata": {},
   "source": [
    "## fin"
   ]
  },
  {
   "cell_type": "code",
   "execution_count": null,
   "metadata": {},
   "outputs": [],
   "source": []
  }
 ],
 "metadata": {
  "kernelspec": {
   "display_name": "fastai",
   "language": "python",
   "name": "fastai"
  },
  "language_info": {
   "codemirror_mode": {
    "name": "ipython",
    "version": 3
   },
   "file_extension": ".py",
   "mimetype": "text/x-python",
   "name": "python",
   "nbconvert_exporter": "python",
   "pygments_lexer": "ipython3",
   "version": "3.6.12"
  }
 },
 "nbformat": 4,
 "nbformat_minor": 2
}
