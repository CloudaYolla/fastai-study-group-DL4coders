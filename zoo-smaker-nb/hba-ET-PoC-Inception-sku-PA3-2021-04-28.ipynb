{
 "cells": [
  {
   "cell_type": "markdown",
   "metadata": {},
   "source": [
    "# Image Classification: How to run inference on the endpoint you have created?"
   ]
  },
  {
   "cell_type": "markdown",
   "metadata": {},
   "source": [
    "### Download example images and class_id_to_label_mapping\n",
    "The class_id_to_label_mapping file has been downloaded from [TensorFlow](https://storage.googleapis.com/download.tensorflow.org/data/ImageNetLabels.txt). [Apache 2.0 License](https://www.apache.org/licenses/LICENSE-2.0)"
   ]
  },
  {
   "cell_type": "code",
   "execution_count": 15,
   "metadata": {},
   "outputs": [
    {
     "data": {
      "text/html": [
       "<table><tr><td> <img src=\"cat.jpg\" alt=\"cat\" style=\"height: 250px;\"/> <figcaption>cat.jpg</figcaption></td><td> <img src=\"dog.jpg\" alt=\"dog\" style=\"height: 250px;\"/> <figcaption>dog.jpg</figcaption></td></tr></table>"
      ],
      "text/plain": [
       "<IPython.core.display.HTML object>"
      ]
     },
     "execution_count": 15,
     "metadata": {},
     "output_type": "execute_result"
    }
   ],
   "source": [
    "import boto3\n",
    "from IPython.core.display import HTML\n",
    "\n",
    "region = boto3.Session().region_name\n",
    "s3_bucket = f\"jumpstart-cache-prod-{region}\"\n",
    "key_prefix = \"inference-notebook-assets\"\n",
    "s3 = boto3.client(\"s3\")\n",
    "\n",
    "def download_from_s3(key_filenames):\n",
    "    for key_filename in key_filenames:\n",
    "        s3.download_file(s3_bucket, f\"{key_prefix}/{key_filename}\", key_filename)\n",
    "\n",
    "cat_jpg, dog_jpg, ImageNetLabels = \"cat.jpg\", \"dog.jpg\", \"ImageNetLabels.txt\"\n",
    "download_from_s3(key_filenames=[cat_jpg, dog_jpg, ImageNetLabels])\n",
    "\n",
    "HTML('<table><tr><td> <img src=\"cat.jpg\" alt=\"cat\" style=\"height: 250px;\"/> <figcaption>cat.jpg</figcaption>'\n",
    "     '</td><td> <img src=\"dog.jpg\" alt=\"dog\" style=\"height: 250px;\"/> <figcaption>dog.jpg</figcaption>'\n",
    "     '</td></tr></table>')"
   ]
  },
  {
   "cell_type": "markdown",
   "metadata": {},
   "source": [
    "### Open the downloaded images and load in memory. You can upload any image from your local computer in the directory and open them here."
   ]
  },
  {
   "cell_type": "code",
   "execution_count": 16,
   "metadata": {},
   "outputs": [],
   "source": [
    "images = {}\n",
    "with open(cat_jpg, 'rb') as file: images[cat_jpg] = file.read()\n",
    "with open(dog_jpg, 'rb') as file: images[dog_jpg] = file.read()\n",
    "with open(ImageNetLabels, 'r') as file: class_id_to_label = file.read().splitlines()"
   ]
  },
  {
   "cell_type": "markdown",
   "metadata": {},
   "source": [
    "### Query endpoint that you have created"
   ]
  },
  {
   "cell_type": "code",
   "execution_count": 17,
   "metadata": {},
   "outputs": [
    {
     "data": {
      "text/html": [
       "<img src=cat.jpg alt=cat.jpg align=\"left\" style=\"width: 250px;\"/><figcaption>Top-5 model predictions are: tabby, tiger cat, Egyptian cat, lynx, ping-pong ball</figcaption>"
      ],
      "text/plain": [
       "<IPython.core.display.HTML object>"
      ]
     },
     "metadata": {},
     "output_type": "display_data"
    },
    {
     "data": {
      "text/html": [
       "<img src=dog.jpg alt=dog.jpg align=\"left\" style=\"width: 250px;\"/><figcaption>Top-5 model predictions are: Labrador retriever, golden retriever, Chesapeake Bay retriever, Weimaraner, Walker hound</figcaption>"
      ],
      "text/plain": [
       "<IPython.core.display.HTML object>"
      ]
     },
     "metadata": {},
     "output_type": "display_data"
    }
   ],
   "source": [
    "import json\n",
    "\n",
    "def query_endpoint(img):\n",
    "    endpoint_name = 'jumpstart-dft-et-poc-inception-tf-imgnet-v1'\n",
    "    client = boto3.client('runtime.sagemaker')\n",
    "    response = client.invoke_endpoint(EndpointName=endpoint_name, ContentType='application/x-image', Body=img)\n",
    "    model_predictions = json.loads(response['Body'].read())['predictions'][0]\n",
    "    return model_predictions\n",
    "\n",
    "for filename, img in images.items():\n",
    "    model_predictions = query_endpoint(img)  \n",
    "    top5_prediction_ids = sorted(range(len(model_predictions)), key=lambda index: model_predictions[index], reverse=True)[:5]\n",
    "    top5_class_labels = \", \".join([class_id_to_label[id] for id in top5_prediction_ids])\n",
    "    display(HTML(f'<img src={filename} alt={filename} align=\"left\" style=\"width: 250px;\"/>' \n",
    "                 f'<figcaption>Top-5 model predictions are: {top5_class_labels}</figcaption>'))"
   ]
  },
  {
   "cell_type": "markdown",
   "metadata": {},
   "source": [
    "## Test Sunflowers"
   ]
  },
  {
   "cell_type": "code",
   "execution_count": 18,
   "metadata": {},
   "outputs": [
    {
     "data": {
      "text/html": [
       "<img src=./Sunflower-seed-pic-Biofuels-12-8-768x512.jpeg alt=./Sunflower-seed-pic-Biofuels-12-8-768x512.jpeg align=\"left\" style=\"width: 250px;\"/><figcaption>Top-5 model predictions are: buckeye, cardoon, traffic light, pot, vase</figcaption>"
      ],
      "text/plain": [
       "<IPython.core.display.HTML object>"
      ]
     },
     "metadata": {},
     "output_type": "display_data"
    }
   ],
   "source": [
    "filename = './Sunflower-seed-pic-Biofuels-12-8-768x512.jpeg'\n",
    "\n",
    "with open(filename, 'rb') as file: \n",
    "    img = file.read()\n",
    "\n",
    "\n",
    "model_predictions = query_endpoint(img)  \n",
    "top5_prediction_ids = sorted(range(len(model_predictions)), key=lambda index: model_predictions[index], reverse=True)[:5]\n",
    "top5_class_labels = \", \".join([class_id_to_label[id] for id in top5_prediction_ids])\n",
    "display(HTML(f'<img src={filename} alt={filename} align=\"left\" style=\"width: 250px;\"/>' \n",
    "             f'<figcaption>Top-5 model predictions are: {top5_class_labels}</figcaption>'))\n"
   ]
  },
  {
   "cell_type": "markdown",
   "metadata": {},
   "source": [
    "## Test Sunflowers on new model (Transfer Learning on TF-Flowers Dataset)"
   ]
  },
  {
   "cell_type": "markdown",
   "metadata": {},
   "source": [
    "### Download the Model and Extract the Class Name Index"
   ]
  },
  {
   "cell_type": "code",
   "execution_count": 6,
   "metadata": {},
   "outputs": [
    {
     "name": "stdout",
     "output_type": "stream",
     "text": [
      "download: s3://sagemaker-us-east-1-123456789012/smjs-d-et-poc-inception-tf-tfflower-xferl-v2-20210428-171350/output/model.tar.gz to ./model.tar.gz\n"
     ]
    }
   ],
   "source": [
    "!aws s3 cp s3://sagemaker-us-east-1-123456789012/smjs-d-et-poc-inception-tf-tfflower-xferl-v2-20210428-171350/output/model.tar.gz . "
   ]
  },
  {
   "cell_type": "code",
   "execution_count": 7,
   "metadata": {},
   "outputs": [
    {
     "name": "stdout",
     "output_type": "stream",
     "text": [
      "class_label_to_prediction_index.json\n"
     ]
    }
   ],
   "source": [
    "!tar zxvf model.tar.gz class_label_to_prediction_index.json"
   ]
  },
  {
   "cell_type": "markdown",
   "metadata": {},
   "source": [
    "### Test Sunflowers again"
   ]
  },
  {
   "cell_type": "code",
   "execution_count": 22,
   "metadata": {},
   "outputs": [],
   "source": [
    "import json\n",
    "\n",
    "with open('class_label_to_prediction_index.json') as f:\n",
    "    label_to_class_id = json.load(f)\n",
    "    class_id_to_label = {v:k for k, v in label_to_class_id.items()}"
   ]
  },
  {
   "cell_type": "code",
   "execution_count": 23,
   "metadata": {},
   "outputs": [],
   "source": [
    "def query_fine_tuned_endpoint(img):\n",
    "    endpoint_name = 'jumpstart-ftd-et-poc-inception-tf-tfflower-xferl-v2'\n",
    "    client = boto3.client('runtime.sagemaker')\n",
    "    response = client.invoke_endpoint(EndpointName=endpoint_name, ContentType='application/x-image', Body=img)\n",
    "    model_predictions = json.loads(response['Body'].read())['predictions'][0]\n",
    "    return model_predictions"
   ]
  },
  {
   "cell_type": "code",
   "execution_count": 24,
   "metadata": {},
   "outputs": [
    {
     "data": {
      "text/html": [
       "<img src=./Sunflower-seed-pic-Biofuels-12-8-768x512.jpeg alt=./Sunflower-seed-pic-Biofuels-12-8-768x512.jpeg align=\"left\" style=\"width: 250px;\"/><figcaption>Top-5 model predictions are: sunflowers, daisy, tulips, roses, dandelion</figcaption>"
      ],
      "text/plain": [
       "<IPython.core.display.HTML object>"
      ]
     },
     "metadata": {},
     "output_type": "display_data"
    }
   ],
   "source": [
    "model_predictions = query_fine_tuned_endpoint(img)  \n",
    "top5_prediction_ids = sorted(range(len(model_predictions)), key=lambda index: model_predictions[index], reverse=True)[:5]\n",
    "top5_class_labels = \", \".join([class_id_to_label[id] for id in top5_prediction_ids])\n",
    "display(HTML(f'<img src={filename} alt={filename} align=\"left\" style=\"width: 250px;\"/>' \n",
    "             f'<figcaption>Top-5 model predictions are: {top5_class_labels}</figcaption>'))"
   ]
  },
  {
   "cell_type": "markdown",
   "metadata": {},
   "source": [
    "## ET POC SKU Test"
   ]
  },
  {
   "cell_type": "code",
   "execution_count": 26,
   "metadata": {},
   "outputs": [
    {
     "name": "stdout",
     "output_type": "stream",
     "text": [
      "download: s3://sagemaker-us-east-1-123456789012/smjs-c-et-poc-inception-skudataset-xferl-v3-20210428-202031/output/model.tar.gz to ./model.tar.gz\n"
     ]
    }
   ],
   "source": [
    "! aws s3 cp s3://sagemaker-us-east-1-123456789012/smjs-c-et-poc-inception-skudataset-xferl-v3-20210428-202031/output/model.tar.gz ."
   ]
  },
  {
   "cell_type": "code",
   "execution_count": 27,
   "metadata": {},
   "outputs": [
    {
     "name": "stdout",
     "output_type": "stream",
     "text": [
      "class_label_to_prediction_index.json\n"
     ]
    }
   ],
   "source": [
    "!tar zxvf model.tar.gz class_label_to_prediction_index.json"
   ]
  },
  {
   "cell_type": "markdown",
   "metadata": {},
   "source": [
    "### Test"
   ]
  },
  {
   "cell_type": "code",
   "execution_count": 42,
   "metadata": {},
   "outputs": [],
   "source": [
    "import json\n",
    "\n",
    "with open('class_label_to_prediction_index.json') as f:\n",
    "    label_to_class_id = json.load(f)\n",
    "    class_id_to_label = {v:k for k, v in label_to_class_id.items()}"
   ]
  },
  {
   "cell_type": "code",
   "execution_count": 43,
   "metadata": {},
   "outputs": [
    {
     "data": {
      "text/plain": [
       "{'BenimO': 0,\n",
       " 'BrowniGoldVisne': 1,\n",
       " 'FormKepekli': 2,\n",
       " 'FormPatlak': 3,\n",
       " 'Gong': 4,\n",
       " 'Gonlubol': 5,\n",
       " 'PopkekLimonlu': 6,\n",
       " 'PopkekMuzlu': 7,\n",
       " 'PufKakaolu': 8}"
      ]
     },
     "execution_count": 43,
     "metadata": {},
     "output_type": "execute_result"
    }
   ],
   "source": [
    "label_to_class_id"
   ]
  },
  {
   "cell_type": "code",
   "execution_count": 44,
   "metadata": {},
   "outputs": [
    {
     "data": {
      "text/plain": [
       "{0: 'BenimO',\n",
       " 1: 'BrowniGoldVisne',\n",
       " 2: 'FormKepekli',\n",
       " 3: 'FormPatlak',\n",
       " 4: 'Gong',\n",
       " 5: 'Gonlubol',\n",
       " 6: 'PopkekLimonlu',\n",
       " 7: 'PopkekMuzlu',\n",
       " 8: 'PufKakaolu'}"
      ]
     },
     "execution_count": 44,
     "metadata": {},
     "output_type": "execute_result"
    }
   ],
   "source": [
    "class_id_to_label"
   ]
  },
  {
   "cell_type": "code",
   "execution_count": 45,
   "metadata": {},
   "outputs": [],
   "source": [
    "def query_et_sku_endpoint(img):\n",
    "    endpoint_name = 'jumpstart-ftc-et-poc-inception-skudataset-xferl-v3'\n",
    "    client = boto3.client('runtime.sagemaker')\n",
    "    response = client.invoke_endpoint(EndpointName=endpoint_name, ContentType='application/x-image', Body=img)\n",
    "    model_predictions = json.loads(response['Body'].read())['predictions'][0]\n",
    "    return model_predictions"
   ]
  },
  {
   "cell_type": "code",
   "execution_count": 46,
   "metadata": {},
   "outputs": [],
   "source": [
    "filename = './eti_form_kepekli.jpg'\n",
    "\n",
    "with open(filename, 'rb') as file: \n",
    "    img = file.read()\n"
   ]
  },
  {
   "cell_type": "code",
   "execution_count": 50,
   "metadata": {},
   "outputs": [
    {
     "data": {
      "text/html": [
       "<img src=./eti_form_kepekli.jpg alt=./eti_form_kepekli.jpg align=\"left\" style=\"width: 250px;\"/><figcaption>Top-5 model predictions are: FormKepekli, BenimO, Gong, PopkekLimonlu, PopkekMuzlu</figcaption>"
      ],
      "text/plain": [
       "<IPython.core.display.HTML object>"
      ]
     },
     "metadata": {},
     "output_type": "display_data"
    },
    {
     "name": "stdout",
     "output_type": "stream",
     "text": [
      "Top Class Labels: FormKepekli, BenimO, Gong, PopkekLimonlu, PopkekMuzlu\n"
     ]
    }
   ],
   "source": [
    "model_predictions = query_et_sku_endpoint(img)  \n",
    "top5_prediction_ids = sorted(range(len(model_predictions)), key=lambda index: model_predictions[index], reverse=True)[:5]\n",
    "top5_class_labels = \", \".join([class_id_to_label[id] for id in top5_prediction_ids])\n",
    "display(HTML(f'<img src={filename} alt={filename} align=\"left\" style=\"width: 250px;\"/>' \n",
    "             f'<figcaption>Top-5 model predictions are: {top5_class_labels}</figcaption>'))\n",
    "print(f'Top Class Labels: {top5_class_labels}')"
   ]
  },
  {
   "cell_type": "code",
   "execution_count": null,
   "metadata": {},
   "outputs": [],
   "source": []
  }
 ],
 "metadata": {
  "instance_type": "ml.t3.medium",
  "kernelspec": {
   "display_name": "Python 3 (Data Science)",
   "language": "python",
   "name": "python3__SAGEMAKER_INTERNAL__arn:aws:sagemaker:us-east-1:081325390199:image/datascience-1.0"
  },
  "language_info": {
   "codemirror_mode": {
    "name": "ipython",
    "version": 3
   },
   "file_extension": ".py",
   "mimetype": "text/x-python",
   "name": "python",
   "nbconvert_exporter": "python",
   "pygments_lexer": "ipython3",
   "version": "3.7.10"
  },
  "pycharm": {
   "stem_cell": {
    "cell_type": "raw",
    "metadata": {
     "collapsed": false
    },
    "source": []
   }
  }
 },
 "nbformat": 4,
 "nbformat_minor": 4
}
