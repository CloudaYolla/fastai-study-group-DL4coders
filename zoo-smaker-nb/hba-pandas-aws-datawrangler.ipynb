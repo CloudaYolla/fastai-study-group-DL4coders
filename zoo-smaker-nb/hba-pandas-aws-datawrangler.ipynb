{
 "cells": [
  {
   "cell_type": "code",
   "execution_count": 1,
   "metadata": {},
   "outputs": [
    {
     "name": "stdout",
     "output_type": "stream",
     "text": [
      "Collecting awswrangler\n",
      "  Downloading awswrangler-1.10.1-py3-none-any.whl (137 kB)\n",
      "\u001b[K     |████████████████████████████████| 137 kB 9.3 MB/s eta 0:00:0101\n",
      "\u001b[?25hCollecting psycopg2-binary~=2.8.0\n",
      "  Downloading psycopg2_binary-2.8.6-cp37-cp37m-manylinux1_x86_64.whl (3.0 MB)\n",
      "\u001b[K     |████████████████████████████████| 3.0 MB 20.5 MB/s eta 0:00:01\n",
      "\u001b[?25hCollecting sqlalchemy-redshift<0.9.0,>=0.7.0\n",
      "  Downloading sqlalchemy_redshift-0.8.1-py2.py3-none-any.whl (33 kB)\n",
      "Requirement already satisfied: botocore<2.0.0,>=1.15.49 in /opt/conda/lib/python3.7/site-packages (from awswrangler) (1.19.19)\n",
      "Collecting pymysql<0.11.0,>=0.9.0\n",
      "  Downloading PyMySQL-0.10.1-py2.py3-none-any.whl (47 kB)\n",
      "\u001b[K     |████████████████████████████████| 47 kB 626 kB/s  eta 0:00:01\n",
      "\u001b[?25hRequirement already satisfied: numpy<1.20.0,>=1.18.0 in /opt/conda/lib/python3.7/site-packages (from awswrangler) (1.18.1)\n",
      "Requirement already satisfied: SQLAlchemy~=1.3.10 in /opt/conda/lib/python3.7/site-packages (from awswrangler) (1.3.13)\n",
      "Collecting pyarrow~=2.0.0\n",
      "  Downloading pyarrow-2.0.0-cp37-cp37m-manylinux2014_x86_64.whl (17.7 MB)\n",
      "\u001b[K     |████████████████████████████████| 17.7 MB 68.0 MB/s eta 0:00:01\n",
      "\u001b[?25hCollecting pandas<1.2.0,>=1.1.0\n",
      "  Downloading pandas-1.1.4-cp37-cp37m-manylinux1_x86_64.whl (9.5 MB)\n",
      "\u001b[K     |████████████████████████████████| 9.5 MB 51.9 MB/s eta 0:00:01\n",
      "\u001b[?25hRequirement already satisfied: boto3<2.0.0,>=1.12.49 in /opt/conda/lib/python3.7/site-packages (from awswrangler) (1.16.19)\n",
      "Requirement already satisfied: packaging in /opt/conda/lib/python3.7/site-packages (from sqlalchemy-redshift<0.9.0,>=0.7.0->awswrangler) (20.1)\n",
      "Requirement already satisfied: urllib3<1.27,>=1.25.4 in /opt/conda/lib/python3.7/site-packages (from botocore<2.0.0,>=1.15.49->awswrangler) (1.25.8)\n",
      "Requirement already satisfied: jmespath<1.0.0,>=0.7.1 in /opt/conda/lib/python3.7/site-packages (from botocore<2.0.0,>=1.15.49->awswrangler) (0.10.0)\n",
      "Requirement already satisfied: python-dateutil<3.0.0,>=2.1 in /opt/conda/lib/python3.7/site-packages (from botocore<2.0.0,>=1.15.49->awswrangler) (2.8.1)\n",
      "Requirement already satisfied: pytz>=2017.2 in /opt/conda/lib/python3.7/site-packages (from pandas<1.2.0,>=1.1.0->awswrangler) (2019.3)\n",
      "Requirement already satisfied: s3transfer<0.4.0,>=0.3.0 in /opt/conda/lib/python3.7/site-packages (from boto3<2.0.0,>=1.12.49->awswrangler) (0.3.3)\n",
      "Requirement already satisfied: six in /opt/conda/lib/python3.7/site-packages (from packaging->sqlalchemy-redshift<0.9.0,>=0.7.0->awswrangler) (1.14.0)\n",
      "Requirement already satisfied: pyparsing>=2.0.2 in /opt/conda/lib/python3.7/site-packages (from packaging->sqlalchemy-redshift<0.9.0,>=0.7.0->awswrangler) (2.4.6)\n",
      "Installing collected packages: psycopg2-binary, sqlalchemy-redshift, pymysql, pyarrow, pandas, awswrangler\n",
      "  Attempting uninstall: pandas\n",
      "    Found existing installation: pandas 1.0.1\n",
      "    Uninstalling pandas-1.0.1:\n",
      "      Successfully uninstalled pandas-1.0.1\n",
      "Successfully installed awswrangler-1.10.1 pandas-1.1.4 psycopg2-binary-2.8.6 pyarrow-2.0.0 pymysql-0.10.1 sqlalchemy-redshift-0.8.1\n"
     ]
    }
   ],
   "source": [
    "!pip install awswrangler"
   ]
  },
  {
   "cell_type": "code",
   "execution_count": 2,
   "metadata": {},
   "outputs": [],
   "source": [
    "import awswrangler as wr"
   ]
  },
  {
   "cell_type": "code",
   "execution_count": null,
   "metadata": {},
   "outputs": [],
   "source": []
  },
  {
   "cell_type": "code",
   "execution_count": 3,
   "metadata": {},
   "outputs": [
    {
     "data": {
      "text/plain": [
       "['s3://noaa-ghcn-pds/csv/1880.csv',\n",
       " 's3://noaa-ghcn-pds/csv/1881.csv',\n",
       " 's3://noaa-ghcn-pds/csv/1882.csv',\n",
       " 's3://noaa-ghcn-pds/csv/1883.csv',\n",
       " 's3://noaa-ghcn-pds/csv/1884.csv',\n",
       " 's3://noaa-ghcn-pds/csv/1885.csv',\n",
       " 's3://noaa-ghcn-pds/csv/1886.csv',\n",
       " 's3://noaa-ghcn-pds/csv/1887.csv',\n",
       " 's3://noaa-ghcn-pds/csv/1888.csv',\n",
       " 's3://noaa-ghcn-pds/csv/1889.csv']"
      ]
     },
     "execution_count": 3,
     "metadata": {},
     "output_type": "execute_result"
    }
   ],
   "source": [
    "wr.s3.list_objects(\"s3://noaa-ghcn-pds/csv/188\")"
   ]
  },
  {
   "cell_type": "code",
   "execution_count": 6,
   "metadata": {},
   "outputs": [],
   "source": [
    "col_names = [\"id\", \"dt\", \"element\", \"value\", \"m_flag\", \"q_flag\", \"s_flag\", \"obs_time\"]"
   ]
  },
  {
   "cell_type": "code",
   "execution_count": 10,
   "metadata": {},
   "outputs": [],
   "source": [
    "df = wr.s3.read_csv(\n",
    "    path=\"s3://noaa-ghcn-pds/csv/188\",\n",
    "    names=col_names,\n",
    "    parse_dates=[\"dt\", \"obs_time\"]  # Hint to parse these columns as date instead of strings\n",
    ")"
   ]
  },
  {
   "cell_type": "code",
   "execution_count": 11,
   "metadata": {},
   "outputs": [],
   "source": [
    "df[\"year\"] = df[\"dt\"].dt.year"
   ]
  },
  {
   "cell_type": "code",
   "execution_count": 12,
   "metadata": {},
   "outputs": [
    {
     "data": {
      "text/html": [
       "<div>\n",
       "<style scoped>\n",
       "    .dataframe tbody tr th:only-of-type {\n",
       "        vertical-align: middle;\n",
       "    }\n",
       "\n",
       "    .dataframe tbody tr th {\n",
       "        vertical-align: top;\n",
       "    }\n",
       "\n",
       "    .dataframe thead th {\n",
       "        text-align: right;\n",
       "    }\n",
       "</style>\n",
       "<table border=\"1\" class=\"dataframe\">\n",
       "  <thead>\n",
       "    <tr style=\"text-align: right;\">\n",
       "      <th></th>\n",
       "      <th>id</th>\n",
       "      <th>dt</th>\n",
       "      <th>element</th>\n",
       "      <th>value</th>\n",
       "      <th>m_flag</th>\n",
       "      <th>q_flag</th>\n",
       "      <th>s_flag</th>\n",
       "      <th>obs_time</th>\n",
       "      <th>year</th>\n",
       "    </tr>\n",
       "  </thead>\n",
       "  <tbody>\n",
       "    <tr>\n",
       "      <th>0</th>\n",
       "      <td>AGE00147708</td>\n",
       "      <td>1880-01-01</td>\n",
       "      <td>PRCP</td>\n",
       "      <td>36</td>\n",
       "      <td>NaN</td>\n",
       "      <td>NaN</td>\n",
       "      <td>E</td>\n",
       "      <td>NaN</td>\n",
       "      <td>1880</td>\n",
       "    </tr>\n",
       "    <tr>\n",
       "      <th>1</th>\n",
       "      <td>AGE00147709</td>\n",
       "      <td>1880-01-01</td>\n",
       "      <td>PRCP</td>\n",
       "      <td>36</td>\n",
       "      <td>NaN</td>\n",
       "      <td>NaN</td>\n",
       "      <td>E</td>\n",
       "      <td>NaN</td>\n",
       "      <td>1880</td>\n",
       "    </tr>\n",
       "    <tr>\n",
       "      <th>2</th>\n",
       "      <td>AGE00147705</td>\n",
       "      <td>1880-01-01</td>\n",
       "      <td>PRCP</td>\n",
       "      <td>0</td>\n",
       "      <td>NaN</td>\n",
       "      <td>NaN</td>\n",
       "      <td>E</td>\n",
       "      <td>NaN</td>\n",
       "      <td>1880</td>\n",
       "    </tr>\n",
       "    <tr>\n",
       "      <th>3</th>\n",
       "      <td>AGE00147712</td>\n",
       "      <td>1880-01-01</td>\n",
       "      <td>PRCP</td>\n",
       "      <td>0</td>\n",
       "      <td>NaN</td>\n",
       "      <td>NaN</td>\n",
       "      <td>E</td>\n",
       "      <td>NaN</td>\n",
       "      <td>1880</td>\n",
       "    </tr>\n",
       "    <tr>\n",
       "      <th>4</th>\n",
       "      <td>AGE00147713</td>\n",
       "      <td>1880-01-01</td>\n",
       "      <td>TMAX</td>\n",
       "      <td>52</td>\n",
       "      <td>NaN</td>\n",
       "      <td>NaN</td>\n",
       "      <td>E</td>\n",
       "      <td>NaN</td>\n",
       "      <td>1880</td>\n",
       "    </tr>\n",
       "    <tr>\n",
       "      <th>...</th>\n",
       "      <td>...</td>\n",
       "      <td>...</td>\n",
       "      <td>...</td>\n",
       "      <td>...</td>\n",
       "      <td>...</td>\n",
       "      <td>...</td>\n",
       "      <td>...</td>\n",
       "      <td>...</td>\n",
       "      <td>...</td>\n",
       "    </tr>\n",
       "    <tr>\n",
       "      <th>7616248</th>\n",
       "      <td>UZM00038457</td>\n",
       "      <td>1889-12-31</td>\n",
       "      <td>PRCP</td>\n",
       "      <td>16</td>\n",
       "      <td>NaN</td>\n",
       "      <td>NaN</td>\n",
       "      <td>r</td>\n",
       "      <td>NaN</td>\n",
       "      <td>1889</td>\n",
       "    </tr>\n",
       "    <tr>\n",
       "      <th>7616249</th>\n",
       "      <td>UZM00038457</td>\n",
       "      <td>1889-12-31</td>\n",
       "      <td>TAVG</td>\n",
       "      <td>-72</td>\n",
       "      <td>NaN</td>\n",
       "      <td>NaN</td>\n",
       "      <td>r</td>\n",
       "      <td>NaN</td>\n",
       "      <td>1889</td>\n",
       "    </tr>\n",
       "    <tr>\n",
       "      <th>7616250</th>\n",
       "      <td>UZM00038618</td>\n",
       "      <td>1889-12-31</td>\n",
       "      <td>TMIN</td>\n",
       "      <td>-67</td>\n",
       "      <td>NaN</td>\n",
       "      <td>NaN</td>\n",
       "      <td>r</td>\n",
       "      <td>NaN</td>\n",
       "      <td>1889</td>\n",
       "    </tr>\n",
       "    <tr>\n",
       "      <th>7616251</th>\n",
       "      <td>UZM00038618</td>\n",
       "      <td>1889-12-31</td>\n",
       "      <td>PRCP</td>\n",
       "      <td>0</td>\n",
       "      <td>NaN</td>\n",
       "      <td>NaN</td>\n",
       "      <td>r</td>\n",
       "      <td>NaN</td>\n",
       "      <td>1889</td>\n",
       "    </tr>\n",
       "    <tr>\n",
       "      <th>7616252</th>\n",
       "      <td>UZM00038618</td>\n",
       "      <td>1889-12-31</td>\n",
       "      <td>TAVG</td>\n",
       "      <td>-40</td>\n",
       "      <td>NaN</td>\n",
       "      <td>NaN</td>\n",
       "      <td>r</td>\n",
       "      <td>NaN</td>\n",
       "      <td>1889</td>\n",
       "    </tr>\n",
       "  </tbody>\n",
       "</table>\n",
       "<p>7616253 rows × 9 columns</p>\n",
       "</div>"
      ],
      "text/plain": [
       "                  id         dt element  value m_flag q_flag s_flag obs_time  \\\n",
       "0        AGE00147708 1880-01-01    PRCP     36    NaN    NaN      E      NaN   \n",
       "1        AGE00147709 1880-01-01    PRCP     36    NaN    NaN      E      NaN   \n",
       "2        AGE00147705 1880-01-01    PRCP      0    NaN    NaN      E      NaN   \n",
       "3        AGE00147712 1880-01-01    PRCP      0    NaN    NaN      E      NaN   \n",
       "4        AGE00147713 1880-01-01    TMAX     52    NaN    NaN      E      NaN   \n",
       "...              ...        ...     ...    ...    ...    ...    ...      ...   \n",
       "7616248  UZM00038457 1889-12-31    PRCP     16    NaN    NaN      r      NaN   \n",
       "7616249  UZM00038457 1889-12-31    TAVG    -72    NaN    NaN      r      NaN   \n",
       "7616250  UZM00038618 1889-12-31    TMIN    -67    NaN    NaN      r      NaN   \n",
       "7616251  UZM00038618 1889-12-31    PRCP      0    NaN    NaN      r      NaN   \n",
       "7616252  UZM00038618 1889-12-31    TAVG    -40    NaN    NaN      r      NaN   \n",
       "\n",
       "         year  \n",
       "0        1880  \n",
       "1        1880  \n",
       "2        1880  \n",
       "3        1880  \n",
       "4        1880  \n",
       "...       ...  \n",
       "7616248  1889  \n",
       "7616249  1889  \n",
       "7616250  1889  \n",
       "7616251  1889  \n",
       "7616252  1889  \n",
       "\n",
       "[7616253 rows x 9 columns]"
      ]
     },
     "execution_count": 12,
     "metadata": {},
     "output_type": "execute_result"
    }
   ],
   "source": [
    "df"
   ]
  },
  {
   "cell_type": "code",
   "execution_count": 13,
   "metadata": {},
   "outputs": [],
   "source": [
    "wr.s3.to_parquet(\n",
    "    df=df,\n",
    "    path=\"s3://prj-ml/data-wrangler-pandas/noaa/\",\n",
    "    dataset=True,\n",
    "    database=\"default\",\n",
    "    table=\"datawrangler_noaa\",\n",
    "    partition_cols=[\"year\"]\n",
    ");"
   ]
  },
  {
   "cell_type": "code",
   "execution_count": 15,
   "metadata": {},
   "outputs": [
    {
     "data": {
      "text/plain": [
       "['s3://prj-ml/data-wrangler-pandas/noaa/year=1880/ffa1fa2c15be460db25fe140b1eddf72.snappy.parquet',\n",
       " 's3://prj-ml/data-wrangler-pandas/noaa/year=1881/06d1bfdcdf22497fad7875ddd5f1ca16.snappy.parquet',\n",
       " 's3://prj-ml/data-wrangler-pandas/noaa/year=1882/3f041d8a2a484dd9b2472cd9f1e4921e.snappy.parquet',\n",
       " 's3://prj-ml/data-wrangler-pandas/noaa/year=1883/cc557633ec8d493a9901d73b730e65e2.snappy.parquet',\n",
       " 's3://prj-ml/data-wrangler-pandas/noaa/year=1884/3c226fabb7e84a3fb0f70196256e295b.snappy.parquet',\n",
       " 's3://prj-ml/data-wrangler-pandas/noaa/year=1885/a1066078f4b343a0b10f2efc159b49ba.snappy.parquet',\n",
       " 's3://prj-ml/data-wrangler-pandas/noaa/year=1886/989875c1895845d88dd57a00ceed75d3.snappy.parquet',\n",
       " 's3://prj-ml/data-wrangler-pandas/noaa/year=1887/453ce7d8d99b4010bca0ef7154cb87c4.snappy.parquet',\n",
       " 's3://prj-ml/data-wrangler-pandas/noaa/year=1888/a9b08d4cc9dd4847a7d87f2bc6e6c033.snappy.parquet',\n",
       " 's3://prj-ml/data-wrangler-pandas/noaa/year=1889/6180fca8354b45e4ac1807076b208b27.snappy.parquet']"
      ]
     },
     "execution_count": 15,
     "metadata": {},
     "output_type": "execute_result"
    }
   ],
   "source": [
    "wr.s3.list_objects(\"s3://prj-ml/data-wrangler-pandas/noaa/\")"
   ]
  },
  {
   "cell_type": "code",
   "execution_count": 16,
   "metadata": {},
   "outputs": [
    {
     "data": {
      "text/html": [
       "<div>\n",
       "<style scoped>\n",
       "    .dataframe tbody tr th:only-of-type {\n",
       "        vertical-align: middle;\n",
       "    }\n",
       "\n",
       "    .dataframe tbody tr th {\n",
       "        vertical-align: top;\n",
       "    }\n",
       "\n",
       "    .dataframe thead th {\n",
       "        text-align: right;\n",
       "    }\n",
       "</style>\n",
       "<table border=\"1\" class=\"dataframe\">\n",
       "  <thead>\n",
       "    <tr style=\"text-align: right;\">\n",
       "      <th></th>\n",
       "      <th>Column Name</th>\n",
       "      <th>Type</th>\n",
       "      <th>Partition</th>\n",
       "      <th>Comment</th>\n",
       "    </tr>\n",
       "  </thead>\n",
       "  <tbody>\n",
       "    <tr>\n",
       "      <th>0</th>\n",
       "      <td>id</td>\n",
       "      <td>string</td>\n",
       "      <td>False</td>\n",
       "      <td></td>\n",
       "    </tr>\n",
       "    <tr>\n",
       "      <th>1</th>\n",
       "      <td>dt</td>\n",
       "      <td>timestamp</td>\n",
       "      <td>False</td>\n",
       "      <td></td>\n",
       "    </tr>\n",
       "    <tr>\n",
       "      <th>2</th>\n",
       "      <td>element</td>\n",
       "      <td>string</td>\n",
       "      <td>False</td>\n",
       "      <td></td>\n",
       "    </tr>\n",
       "    <tr>\n",
       "      <th>3</th>\n",
       "      <td>value</td>\n",
       "      <td>bigint</td>\n",
       "      <td>False</td>\n",
       "      <td></td>\n",
       "    </tr>\n",
       "    <tr>\n",
       "      <th>4</th>\n",
       "      <td>m_flag</td>\n",
       "      <td>string</td>\n",
       "      <td>False</td>\n",
       "      <td></td>\n",
       "    </tr>\n",
       "    <tr>\n",
       "      <th>5</th>\n",
       "      <td>q_flag</td>\n",
       "      <td>string</td>\n",
       "      <td>False</td>\n",
       "      <td></td>\n",
       "    </tr>\n",
       "    <tr>\n",
       "      <th>6</th>\n",
       "      <td>s_flag</td>\n",
       "      <td>string</td>\n",
       "      <td>False</td>\n",
       "      <td></td>\n",
       "    </tr>\n",
       "    <tr>\n",
       "      <th>7</th>\n",
       "      <td>obs_time</td>\n",
       "      <td>string</td>\n",
       "      <td>False</td>\n",
       "      <td></td>\n",
       "    </tr>\n",
       "    <tr>\n",
       "      <th>8</th>\n",
       "      <td>year</td>\n",
       "      <td>bigint</td>\n",
       "      <td>True</td>\n",
       "      <td></td>\n",
       "    </tr>\n",
       "  </tbody>\n",
       "</table>\n",
       "</div>"
      ],
      "text/plain": [
       "  Column Name       Type  Partition Comment\n",
       "0          id     string      False        \n",
       "1          dt  timestamp      False        \n",
       "2     element     string      False        \n",
       "3       value     bigint      False        \n",
       "4      m_flag     string      False        \n",
       "5      q_flag     string      False        \n",
       "6      s_flag     string      False        \n",
       "7    obs_time     string      False        \n",
       "8        year     bigint       True        "
      ]
     },
     "execution_count": 16,
     "metadata": {},
     "output_type": "execute_result"
    }
   ],
   "source": [
    "wr.catalog.table(database=\"default\", table=\"datawrangler_noaa\")"
   ]
  },
  {
   "cell_type": "code",
   "execution_count": 18,
   "metadata": {},
   "outputs": [],
   "source": [
    "sql = \"\"\"\n",
    "SELECT\n",
    "    dt,\n",
    "    (value / 10.0) AS temperature  -- Converting tenths of degrees C to regular degrees C\n",
    "FROM datawrangler_noaa\n",
    "WHERE year BETWEEN 1887 AND 1889  -- Only last 3 years (PARTITION filter)\n",
    "AND substr(id, 1, 2)='US'  -- Only U.S. stations\n",
    "AND element='TMAX'  -- Only Maximum temperature elements\n",
    "AND q_flag is NULL  -- Only HIGH quality measurement\n",
    "\"\"\"\n",
    "\n",
    "df = wr.athena.read_sql_query(sql, database=\"default\")"
   ]
  },
  {
   "cell_type": "code",
   "execution_count": 19,
   "metadata": {},
   "outputs": [
    {
     "data": {
      "text/html": [
       "<div>\n",
       "<style scoped>\n",
       "    .dataframe tbody tr th:only-of-type {\n",
       "        vertical-align: middle;\n",
       "    }\n",
       "\n",
       "    .dataframe tbody tr th {\n",
       "        vertical-align: top;\n",
       "    }\n",
       "\n",
       "    .dataframe thead th {\n",
       "        text-align: right;\n",
       "    }\n",
       "</style>\n",
       "<table border=\"1\" class=\"dataframe\">\n",
       "  <thead>\n",
       "    <tr style=\"text-align: right;\">\n",
       "      <th></th>\n",
       "      <th>dt</th>\n",
       "      <th>temperature</th>\n",
       "    </tr>\n",
       "  </thead>\n",
       "  <tbody>\n",
       "    <tr>\n",
       "      <th>0</th>\n",
       "      <td>1887-01-01</td>\n",
       "      <td>-5.6</td>\n",
       "    </tr>\n",
       "    <tr>\n",
       "      <th>1</th>\n",
       "      <td>1887-01-01</td>\n",
       "      <td>-6.7</td>\n",
       "    </tr>\n",
       "    <tr>\n",
       "      <th>2</th>\n",
       "      <td>1887-01-01</td>\n",
       "      <td>0.0</td>\n",
       "    </tr>\n",
       "    <tr>\n",
       "      <th>3</th>\n",
       "      <td>1887-01-01</td>\n",
       "      <td>-2.2</td>\n",
       "    </tr>\n",
       "    <tr>\n",
       "      <th>4</th>\n",
       "      <td>1887-01-01</td>\n",
       "      <td>-4.4</td>\n",
       "    </tr>\n",
       "    <tr>\n",
       "      <th>...</th>\n",
       "      <td>...</td>\n",
       "      <td>...</td>\n",
       "    </tr>\n",
       "    <tr>\n",
       "      <th>94351</th>\n",
       "      <td>1889-12-31</td>\n",
       "      <td>-0.6</td>\n",
       "    </tr>\n",
       "    <tr>\n",
       "      <th>94352</th>\n",
       "      <td>1889-12-31</td>\n",
       "      <td>1.1</td>\n",
       "    </tr>\n",
       "    <tr>\n",
       "      <th>94353</th>\n",
       "      <td>1889-12-31</td>\n",
       "      <td>0.0</td>\n",
       "    </tr>\n",
       "    <tr>\n",
       "      <th>94354</th>\n",
       "      <td>1889-12-31</td>\n",
       "      <td>2.2</td>\n",
       "    </tr>\n",
       "    <tr>\n",
       "      <th>94355</th>\n",
       "      <td>1889-12-31</td>\n",
       "      <td>17.2</td>\n",
       "    </tr>\n",
       "  </tbody>\n",
       "</table>\n",
       "<p>94356 rows × 2 columns</p>\n",
       "</div>"
      ],
      "text/plain": [
       "              dt  temperature\n",
       "0     1887-01-01         -5.6\n",
       "1     1887-01-01         -6.7\n",
       "2     1887-01-01          0.0\n",
       "3     1887-01-01         -2.2\n",
       "4     1887-01-01         -4.4\n",
       "...          ...          ...\n",
       "94351 1889-12-31         -0.6\n",
       "94352 1889-12-31          1.1\n",
       "94353 1889-12-31          0.0\n",
       "94354 1889-12-31          2.2\n",
       "94355 1889-12-31         17.2\n",
       "\n",
       "[94356 rows x 2 columns]"
      ]
     },
     "execution_count": 19,
     "metadata": {},
     "output_type": "execute_result"
    }
   ],
   "source": [
    "df.sort_values(\"dt\", ignore_index=True)"
   ]
  },
  {
   "cell_type": "code",
   "execution_count": 20,
   "metadata": {},
   "outputs": [
    {
     "data": {
      "image/png": "[encoded data removed]",
      "text/plain": [
       "<Figure size 432x288 with 1 Axes>"
      ]
     },
     "metadata": {
      "needs_background": "light"
     },
     "output_type": "display_data"
    }
   ],
   "source": [
    "%matplotlib inline\n",
    "df.groupby(\"dt\").mean().plot();"
   ]
  },
  {
   "cell_type": "code",
   "execution_count": 21,
   "metadata": {},
   "outputs": [
    {
     "data": {
      "image/png": "[encoded data removed]",
      "text/plain": [
       "<Figure size 432x288 with 1 Axes>"
      ]
     },
     "metadata": {
      "needs_background": "light"
     },
     "output_type": "display_data"
    }
   ],
   "source": [
    "%matplotlib inline\n",
    "df.groupby(\"dt\").mean().rolling(window=30, center=True).mean().plot();"
   ]
  },
  {
   "cell_type": "code",
   "execution_count": null,
   "metadata": {},
   "outputs": [],
   "source": []
  }
 ],
 "metadata": {
  "instance_type": "ml.t3.medium",
  "kernelspec": {
   "display_name": "Python 3 (Data Science)",
   "language": "python",
   "name": "python3__SAGEMAKER_INTERNAL__arn:aws:sagemaker:us-east-1:081325390199:image/datascience-1.0"
  },
  "language_info": {
   "codemirror_mode": {
    "name": "ipython",
    "version": 3
   },
   "file_extension": ".py",
   "mimetype": "text/x-python",
   "name": "python",
   "nbconvert_exporter": "python",
   "pygments_lexer": "ipython3",
   "version": "3.7.6"
  }
 },
 "nbformat": 4,
 "nbformat_minor": 4
}
