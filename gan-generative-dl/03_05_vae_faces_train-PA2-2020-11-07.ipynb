{
 "cells": [
  {
   "cell_type": "markdown",
   "metadata": {},
   "source": [
    "# VAE Training - Faces dataset"
   ]
  },
  {
   "cell_type": "markdown",
   "metadata": {},
   "source": [
    "## imports"
   ]
  },
  {
   "cell_type": "markdown",
   "metadata": {},
   "source": [
    "Hi,\n",
    "I was using AWS SageMaker built-in kernels for TensorFlow, and installing the missing pieces via pip install.\n",
    "\n",
    "Today, I followed the approach recommended by the book, namely:\n",
    "\n",
    "### CPU version\n",
    "In my Jupyter NB terminal, did\n",
    "\n",
    "- `conda create -n hba-gan python=3.6 ipykernel`\n",
    "- `conda activate hba-gan`\n",
    "- `pip install -r requirements.txt`\n",
    "- `conda deactivate`\n",
    "\n",
    "Then, from the Jupyter NB, I selected the 'hba-gan' kernel which I created above, and everything works fine. So, I'm closing this issue.\n",
    "\n",
    "### GPU version\n",
    "\n",
    "\n",
    "- `conda create -n hba-gan-gpu-tf14 python=3.6 ipykernel`\n",
    "- `conda activate hba-gan-gpu-tf14`\n",
    "- `pip install -r requirements-PA2-2020-11-07gpu-hba.txt`\n",
    "- `conda deactivate`"
   ]
  },
  {
   "cell_type": "markdown",
   "metadata": {},
   "source": [
    "## CelebA Dataset Download Insturctions\n",
    "\n",
    "Dataset: http://mmlab.ie.cuhk.edu.hk/projects/CelebA.html\n",
    "\n",
    "Instructions Source: https://github.com/davidADSP/GDL_code/issues/10\n",
    "\n",
    "CelebA: http://mmlab.ie.cuhk.edu.hk/projects/CelebA.html\n",
    "You can get the files from the link to Google Drive or Baidu Drive. They are public datasets so no cost to download but you will need a Google account to access Google Drive.\n",
    "\n",
    "You will also need to download the feature list csv file, list_attr_celeba.csv. I found it here: https://github.com/togheppi/cDCGAN/blob/master/list_attr_celeba.csv. You have to change the first header field from \"filename\" to \"image_id\". You can get it\n",
    "\n",
    "### CelabA\n",
    "\n",
    "`\n",
    "Get a google account if you don't have one.\n",
    "Go to the celebA website\n",
    "Select the Aligned&Cropped Images. This will take you to the Google Cloud Drive site.\n",
    "Sign in with your Google account\n",
    "Download\n",
    "Colab Notebooks > GAN > CelebA > Anno > list_attr_celeba.txt\n",
    "Colab Notebooks > GAN > CelebA > Img > img_align_celeba.zip\n",
    "Unzip img_align_celeba.zip to path/to/GDL_Code/data/celeb this will create img_align_celeba/*jpg\n",
    "Move the list_attr_celeba.txt to path/to/GDL_Code/data/celeb/list_attr_celeba.csv.\n",
    "Delete the first line with count of the number of lines in the file (202599).\n",
    "Prepend the header line that start with, \"5_o_Clock_Shadow\" with \"image_id,...\".\n",
    "That's it for celebA.\n",
    "The QuickDraw dataset:\n",
    "`\n",
    "\n",
    "### With gsutil cp:\n",
    "\n",
    "`\n",
    "Install gsutil into your python package. On Windows I'm using Anaconda 3 Python but still used pip:\n",
    "pip install gsutil\n",
    "Be careful if you are on Linux and install from a deb or rpm. There is another utility with the same name. Also, if you installed Anaconda on Windows for all users, make sure you run pip in a command windows as Administrator, otherwise the installation will fail.\n",
    "The gsutil command is\n",
    "gsutil cp -r gsutil cp -r gs://quickdraw_dataset/full/numpy_bitmap/camel.npy . local_path/to/GDL_Code/data/camel/```\n",
    "\n",
    "From the browser:\n",
    "\n",
    "You will need a Google account.\n",
    "\n",
    "Go to the quickdraw numpy dataset bucket in the GCP browser.\n",
    "\n",
    "Select camel.np and click on the ... and download the file to your data/camel directory.\n",
    "`"
   ]
  },
  {
   "cell_type": "code",
   "execution_count": null,
   "metadata": {},
   "outputs": [],
   "source": [
    "%reload_ext autoreload\n",
    "%autoreload 2"
   ]
  },
  {
   "cell_type": "code",
   "execution_count": 1,
   "metadata": {
    "scrolled": true
   },
   "outputs": [
    {
     "name": "stdout",
     "output_type": "stream",
     "text": [
      "[name: \"/device:CPU:0\"\n",
      "device_type: \"CPU\"\n",
      "memory_limit: 268435456\n",
      "locality {\n",
      "}\n",
      "incarnation: 11101085406684175440\n",
      ", name: \"/device:XLA_GPU:0\"\n",
      "device_type: \"XLA_GPU\"\n",
      "memory_limit: 17179869184\n",
      "locality {\n",
      "}\n",
      "incarnation: 9807163541248138172\n",
      "physical_device_desc: \"device: XLA_GPU device\"\n",
      ", name: \"/device:XLA_GPU:1\"\n",
      "device_type: \"XLA_GPU\"\n",
      "memory_limit: 17179869184\n",
      "locality {\n",
      "}\n",
      "incarnation: 6630097006971359543\n",
      "physical_device_desc: \"device: XLA_GPU device\"\n",
      ", name: \"/device:XLA_GPU:2\"\n",
      "device_type: \"XLA_GPU\"\n",
      "memory_limit: 17179869184\n",
      "locality {\n",
      "}\n",
      "incarnation: 16755987584792597078\n",
      "physical_device_desc: \"device: XLA_GPU device\"\n",
      ", name: \"/device:XLA_GPU:3\"\n",
      "device_type: \"XLA_GPU\"\n",
      "memory_limit: 17179869184\n",
      "locality {\n",
      "}\n",
      "incarnation: 13573526370188989653\n",
      "physical_device_desc: \"device: XLA_GPU device\"\n",
      ", name: \"/device:XLA_GPU:4\"\n",
      "device_type: \"XLA_GPU\"\n",
      "memory_limit: 17179869184\n",
      "locality {\n",
      "}\n",
      "incarnation: 15953176375870962206\n",
      "physical_device_desc: \"device: XLA_GPU device\"\n",
      ", name: \"/device:XLA_GPU:5\"\n",
      "device_type: \"XLA_GPU\"\n",
      "memory_limit: 17179869184\n",
      "locality {\n",
      "}\n",
      "incarnation: 4635322070872951354\n",
      "physical_device_desc: \"device: XLA_GPU device\"\n",
      ", name: \"/device:XLA_GPU:6\"\n",
      "device_type: \"XLA_GPU\"\n",
      "memory_limit: 17179869184\n",
      "locality {\n",
      "}\n",
      "incarnation: 427105730048344886\n",
      "physical_device_desc: \"device: XLA_GPU device\"\n",
      ", name: \"/device:XLA_GPU:7\"\n",
      "device_type: \"XLA_GPU\"\n",
      "memory_limit: 17179869184\n",
      "locality {\n",
      "}\n",
      "incarnation: 13637879499067246191\n",
      "physical_device_desc: \"device: XLA_GPU device\"\n",
      ", name: \"/device:XLA_CPU:0\"\n",
      "device_type: \"XLA_CPU\"\n",
      "memory_limit: 17179869184\n",
      "locality {\n",
      "}\n",
      "incarnation: 10822762054044252916\n",
      "physical_device_desc: \"device: XLA_CPU device\"\n",
      ", name: \"/device:GPU:0\"\n",
      "device_type: \"GPU\"\n",
      "memory_limit: 11336092877\n",
      "locality {\n",
      "  bus_id: 1\n",
      "  links {\n",
      "    link {\n",
      "      device_id: 1\n",
      "      type: \"StreamExecutor\"\n",
      "      strength: 1\n",
      "    }\n",
      "    link {\n",
      "      device_id: 2\n",
      "      type: \"StreamExecutor\"\n",
      "      strength: 1\n",
      "    }\n",
      "    link {\n",
      "      device_id: 3\n",
      "      type: \"StreamExecutor\"\n",
      "      strength: 1\n",
      "    }\n",
      "    link {\n",
      "      device_id: 4\n",
      "      type: \"StreamExecutor\"\n",
      "      strength: 1\n",
      "    }\n",
      "    link {\n",
      "      device_id: 5\n",
      "      type: \"StreamExecutor\"\n",
      "      strength: 1\n",
      "    }\n",
      "    link {\n",
      "      device_id: 6\n",
      "      type: \"StreamExecutor\"\n",
      "      strength: 1\n",
      "    }\n",
      "    link {\n",
      "      device_id: 7\n",
      "      type: \"StreamExecutor\"\n",
      "      strength: 1\n",
      "    }\n",
      "  }\n",
      "}\n",
      "incarnation: 3168480525433768522\n",
      "physical_device_desc: \"device: 0, name: Tesla K80, pci bus id: 0000:00:17.0, compute capability: 3.7\"\n",
      ", name: \"/device:GPU:1\"\n",
      "device_type: \"GPU\"\n",
      "memory_limit: 11336092877\n",
      "locality {\n",
      "  bus_id: 1\n",
      "  links {\n",
      "    link {\n",
      "      type: \"StreamExecutor\"\n",
      "      strength: 1\n",
      "    }\n",
      "    link {\n",
      "      device_id: 2\n",
      "      type: \"StreamExecutor\"\n",
      "      strength: 1\n",
      "    }\n",
      "    link {\n",
      "      device_id: 3\n",
      "      type: \"StreamExecutor\"\n",
      "      strength: 1\n",
      "    }\n",
      "    link {\n",
      "      device_id: 4\n",
      "      type: \"StreamExecutor\"\n",
      "      strength: 1\n",
      "    }\n",
      "    link {\n",
      "      device_id: 5\n",
      "      type: \"StreamExecutor\"\n",
      "      strength: 1\n",
      "    }\n",
      "    link {\n",
      "      device_id: 6\n",
      "      type: \"StreamExecutor\"\n",
      "      strength: 1\n",
      "    }\n",
      "    link {\n",
      "      device_id: 7\n",
      "      type: \"StreamExecutor\"\n",
      "      strength: 1\n",
      "    }\n",
      "  }\n",
      "}\n",
      "incarnation: 10334337431113370844\n",
      "physical_device_desc: \"device: 1, name: Tesla K80, pci bus id: 0000:00:18.0, compute capability: 3.7\"\n",
      ", name: \"/device:GPU:2\"\n",
      "device_type: \"GPU\"\n",
      "memory_limit: 11334100583\n",
      "locality {\n",
      "  bus_id: 1\n",
      "  links {\n",
      "    link {\n",
      "      type: \"StreamExecutor\"\n",
      "      strength: 1\n",
      "    }\n",
      "    link {\n",
      "      device_id: 1\n",
      "      type: \"StreamExecutor\"\n",
      "      strength: 1\n",
      "    }\n",
      "    link {\n",
      "      device_id: 3\n",
      "      type: \"StreamExecutor\"\n",
      "      strength: 1\n",
      "    }\n",
      "    link {\n",
      "      device_id: 4\n",
      "      type: \"StreamExecutor\"\n",
      "      strength: 1\n",
      "    }\n",
      "    link {\n",
      "      device_id: 5\n",
      "      type: \"StreamExecutor\"\n",
      "      strength: 1\n",
      "    }\n",
      "    link {\n",
      "      device_id: 6\n",
      "      type: \"StreamExecutor\"\n",
      "      strength: 1\n",
      "    }\n",
      "    link {\n",
      "      device_id: 7\n",
      "      type: \"StreamExecutor\"\n",
      "      strength: 1\n",
      "    }\n",
      "  }\n",
      "}\n",
      "incarnation: 13807336718786268371\n",
      "physical_device_desc: \"device: 2, name: Tesla K80, pci bus id: 0000:00:19.0, compute capability: 3.7\"\n",
      ", name: \"/device:GPU:3\"\n",
      "device_type: \"GPU\"\n",
      "memory_limit: 11334100583\n",
      "locality {\n",
      "  bus_id: 1\n",
      "  links {\n",
      "    link {\n",
      "      type: \"StreamExecutor\"\n",
      "      strength: 1\n",
      "    }\n",
      "    link {\n",
      "      device_id: 1\n",
      "      type: \"StreamExecutor\"\n",
      "      strength: 1\n",
      "    }\n",
      "    link {\n",
      "      device_id: 2\n",
      "      type: \"StreamExecutor\"\n",
      "      strength: 1\n",
      "    }\n",
      "    link {\n",
      "      device_id: 4\n",
      "      type: \"StreamExecutor\"\n",
      "      strength: 1\n",
      "    }\n",
      "    link {\n",
      "      device_id: 5\n",
      "      type: \"StreamExecutor\"\n",
      "      strength: 1\n",
      "    }\n",
      "    link {\n",
      "      device_id: 6\n",
      "      type: \"StreamExecutor\"\n",
      "      strength: 1\n",
      "    }\n",
      "    link {\n",
      "      device_id: 7\n",
      "      type: \"StreamExecutor\"\n",
      "      strength: 1\n",
      "    }\n",
      "  }\n",
      "}\n",
      "incarnation: 4633199217640127967\n",
      "physical_device_desc: \"device: 3, name: Tesla K80, pci bus id: 0000:00:1a.0, compute capability: 3.7\"\n",
      ", name: \"/device:GPU:4\"\n",
      "device_type: \"GPU\"\n",
      "memory_limit: 11334100583\n",
      "locality {\n",
      "  bus_id: 1\n",
      "  links {\n",
      "    link {\n",
      "      type: \"StreamExecutor\"\n",
      "      strength: 1\n",
      "    }\n",
      "    link {\n",
      "      device_id: 1\n",
      "      type: \"StreamExecutor\"\n",
      "      strength: 1\n",
      "    }\n",
      "    link {\n",
      "      device_id: 2\n",
      "      type: \"StreamExecutor\"\n",
      "      strength: 1\n",
      "    }\n",
      "    link {\n",
      "      device_id: 3\n",
      "      type: \"StreamExecutor\"\n",
      "      strength: 1\n",
      "    }\n",
      "    link {\n",
      "      device_id: 5\n",
      "      type: \"StreamExecutor\"\n",
      "      strength: 1\n",
      "    }\n",
      "    link {\n",
      "      device_id: 6\n",
      "      type: \"StreamExecutor\"\n",
      "      strength: 1\n",
      "    }\n",
      "    link {\n",
      "      device_id: 7\n",
      "      type: \"StreamExecutor\"\n",
      "      strength: 1\n",
      "    }\n",
      "  }\n",
      "}\n",
      "incarnation: 14660271774186345944\n",
      "physical_device_desc: \"device: 4, name: Tesla K80, pci bus id: 0000:00:1b.0, compute capability: 3.7\"\n",
      ", name: \"/device:GPU:5\"\n",
      "device_type: \"GPU\"\n",
      "memory_limit: 11336092877\n",
      "locality {\n",
      "  bus_id: 1\n",
      "  links {\n",
      "    link {\n",
      "      type: \"StreamExecutor\"\n",
      "      strength: 1\n",
      "    }\n",
      "    link {\n",
      "      device_id: 1\n",
      "      type: \"StreamExecutor\"\n",
      "      strength: 1\n",
      "    }\n",
      "    link {\n",
      "      device_id: 2\n",
      "      type: \"StreamExecutor\"\n",
      "      strength: 1\n",
      "    }\n",
      "    link {\n",
      "      device_id: 3\n",
      "      type: \"StreamExecutor\"\n",
      "      strength: 1\n",
      "    }\n",
      "    link {\n",
      "      device_id: 4\n",
      "      type: \"StreamExecutor\"\n",
      "      strength: 1\n",
      "    }\n",
      "    link {\n",
      "      device_id: 6\n",
      "      type: \"StreamExecutor\"\n",
      "      strength: 1\n",
      "    }\n",
      "    link {\n",
      "      device_id: 7\n",
      "      type: \"StreamExecutor\"\n",
      "      strength: 1\n",
      "    }\n",
      "  }\n",
      "}\n",
      "incarnation: 3518622111516713854\n",
      "physical_device_desc: \"device: 5, name: Tesla K80, pci bus id: 0000:00:1c.0, compute capability: 3.7\"\n",
      ", name: \"/device:GPU:6\"\n",
      "device_type: \"GPU\"\n",
      "memory_limit: 11336092877\n",
      "locality {\n",
      "  bus_id: 1\n",
      "  links {\n",
      "    link {\n",
      "      type: \"StreamExecutor\"\n",
      "      strength: 1\n",
      "    }\n",
      "    link {\n",
      "      device_id: 1\n",
      "      type: \"StreamExecutor\"\n",
      "      strength: 1\n",
      "    }\n",
      "    link {\n",
      "      device_id: 2\n",
      "      type: \"StreamExecutor\"\n",
      "      strength: 1\n",
      "    }\n",
      "    link {\n",
      "      device_id: 3\n",
      "      type: \"StreamExecutor\"\n",
      "      strength: 1\n",
      "    }\n",
      "    link {\n",
      "      device_id: 4\n",
      "      type: \"StreamExecutor\"\n",
      "      strength: 1\n",
      "    }\n",
      "    link {\n",
      "      device_id: 5\n",
      "      type: \"StreamExecutor\"\n",
      "      strength: 1\n",
      "    }\n",
      "    link {\n",
      "      device_id: 7\n",
      "      type: \"StreamExecutor\"\n",
      "      strength: 1\n",
      "    }\n",
      "  }\n",
      "}\n",
      "incarnation: 7745905192714667776\n",
      "physical_device_desc: \"device: 6, name: Tesla K80, pci bus id: 0000:00:1d.0, compute capability: 3.7\"\n",
      ", name: \"/device:GPU:7\"\n",
      "device_type: \"GPU\"\n",
      "memory_limit: 11334100583\n",
      "locality {\n",
      "  bus_id: 1\n",
      "  links {\n",
      "    link {\n",
      "      type: \"StreamExecutor\"\n",
      "      strength: 1\n",
      "    }\n",
      "    link {\n",
      "      device_id: 1\n",
      "      type: \"StreamExecutor\"\n",
      "      strength: 1\n",
      "    }\n",
      "    link {\n",
      "      device_id: 2\n",
      "      type: \"StreamExecutor\"\n",
      "      strength: 1\n",
      "    }\n",
      "    link {\n",
      "      device_id: 3\n",
      "      type: \"StreamExecutor\"\n",
      "      strength: 1\n",
      "    }\n",
      "    link {\n",
      "      device_id: 4\n",
      "      type: \"StreamExecutor\"\n",
      "      strength: 1\n",
      "    }\n",
      "    link {\n",
      "      device_id: 5\n",
      "      type: \"StreamExecutor\"\n",
      "      strength: 1\n",
      "    }\n",
      "    link {\n",
      "      device_id: 6\n",
      "      type: \"StreamExecutor\"\n",
      "      strength: 1\n",
      "    }\n",
      "  }\n",
      "}\n",
      "incarnation: 6351313463380536987\n",
      "physical_device_desc: \"device: 7, name: Tesla K80, pci bus id: 0000:00:1e.0, compute capability: 3.7\"\n",
      "]\n"
     ]
    }
   ],
   "source": [
    "from tensorflow.python.client import device_lib\n",
    "print(device_lib.list_local_devices())"
   ]
  },
  {
   "cell_type": "code",
   "execution_count": 2,
   "metadata": {},
   "outputs": [
    {
     "name": "stderr",
     "output_type": "stream",
     "text": [
      "Using TensorFlow backend.\n",
      "WARNING: Logging before flag parsing goes to stderr.\n",
      "W1107 17:38:47.578044 140226616198976 deprecation_wrapper.py:119] From /home/ec2-user/anaconda3/envs/hba-gan-gpu-tf14/lib/python3.6/site-packages/keras/backend/tensorflow_backend.py:174: The name tf.get_default_session is deprecated. Please use tf.compat.v1.get_default_session instead.\n",
      "\n",
      "W1107 17:38:47.578913 140226616198976 deprecation_wrapper.py:119] From /home/ec2-user/anaconda3/envs/hba-gan-gpu-tf14/lib/python3.6/site-packages/keras/backend/tensorflow_backend.py:181: The name tf.ConfigProto is deprecated. Please use tf.compat.v1.ConfigProto instead.\n",
      "\n",
      "W1107 17:38:47.579619 140226616198976 deprecation_wrapper.py:119] From /home/ec2-user/anaconda3/envs/hba-gan-gpu-tf14/lib/python3.6/site-packages/keras/backend/tensorflow_backend.py:186: The name tf.Session is deprecated. Please use tf.compat.v1.Session instead.\n",
      "\n",
      "W1107 17:38:47.647608 140226616198976 deprecation_wrapper.py:119] From /home/ec2-user/anaconda3/envs/hba-gan-gpu-tf14/lib/python3.6/site-packages/keras/backend/tensorflow_backend.py:190: The name tf.global_variables is deprecated. Please use tf.compat.v1.global_variables instead.\n",
      "\n"
     ]
    },
    {
     "data": {
      "text/plain": [
       "['/job:localhost/replica:0/task:0/device:GPU:0',\n",
       " '/job:localhost/replica:0/task:0/device:GPU:1',\n",
       " '/job:localhost/replica:0/task:0/device:GPU:2',\n",
       " '/job:localhost/replica:0/task:0/device:GPU:3',\n",
       " '/job:localhost/replica:0/task:0/device:GPU:4',\n",
       " '/job:localhost/replica:0/task:0/device:GPU:5',\n",
       " '/job:localhost/replica:0/task:0/device:GPU:6',\n",
       " '/job:localhost/replica:0/task:0/device:GPU:7']"
      ]
     },
     "execution_count": 2,
     "metadata": {},
     "output_type": "execute_result"
    }
   ],
   "source": [
    "from keras import backend as K\n",
    "K.tensorflow_backend._get_available_gpus()"
   ]
  },
  {
   "cell_type": "code",
   "execution_count": 3,
   "metadata": {},
   "outputs": [],
   "source": [
    "import os\n",
    "from glob import glob\n",
    "import numpy as np\n",
    "\n",
    "from models.VAE import VariationalAutoencoder\n",
    "from keras.preprocessing.image import ImageDataGenerator\n"
   ]
  },
  {
   "cell_type": "code",
   "execution_count": 4,
   "metadata": {},
   "outputs": [],
   "source": [
    "# run params\n",
    "section = 'vae'\n",
    "run_id = '0001'\n",
    "data_name = 'faces'\n",
    "RUN_FOLDER = 'run/{}/'.format(section)\n",
    "RUN_FOLDER += '_'.join([run_id, data_name])\n",
    "\n",
    "if not os.path.exists(RUN_FOLDER):\n",
    "    os.mkdir(RUN_FOLDER)\n",
    "    os.mkdir(os.path.join(RUN_FOLDER, 'viz'))\n",
    "    os.mkdir(os.path.join(RUN_FOLDER, 'images'))\n",
    "    os.mkdir(os.path.join(RUN_FOLDER, 'weights'))\n",
    "\n",
    "mode =  'build' #'load' #\n",
    "\n",
    "\n",
    "DATA_FOLDER = './data/celeba/'"
   ]
  },
  {
   "cell_type": "markdown",
   "metadata": {},
   "source": [
    "## data"
   ]
  },
  {
   "cell_type": "code",
   "execution_count": 5,
   "metadata": {},
   "outputs": [],
   "source": [
    "INPUT_DIM = (128,128,3)\n",
    "BATCH_SIZE = 32\n",
    "\n",
    "filenames = np.array(glob(os.path.join(DATA_FOLDER, '*/*.jpg')))\n",
    "\n",
    "NUM_IMAGES = len(filenames)"
   ]
  },
  {
   "cell_type": "code",
   "execution_count": 6,
   "metadata": {},
   "outputs": [
    {
     "name": "stdout",
     "output_type": "stream",
     "text": [
      "Found 202599 images belonging to 1 classes.\n"
     ]
    }
   ],
   "source": [
    "data_gen = ImageDataGenerator(rescale=1./255)\n",
    "\n",
    "data_flow = data_gen.flow_from_directory(DATA_FOLDER\n",
    "                                         , target_size = INPUT_DIM[:2]\n",
    "                                         , batch_size = BATCH_SIZE\n",
    "                                         , shuffle = True\n",
    "                                         , class_mode = 'input'\n",
    "                                         , subset = \"training\"\n",
    "                                            )"
   ]
  },
  {
   "cell_type": "markdown",
   "metadata": {},
   "source": [
    "## architecture"
   ]
  },
  {
   "cell_type": "code",
   "execution_count": 7,
   "metadata": {},
   "outputs": [
    {
     "name": "stderr",
     "output_type": "stream",
     "text": [
      "W1107 17:39:08.330542 140226616198976 deprecation_wrapper.py:119] From /home/ec2-user/anaconda3/envs/hba-gan-gpu-tf14/lib/python3.6/site-packages/keras/backend/tensorflow_backend.py:517: The name tf.placeholder is deprecated. Please use tf.compat.v1.placeholder instead.\n",
      "\n",
      "W1107 17:39:08.361097 140226616198976 deprecation_wrapper.py:119] From /home/ec2-user/anaconda3/envs/hba-gan-gpu-tf14/lib/python3.6/site-packages/keras/backend/tensorflow_backend.py:1834: The name tf.nn.fused_batch_norm is deprecated. Please use tf.compat.v1.nn.fused_batch_norm instead.\n",
      "\n",
      "W1107 17:39:08.439363 140226616198976 deprecation.py:506] From /home/ec2-user/anaconda3/envs/hba-gan-gpu-tf14/lib/python3.6/site-packages/keras/backend/tensorflow_backend.py:3445: calling dropout (from tensorflow.python.ops.nn_ops) with keep_prob is deprecated and will be removed in a future version.\n",
      "Instructions for updating:\n",
      "Please use `rate` instead of `keep_prob`. Rate should be set to `rate = 1 - keep_prob`.\n"
     ]
    }
   ],
   "source": [
    "vae = VariationalAutoencoder(\n",
    "                input_dim = INPUT_DIM\n",
    "                , encoder_conv_filters=[32,64,64, 64]\n",
    "                , encoder_conv_kernel_size=[3,3,3,3]\n",
    "                , encoder_conv_strides=[2,2,2,2]\n",
    "                , decoder_conv_t_filters=[64,64,32,3]\n",
    "                , decoder_conv_t_kernel_size=[3,3,3,3]\n",
    "                , decoder_conv_t_strides=[2,2,2,2]\n",
    "                , z_dim=200\n",
    "                , use_batch_norm=True\n",
    "                , use_dropout=True)\n",
    "\n",
    "if mode == 'build':\n",
    "    vae.save(RUN_FOLDER)\n",
    "else:\n",
    "    vae.load_weights(os.path.join(RUN_FOLDER, 'weights/weights.h5'))"
   ]
  },
  {
   "cell_type": "code",
   "execution_count": 8,
   "metadata": {},
   "outputs": [
    {
     "name": "stdout",
     "output_type": "stream",
     "text": [
      "__________________________________________________________________________________________________\n",
      "Layer (type)                    Output Shape         Param #     Connected to                     \n",
      "==================================================================================================\n",
      "encoder_input (InputLayer)      (None, 128, 128, 3)  0                                            \n",
      "__________________________________________________________________________________________________\n",
      "encoder_conv_0 (Conv2D)         (None, 64, 64, 32)   896         encoder_input[0][0]              \n",
      "__________________________________________________________________________________________________\n",
      "batch_normalization_1 (BatchNor (None, 64, 64, 32)   128         encoder_conv_0[0][0]             \n",
      "__________________________________________________________________________________________________\n",
      "leaky_re_lu_1 (LeakyReLU)       (None, 64, 64, 32)   0           batch_normalization_1[0][0]      \n",
      "__________________________________________________________________________________________________\n",
      "dropout_1 (Dropout)             (None, 64, 64, 32)   0           leaky_re_lu_1[0][0]              \n",
      "__________________________________________________________________________________________________\n",
      "encoder_conv_1 (Conv2D)         (None, 32, 32, 64)   18496       dropout_1[0][0]                  \n",
      "__________________________________________________________________________________________________\n",
      "batch_normalization_2 (BatchNor (None, 32, 32, 64)   256         encoder_conv_1[0][0]             \n",
      "__________________________________________________________________________________________________\n",
      "leaky_re_lu_2 (LeakyReLU)       (None, 32, 32, 64)   0           batch_normalization_2[0][0]      \n",
      "__________________________________________________________________________________________________\n",
      "dropout_2 (Dropout)             (None, 32, 32, 64)   0           leaky_re_lu_2[0][0]              \n",
      "__________________________________________________________________________________________________\n",
      "encoder_conv_2 (Conv2D)         (None, 16, 16, 64)   36928       dropout_2[0][0]                  \n",
      "__________________________________________________________________________________________________\n",
      "batch_normalization_3 (BatchNor (None, 16, 16, 64)   256         encoder_conv_2[0][0]             \n",
      "__________________________________________________________________________________________________\n",
      "leaky_re_lu_3 (LeakyReLU)       (None, 16, 16, 64)   0           batch_normalization_3[0][0]      \n",
      "__________________________________________________________________________________________________\n",
      "dropout_3 (Dropout)             (None, 16, 16, 64)   0           leaky_re_lu_3[0][0]              \n",
      "__________________________________________________________________________________________________\n",
      "encoder_conv_3 (Conv2D)         (None, 8, 8, 64)     36928       dropout_3[0][0]                  \n",
      "__________________________________________________________________________________________________\n",
      "batch_normalization_4 (BatchNor (None, 8, 8, 64)     256         encoder_conv_3[0][0]             \n",
      "__________________________________________________________________________________________________\n",
      "leaky_re_lu_4 (LeakyReLU)       (None, 8, 8, 64)     0           batch_normalization_4[0][0]      \n",
      "__________________________________________________________________________________________________\n",
      "dropout_4 (Dropout)             (None, 8, 8, 64)     0           leaky_re_lu_4[0][0]              \n",
      "__________________________________________________________________________________________________\n",
      "flatten_1 (Flatten)             (None, 4096)         0           dropout_4[0][0]                  \n",
      "__________________________________________________________________________________________________\n",
      "mu (Dense)                      (None, 200)          819400      flatten_1[0][0]                  \n",
      "__________________________________________________________________________________________________\n",
      "log_var (Dense)                 (None, 200)          819400      flatten_1[0][0]                  \n",
      "__________________________________________________________________________________________________\n",
      "encoder_output (Lambda)         (None, 200)          0           mu[0][0]                         \n",
      "                                                                 log_var[0][0]                    \n",
      "==================================================================================================\n",
      "Total params: 1,732,944\n",
      "Trainable params: 1,732,496\n",
      "Non-trainable params: 448\n",
      "__________________________________________________________________________________________________\n"
     ]
    }
   ],
   "source": [
    "vae.encoder.summary()"
   ]
  },
  {
   "cell_type": "code",
   "execution_count": 8,
   "metadata": {},
   "outputs": [
    {
     "name": "stdout",
     "output_type": "stream",
     "text": [
      "_________________________________________________________________\n",
      "Layer (type)                 Output Shape              Param #   \n",
      "=================================================================\n",
      "decoder_input (InputLayer)   (None, 200)               0         \n",
      "_________________________________________________________________\n",
      "dense_1 (Dense)              (None, 4096)              823296    \n",
      "_________________________________________________________________\n",
      "reshape_1 (Reshape)          (None, 8, 8, 64)          0         \n",
      "_________________________________________________________________\n",
      "decoder_conv_t_0 (Conv2DTran (None, 16, 16, 64)        36928     \n",
      "_________________________________________________________________\n",
      "batch_normalization_5 (Batch (None, 16, 16, 64)        256       \n",
      "_________________________________________________________________\n",
      "leaky_re_lu_5 (LeakyReLU)    (None, 16, 16, 64)        0         \n",
      "_________________________________________________________________\n",
      "dropout_5 (Dropout)          (None, 16, 16, 64)        0         \n",
      "_________________________________________________________________\n",
      "decoder_conv_t_1 (Conv2DTran (None, 32, 32, 64)        36928     \n",
      "_________________________________________________________________\n",
      "batch_normalization_6 (Batch (None, 32, 32, 64)        256       \n",
      "_________________________________________________________________\n",
      "leaky_re_lu_6 (LeakyReLU)    (None, 32, 32, 64)        0         \n",
      "_________________________________________________________________\n",
      "dropout_6 (Dropout)          (None, 32, 32, 64)        0         \n",
      "_________________________________________________________________\n",
      "decoder_conv_t_2 (Conv2DTran (None, 64, 64, 32)        18464     \n",
      "_________________________________________________________________\n",
      "batch_normalization_7 (Batch (None, 64, 64, 32)        128       \n",
      "_________________________________________________________________\n",
      "leaky_re_lu_7 (LeakyReLU)    (None, 64, 64, 32)        0         \n",
      "_________________________________________________________________\n",
      "dropout_7 (Dropout)          (None, 64, 64, 32)        0         \n",
      "_________________________________________________________________\n",
      "decoder_conv_t_3 (Conv2DTran (None, 128, 128, 3)       867       \n",
      "_________________________________________________________________\n",
      "activation_1 (Activation)    (None, 128, 128, 3)       0         \n",
      "=================================================================\n",
      "Total params: 917,123\n",
      "Trainable params: 916,803\n",
      "Non-trainable params: 320\n",
      "_________________________________________________________________\n"
     ]
    }
   ],
   "source": [
    "vae.decoder.summary()"
   ]
  },
  {
   "cell_type": "markdown",
   "metadata": {},
   "source": [
    "## training"
   ]
  },
  {
   "cell_type": "code",
   "execution_count": 9,
   "metadata": {},
   "outputs": [],
   "source": [
    "LEARNING_RATE = 0.0005\n",
    "R_LOSS_FACTOR = 10000\n",
    "EPOCHS = 200\n",
    "PRINT_EVERY_N_BATCHES = 100\n",
    "INITIAL_EPOCH = 0"
   ]
  },
  {
   "cell_type": "code",
   "execution_count": 10,
   "metadata": {},
   "outputs": [
    {
     "name": "stderr",
     "output_type": "stream",
     "text": [
      "W1107 17:39:15.477465 140226616198976 deprecation_wrapper.py:119] From /home/ec2-user/anaconda3/envs/hba-gan-gpu-tf14/lib/python3.6/site-packages/keras/optimizers.py:790: The name tf.train.Optimizer is deprecated. Please use tf.compat.v1.train.Optimizer instead.\n",
      "\n"
     ]
    }
   ],
   "source": [
    "vae.compile(LEARNING_RATE, R_LOSS_FACTOR)"
   ]
  },
  {
   "cell_type": "code",
   "execution_count": null,
   "metadata": {},
   "outputs": [
    {
     "name": "stdout",
     "output_type": "stream",
     "text": [
      "Epoch 1/200\n",
      "   4/6331 [..............................] - ETA: 13:39:33 - loss: 1257.6749 - vae_r_loss: 1054.8738 - vae_kl_loss: 202.8011"
     ]
    },
    {
     "name": "stderr",
     "output_type": "stream",
     "text": [
      "/home/ec2-user/anaconda3/envs/hba-gan-gpu-tf14/lib/python3.6/site-packages/keras/callbacks.py:122: UserWarning: Method on_batch_end() is slow compared to the batch update (0.175932). Check your callbacks.\n",
      "  % delta_t_median)\n"
     ]
    },
    {
     "name": "stdout",
     "output_type": "stream",
     "text": [
      " 402/6331 [>.............................] - ETA: 39:59 - loss: 508.5842 - vae_r_loss: 420.3447 - vae_kl_loss: 88.2395"
     ]
    },
    {
     "name": "stderr",
     "output_type": "stream",
     "text": [
      "/home/ec2-user/anaconda3/envs/hba-gan-gpu-tf14/lib/python3.6/site-packages/keras/callbacks.py:122: UserWarning: Method on_batch_end() is slow compared to the batch update (0.101491). Check your callbacks.\n",
      "  % delta_t_median)\n"
     ]
    },
    {
     "name": "stdout",
     "output_type": "stream",
     "text": [
      " 405/6331 [>.............................] - ETA: 39:55 - loss: 507.6808 - vae_r_loss: 419.5292 - vae_kl_loss: 88.1516"
     ]
    },
    {
     "name": "stderr",
     "output_type": "stream",
     "text": [
      "/home/ec2-user/anaconda3/envs/hba-gan-gpu-tf14/lib/python3.6/site-packages/keras/callbacks.py:122: UserWarning: Method on_batch_end() is slow compared to the batch update (0.103232). Check your callbacks.\n",
      "  % delta_t_median)\n"
     ]
    },
    {
     "name": "stdout",
     "output_type": "stream",
     "text": [
      " 639/6331 [==>...........................] - ETA: 35:59 - loss: 449.3758 - vae_r_loss: 366.2590 - vae_kl_loss: 83.1168"
     ]
    },
    {
     "name": "stderr",
     "output_type": "stream",
     "text": [
      "/home/ec2-user/anaconda3/envs/hba-gan-gpu-tf14/lib/python3.6/site-packages/keras/callbacks.py:122: UserWarning: Method on_batch_end() is slow compared to the batch update (0.101247). Check your callbacks.\n",
      "  % delta_t_median)\n"
     ]
    },
    {
     "name": "stdout",
     "output_type": "stream",
     "text": [
      " 642/6331 [==>...........................] - ETA: 35:57 - loss: 448.7623 - vae_r_loss: 365.7195 - vae_kl_loss: 83.0429"
     ]
    },
    {
     "name": "stderr",
     "output_type": "stream",
     "text": [
      "/home/ec2-user/anaconda3/envs/hba-gan-gpu-tf14/lib/python3.6/site-packages/keras/callbacks.py:122: UserWarning: Method on_batch_end() is slow compared to the batch update (0.101324). Check your callbacks.\n",
      "  % delta_t_median)\n"
     ]
    },
    {
     "name": "stdout",
     "output_type": "stream",
     "text": [
      " 644/6331 [==>...........................] - ETA: 35:55 - loss: 448.4050 - vae_r_loss: 365.4072 - vae_kl_loss: 82.9978"
     ]
    },
    {
     "name": "stderr",
     "output_type": "stream",
     "text": [
      "/home/ec2-user/anaconda3/envs/hba-gan-gpu-tf14/lib/python3.6/site-packages/keras/callbacks.py:122: UserWarning: Method on_batch_end() is slow compared to the batch update (0.101963). Check your callbacks.\n",
      "  % delta_t_median)\n"
     ]
    },
    {
     "name": "stdout",
     "output_type": "stream",
     "text": [
      " 645/6331 [==>...........................] - ETA: 35:55 - loss: 448.2509 - vae_r_loss: 365.2708 - vae_kl_loss: 82.9801"
     ]
    },
    {
     "name": "stderr",
     "output_type": "stream",
     "text": [
      "/home/ec2-user/anaconda3/envs/hba-gan-gpu-tf14/lib/python3.6/site-packages/keras/callbacks.py:122: UserWarning: Method on_batch_end() is slow compared to the batch update (0.101939). Check your callbacks.\n",
      "  % delta_t_median)\n"
     ]
    },
    {
     "name": "stdout",
     "output_type": "stream",
     "text": [
      "5754/6331 [==========================>...] - ETA: 3:15 - loss: 280.0406 - vae_r_loss: 218.3538 - vae_kl_loss: 61.6868"
     ]
    },
    {
     "name": "stderr",
     "output_type": "stream",
     "text": [
      "/home/ec2-user/anaconda3/envs/hba-gan-gpu-tf14/lib/python3.6/site-packages/keras/callbacks.py:122: UserWarning: Method on_batch_end() is slow compared to the batch update (0.101645). Check your callbacks.\n",
      "  % delta_t_median)\n"
     ]
    },
    {
     "name": "stdout",
     "output_type": "stream",
     "text": [
      "5758/6331 [==========================>...] - ETA: 3:13 - loss: 280.0151 - vae_r_loss: 218.3307 - vae_kl_loss: 61.6845"
     ]
    },
    {
     "name": "stderr",
     "output_type": "stream",
     "text": [
      "/home/ec2-user/anaconda3/envs/hba-gan-gpu-tf14/lib/python3.6/site-packages/keras/callbacks.py:122: UserWarning: Method on_batch_end() is slow compared to the batch update (0.106886). Check your callbacks.\n",
      "  % delta_t_median)\n"
     ]
    },
    {
     "name": "stdout",
     "output_type": "stream",
     "text": [
      "5759/6331 [==========================>...] - ETA: 3:13 - loss: 280.0085 - vae_r_loss: 218.3249 - vae_kl_loss: 61.6836"
     ]
    },
    {
     "name": "stderr",
     "output_type": "stream",
     "text": [
      "/home/ec2-user/anaconda3/envs/hba-gan-gpu-tf14/lib/python3.6/site-packages/keras/callbacks.py:122: UserWarning: Method on_batch_end() is slow compared to the batch update (0.100113). Check your callbacks.\n",
      "  % delta_t_median)\n"
     ]
    },
    {
     "name": "stdout",
     "output_type": "stream",
     "text": [
      "5776/6331 [==========================>...] - ETA: 3:07 - loss: 279.8997 - vae_r_loss: 218.2276 - vae_kl_loss: 61.6721"
     ]
    },
    {
     "name": "stderr",
     "output_type": "stream",
     "text": [
      "/home/ec2-user/anaconda3/envs/hba-gan-gpu-tf14/lib/python3.6/site-packages/keras/callbacks.py:122: UserWarning: Method on_batch_end() is slow compared to the batch update (0.104609). Check your callbacks.\n",
      "  % delta_t_median)\n"
     ]
    },
    {
     "name": "stdout",
     "output_type": "stream",
     "text": [
      "5778/6331 [==========================>...] - ETA: 3:07 - loss: 279.8853 - vae_r_loss: 218.2143 - vae_kl_loss: 61.6710"
     ]
    },
    {
     "name": "stderr",
     "output_type": "stream",
     "text": [
      "/home/ec2-user/anaconda3/envs/hba-gan-gpu-tf14/lib/python3.6/site-packages/keras/callbacks.py:122: UserWarning: Method on_batch_end() is slow compared to the batch update (0.102111). Check your callbacks.\n",
      "  % delta_t_median)\n"
     ]
    },
    {
     "name": "stdout",
     "output_type": "stream",
     "text": [
      "5782/6331 [==========================>...] - ETA: 3:05 - loss: 279.8527 - vae_r_loss: 218.1845 - vae_kl_loss: 61.6682"
     ]
    },
    {
     "name": "stderr",
     "output_type": "stream",
     "text": [
      "/home/ec2-user/anaconda3/envs/hba-gan-gpu-tf14/lib/python3.6/site-packages/keras/callbacks.py:122: UserWarning: Method on_batch_end() is slow compared to the batch update (0.107063). Check your callbacks.\n",
      "  % delta_t_median)\n"
     ]
    },
    {
     "name": "stdout",
     "output_type": "stream",
     "text": [
      "6332/6331 [==============================] - 2136s 337ms/step - loss: 276.2370 - vae_r_loss: 214.8952 - vae_kl_loss: 61.3419\n",
      "\n",
      "Epoch 00001: saving model to run/vae/0001_faces/weights/weights-001-276.24.h5\n",
      "\n",
      "Epoch 00001: saving model to run/vae/0001_faces/weights/weights.h5\n",
      "Epoch 2/200\n",
      "   1/6331 [..............................] - ETA: 14:15 - loss: 227.1756 - vae_r_loss: 172.2103 - vae_kl_loss: 54.9653"
     ]
    },
    {
     "name": "stderr",
     "output_type": "stream",
     "text": [
      "/home/ec2-user/anaconda3/envs/hba-gan-gpu-tf14/lib/python3.6/site-packages/keras/callbacks.py:122: UserWarning: Method on_batch_end() is slow compared to the batch update (0.157266). Check your callbacks.\n",
      "  % delta_t_median)\n"
     ]
    },
    {
     "name": "stdout",
     "output_type": "stream",
     "text": [
      "   2/6331 [..............................] - ETA: 24:13 - loss: 249.5670 - vae_r_loss: 191.2865 - vae_kl_loss: 58.2806"
     ]
    },
    {
     "name": "stderr",
     "output_type": "stream",
     "text": [
      "/home/ec2-user/anaconda3/envs/hba-gan-gpu-tf14/lib/python3.6/site-packages/keras/callbacks.py:122: UserWarning: Method on_batch_end() is slow compared to the batch update (0.117997). Check your callbacks.\n",
      "  % delta_t_median)\n"
     ]
    },
    {
     "name": "stdout",
     "output_type": "stream",
     "text": [
      " 361/6331 [>.............................] - ETA: 30:30 - loss: 236.9350 - vae_r_loss: 178.8374 - vae_kl_loss: 58.0976"
     ]
    },
    {
     "name": "stderr",
     "output_type": "stream",
     "text": [
      "/home/ec2-user/anaconda3/envs/hba-gan-gpu-tf14/lib/python3.6/site-packages/keras/callbacks.py:122: UserWarning: Method on_batch_end() is slow compared to the batch update (0.105823). Check your callbacks.\n",
      "  % delta_t_median)\n"
     ]
    },
    {
     "name": "stdout",
     "output_type": "stream",
     "text": [
      " 365/6331 [>.............................] - ETA: 30:29 - loss: 236.9810 - vae_r_loss: 178.8715 - vae_kl_loss: 58.1094"
     ]
    },
    {
     "name": "stderr",
     "output_type": "stream",
     "text": [
      "/home/ec2-user/anaconda3/envs/hba-gan-gpu-tf14/lib/python3.6/site-packages/keras/callbacks.py:122: UserWarning: Method on_batch_end() is slow compared to the batch update (0.113299). Check your callbacks.\n",
      "  % delta_t_median)\n",
      "/home/ec2-user/anaconda3/envs/hba-gan-gpu-tf14/lib/python3.6/site-packages/keras/callbacks.py:122: UserWarning: Method on_batch_end() is slow compared to the batch update (0.106587). Check your callbacks.\n",
      "  % delta_t_median)\n"
     ]
    },
    {
     "name": "stdout",
     "output_type": "stream",
     "text": [
      " 392/6331 [>.............................] - ETA: 30:21 - loss: 236.9356 - vae_r_loss: 178.8458 - vae_kl_loss: 58.0897"
     ]
    },
    {
     "name": "stderr",
     "output_type": "stream",
     "text": [
      "/home/ec2-user/anaconda3/envs/hba-gan-gpu-tf14/lib/python3.6/site-packages/keras/callbacks.py:122: UserWarning: Method on_batch_end() is slow compared to the batch update (0.111484). Check your callbacks.\n",
      "  % delta_t_median)\n"
     ]
    },
    {
     "name": "stdout",
     "output_type": "stream",
     "text": [
      " 941/6331 [===>..........................] - ETA: 27:34 - loss: 236.2024 - vae_r_loss: 178.1502 - vae_kl_loss: 58.0522"
     ]
    },
    {
     "name": "stderr",
     "output_type": "stream",
     "text": [
      "/home/ec2-user/anaconda3/envs/hba-gan-gpu-tf14/lib/python3.6/site-packages/keras/callbacks.py:122: UserWarning: Method on_batch_end() is slow compared to the batch update (0.109527). Check your callbacks.\n",
      "  % delta_t_median)\n"
     ]
    },
    {
     "name": "stdout",
     "output_type": "stream",
     "text": [
      " 944/6331 [===>..........................] - ETA: 27:33 - loss: 236.2043 - vae_r_loss: 178.1541 - vae_kl_loss: 58.0502"
     ]
    },
    {
     "name": "stderr",
     "output_type": "stream",
     "text": [
      "/home/ec2-user/anaconda3/envs/hba-gan-gpu-tf14/lib/python3.6/site-packages/keras/callbacks.py:122: UserWarning: Method on_batch_end() is slow compared to the batch update (0.101678). Check your callbacks.\n",
      "  % delta_t_median)\n"
     ]
    },
    {
     "name": "stdout",
     "output_type": "stream",
     "text": [
      "3416/6331 [===============>..............] - ETA: 14:57 - loss: 235.3430 - vae_r_loss: 176.9684 - vae_kl_loss: 58.3747"
     ]
    },
    {
     "name": "stderr",
     "output_type": "stream",
     "text": [
      "/home/ec2-user/anaconda3/envs/hba-gan-gpu-tf14/lib/python3.6/site-packages/keras/callbacks.py:122: UserWarning: Method on_batch_end() is slow compared to the batch update (0.104862). Check your callbacks.\n",
      "  % delta_t_median)\n"
     ]
    },
    {
     "name": "stdout",
     "output_type": "stream",
     "text": [
      "3419/6331 [===============>..............] - ETA: 14:56 - loss: 235.3356 - vae_r_loss: 176.9622 - vae_kl_loss: 58.3734"
     ]
    },
    {
     "name": "stderr",
     "output_type": "stream",
     "text": [
      "/home/ec2-user/anaconda3/envs/hba-gan-gpu-tf14/lib/python3.6/site-packages/keras/callbacks.py:122: UserWarning: Method on_batch_end() is slow compared to the batch update (0.110057). Check your callbacks.\n",
      "  % delta_t_median)\n"
     ]
    },
    {
     "name": "stdout",
     "output_type": "stream",
     "text": [
      "3432/6331 [===============>..............] - ETA: 14:52 - loss: 235.3488 - vae_r_loss: 176.9744 - vae_kl_loss: 58.3744"
     ]
    },
    {
     "name": "stderr",
     "output_type": "stream",
     "text": [
      "/home/ec2-user/anaconda3/envs/hba-gan-gpu-tf14/lib/python3.6/site-packages/keras/callbacks.py:122: UserWarning: Method on_batch_end() is slow compared to the batch update (0.110126). Check your callbacks.\n",
      "  % delta_t_median)\n"
     ]
    },
    {
     "name": "stdout",
     "output_type": "stream",
     "text": [
      "3446/6331 [===============>..............] - ETA: 14:48 - loss: 235.3413 - vae_r_loss: 176.9626 - vae_kl_loss: 58.3788"
     ]
    },
    {
     "name": "stderr",
     "output_type": "stream",
     "text": [
      "/home/ec2-user/anaconda3/envs/hba-gan-gpu-tf14/lib/python3.6/site-packages/keras/callbacks.py:122: UserWarning: Method on_batch_end() is slow compared to the batch update (0.104396). Check your callbacks.\n",
      "  % delta_t_median)\n"
     ]
    },
    {
     "name": "stdout",
     "output_type": "stream",
     "text": [
      "3450/6331 [===============>..............] - ETA: 14:47 - loss: 235.3577 - vae_r_loss: 176.9770 - vae_kl_loss: 58.3807"
     ]
    },
    {
     "name": "stderr",
     "output_type": "stream",
     "text": [
      "/home/ec2-user/anaconda3/envs/hba-gan-gpu-tf14/lib/python3.6/site-packages/keras/callbacks.py:122: UserWarning: Method on_batch_end() is slow compared to the batch update (0.104375). Check your callbacks.\n",
      "  % delta_t_median)\n"
     ]
    },
    {
     "name": "stdout",
     "output_type": "stream",
     "text": [
      "6332/6331 [==============================] - 1949s 308ms/step - loss: 233.6745 - vae_r_loss: 175.0857 - vae_kl_loss: 58.5888\n",
      "\n",
      "Epoch 00002: saving model to run/vae/0001_faces/weights/weights-002-233.67.h5\n",
      "\n",
      "Epoch 00002: saving model to run/vae/0001_faces/weights/weights.h5\n",
      "Epoch 3/200\n",
      "   2/6331 [..............................] - ETA: 23:54 - loss: 216.9600 - vae_r_loss: 158.3112 - vae_kl_loss: 58.6487"
     ]
    },
    {
     "name": "stderr",
     "output_type": "stream",
     "text": [
      "/home/ec2-user/anaconda3/envs/hba-gan-gpu-tf14/lib/python3.6/site-packages/keras/callbacks.py:122: UserWarning: Method on_batch_end() is slow compared to the batch update (0.162426). Check your callbacks.\n",
      "  % delta_t_median)\n"
     ]
    },
    {
     "name": "stdout",
     "output_type": "stream",
     "text": [
      " 527/6331 [=>............................] - ETA: 29:40 - loss: 230.5679 - vae_r_loss: 171.5584 - vae_kl_loss: 59.0096"
     ]
    },
    {
     "name": "stderr",
     "output_type": "stream",
     "text": [
      "/home/ec2-user/anaconda3/envs/hba-gan-gpu-tf14/lib/python3.6/site-packages/keras/callbacks.py:122: UserWarning: Method on_batch_end() is slow compared to the batch update (0.111907). Check your callbacks.\n",
      "  % delta_t_median)\n"
     ]
    },
    {
     "name": "stdout",
     "output_type": "stream",
     "text": [
      "3008/6331 [=============>................] - ETA: 17:03 - loss: 229.7582 - vae_r_loss: 170.7519 - vae_kl_loss: 59.0063"
     ]
    },
    {
     "name": "stderr",
     "output_type": "stream",
     "text": [
      "/home/ec2-user/anaconda3/envs/hba-gan-gpu-tf14/lib/python3.6/site-packages/keras/callbacks.py:122: UserWarning: Method on_batch_end() is slow compared to the batch update (0.101791). Check your callbacks.\n",
      "  % delta_t_median)\n"
     ]
    },
    {
     "name": "stdout",
     "output_type": "stream",
     "text": [
      "6023/6331 [===========================>..] - ETA: 1:34 - loss: 228.8535 - vae_r_loss: 169.8597 - vae_kl_loss: 58.9937"
     ]
    },
    {
     "name": "stderr",
     "output_type": "stream",
     "text": [
      "/home/ec2-user/anaconda3/envs/hba-gan-gpu-tf14/lib/python3.6/site-packages/keras/callbacks.py:122: UserWarning: Method on_batch_end() is slow compared to the batch update (0.100308). Check your callbacks.\n",
      "  % delta_t_median)\n"
     ]
    },
    {
     "name": "stdout",
     "output_type": "stream",
     "text": [
      "6254/6331 [============================>.] - ETA: 23s - loss: 228.8424 - vae_r_loss: 169.8396 - vae_kl_loss: 59.0028"
     ]
    },
    {
     "name": "stderr",
     "output_type": "stream",
     "text": [
      "/home/ec2-user/anaconda3/envs/hba-gan-gpu-tf14/lib/python3.6/site-packages/keras/callbacks.py:122: UserWarning: Method on_batch_end() is slow compared to the batch update (0.101769). Check your callbacks.\n",
      "  % delta_t_median)\n"
     ]
    },
    {
     "name": "stdout",
     "output_type": "stream",
     "text": [
      "6265/6331 [============================>.] - ETA: 20s - loss: 228.8508 - vae_r_loss: 169.8474 - vae_kl_loss: 59.0034"
     ]
    },
    {
     "name": "stderr",
     "output_type": "stream",
     "text": [
      "/home/ec2-user/anaconda3/envs/hba-gan-gpu-tf14/lib/python3.6/site-packages/keras/callbacks.py:122: UserWarning: Method on_batch_end() is slow compared to the batch update (0.101785). Check your callbacks.\n",
      "  % delta_t_median)\n"
     ]
    },
    {
     "name": "stdout",
     "output_type": "stream",
     "text": [
      "6269/6331 [============================>.] - ETA: 19s - loss: 228.8538 - vae_r_loss: 169.8501 - vae_kl_loss: 59.0037"
     ]
    },
    {
     "name": "stderr",
     "output_type": "stream",
     "text": [
      "/home/ec2-user/anaconda3/envs/hba-gan-gpu-tf14/lib/python3.6/site-packages/keras/callbacks.py:122: UserWarning: Method on_batch_end() is slow compared to the batch update (0.101724). Check your callbacks.\n",
      "  % delta_t_median)\n"
     ]
    },
    {
     "name": "stdout",
     "output_type": "stream",
     "text": [
      "6283/6331 [============================>.] - ETA: 14s - loss: 228.8573 - vae_r_loss: 169.8518 - vae_kl_loss: 59.0054"
     ]
    },
    {
     "name": "stderr",
     "output_type": "stream",
     "text": [
      "/home/ec2-user/anaconda3/envs/hba-gan-gpu-tf14/lib/python3.6/site-packages/keras/callbacks.py:122: UserWarning: Method on_batch_end() is slow compared to the batch update (0.101673). Check your callbacks.\n",
      "  % delta_t_median)\n"
     ]
    },
    {
     "name": "stdout",
     "output_type": "stream",
     "text": [
      "6332/6331 [==============================] - 1947s 307ms/step - loss: 228.8647 - vae_r_loss: 169.8586 - vae_kl_loss: 59.0061\n",
      "\n",
      "Epoch 00003: saving model to run/vae/0001_faces/weights/weights-003-228.85.h5\n",
      "\n",
      "Epoch 00003: saving model to run/vae/0001_faces/weights/weights.h5\n",
      "Epoch 4/200\n",
      "   2/6331 [..............................] - ETA: 24:05 - loss: 233.3287 - vae_r_loss: 173.4244 - vae_kl_loss: 59.9043"
     ]
    },
    {
     "name": "stderr",
     "output_type": "stream",
     "text": [
      "/home/ec2-user/anaconda3/envs/hba-gan-gpu-tf14/lib/python3.6/site-packages/keras/callbacks.py:122: UserWarning: Method on_batch_end() is slow compared to the batch update (0.162087). Check your callbacks.\n",
      "  % delta_t_median)\n"
     ]
    },
    {
     "name": "stdout",
     "output_type": "stream",
     "text": [
      "6332/6331 [==============================] - 1947s 307ms/step - loss: 226.2293 - vae_r_loss: 167.1666 - vae_kl_loss: 59.0627\n",
      "\n",
      "Epoch 00004: saving model to run/vae/0001_faces/weights/weights-004-226.23.h5\n",
      "\n",
      "Epoch 00004: saving model to run/vae/0001_faces/weights/weights.h5\n",
      "Epoch 5/200\n",
      "   2/6331 [..............................] - ETA: 24:17 - loss: 222.0137 - vae_r_loss: 163.0792 - vae_kl_loss: 58.9345"
     ]
    },
    {
     "name": "stderr",
     "output_type": "stream",
     "text": [
      "/home/ec2-user/anaconda3/envs/hba-gan-gpu-tf14/lib/python3.6/site-packages/keras/callbacks.py:122: UserWarning: Method on_batch_end() is slow compared to the batch update (0.163165). Check your callbacks.\n",
      "  % delta_t_median)\n"
     ]
    },
    {
     "name": "stdout",
     "output_type": "stream",
     "text": [
      "  42/6331 [..............................] - ETA: 31:48 - loss: 228.6311 - vae_r_loss: 169.3281 - vae_kl_loss: 59.3029"
     ]
    },
    {
     "name": "stderr",
     "output_type": "stream",
     "text": [
      "/home/ec2-user/anaconda3/envs/hba-gan-gpu-tf14/lib/python3.6/site-packages/keras/callbacks.py:122: UserWarning: Method on_batch_end() is slow compared to the batch update (0.103657). Check your callbacks.\n",
      "  % delta_t_median)\n"
     ]
    },
    {
     "name": "stdout",
     "output_type": "stream",
     "text": [
      "  44/6331 [..............................] - ETA: 31:49 - loss: 228.4706 - vae_r_loss: 169.1944 - vae_kl_loss: 59.2762"
     ]
    },
    {
     "name": "stderr",
     "output_type": "stream",
     "text": [
      "/home/ec2-user/anaconda3/envs/hba-gan-gpu-tf14/lib/python3.6/site-packages/keras/callbacks.py:122: UserWarning: Method on_batch_end() is slow compared to the batch update (0.103739). Check your callbacks.\n",
      "  % delta_t_median)\n"
     ]
    },
    {
     "name": "stdout",
     "output_type": "stream",
     "text": [
      "  49/6331 [..............................] - ETA: 31:49 - loss: 227.2150 - vae_r_loss: 168.0156 - vae_kl_loss: 59.1994"
     ]
    },
    {
     "name": "stderr",
     "output_type": "stream",
     "text": [
      "/home/ec2-user/anaconda3/envs/hba-gan-gpu-tf14/lib/python3.6/site-packages/keras/callbacks.py:122: UserWarning: Method on_batch_end() is slow compared to the batch update (0.100927). Check your callbacks.\n",
      "  % delta_t_median)\n"
     ]
    },
    {
     "name": "stdout",
     "output_type": "stream",
     "text": [
      "  52/6331 [..............................] - ETA: 31:50 - loss: 227.0627 - vae_r_loss: 167.8207 - vae_kl_loss: 59.2420"
     ]
    },
    {
     "name": "stderr",
     "output_type": "stream",
     "text": [
      "/home/ec2-user/anaconda3/envs/hba-gan-gpu-tf14/lib/python3.6/site-packages/keras/callbacks.py:122: UserWarning: Method on_batch_end() is slow compared to the batch update (0.101545). Check your callbacks.\n",
      "  % delta_t_median)\n"
     ]
    },
    {
     "name": "stdout",
     "output_type": "stream",
     "text": [
      "5622/6331 [=========================>....] - ETA: 3:37 - loss: 224.8175 - vae_r_loss: 165.7749 - vae_kl_loss: 59.0426"
     ]
    },
    {
     "name": "stderr",
     "output_type": "stream",
     "text": [
      "/home/ec2-user/anaconda3/envs/hba-gan-gpu-tf14/lib/python3.6/site-packages/keras/callbacks.py:122: UserWarning: Method on_batch_end() is slow compared to the batch update (0.104432). Check your callbacks.\n",
      "  % delta_t_median)\n"
     ]
    },
    {
     "name": "stdout",
     "output_type": "stream",
     "text": [
      "6217/6331 [============================>.] - ETA: 35s - loss: 224.7773 - vae_r_loss: 165.7341 - vae_kl_loss: 59.0432"
     ]
    },
    {
     "name": "stderr",
     "output_type": "stream",
     "text": [
      "/home/ec2-user/anaconda3/envs/hba-gan-gpu-tf14/lib/python3.6/site-packages/keras/callbacks.py:122: UserWarning: Method on_batch_end() is slow compared to the batch update (0.101926). Check your callbacks.\n",
      "  % delta_t_median)\n"
     ]
    },
    {
     "name": "stdout",
     "output_type": "stream",
     "text": [
      "6221/6331 [============================>.] - ETA: 33s - loss: 224.7701 - vae_r_loss: 165.7276 - vae_kl_loss: 59.0425"
     ]
    },
    {
     "name": "stderr",
     "output_type": "stream",
     "text": [
      "/home/ec2-user/anaconda3/envs/hba-gan-gpu-tf14/lib/python3.6/site-packages/keras/callbacks.py:122: UserWarning: Method on_batch_end() is slow compared to the batch update (0.104906). Check your callbacks.\n",
      "  % delta_t_median)\n"
     ]
    },
    {
     "name": "stdout",
     "output_type": "stream",
     "text": [
      "6222/6331 [============================>.] - ETA: 33s - loss: 224.7681 - vae_r_loss: 165.7255 - vae_kl_loss: 59.0426"
     ]
    },
    {
     "name": "stderr",
     "output_type": "stream",
     "text": [
      "/home/ec2-user/anaconda3/envs/hba-gan-gpu-tf14/lib/python3.6/site-packages/keras/callbacks.py:122: UserWarning: Method on_batch_end() is slow compared to the batch update (0.101891). Check your callbacks.\n",
      "  % delta_t_median)\n"
     ]
    },
    {
     "name": "stdout",
     "output_type": "stream",
     "text": [
      "6332/6331 [==============================] - 1942s 307ms/step - loss: 224.7702 - vae_r_loss: 165.7294 - vae_kl_loss: 59.0409\n",
      "\n",
      "Epoch 00005: saving model to run/vae/0001_faces/weights/weights-005-224.77.h5\n",
      "\n",
      "Epoch 00005: saving model to run/vae/0001_faces/weights/weights.h5\n",
      "Epoch 6/200\n",
      "   2/6331 [..............................] - ETA: 24:06 - loss: 225.5684 - vae_r_loss: 167.1211 - vae_kl_loss: 58.4474"
     ]
    },
    {
     "name": "stderr",
     "output_type": "stream",
     "text": [
      "/home/ec2-user/anaconda3/envs/hba-gan-gpu-tf14/lib/python3.6/site-packages/keras/callbacks.py:122: UserWarning: Method on_batch_end() is slow compared to the batch update (0.161129). Check your callbacks.\n",
      "  % delta_t_median)\n"
     ]
    },
    {
     "name": "stdout",
     "output_type": "stream",
     "text": [
      " 698/6331 [==>...........................] - ETA: 28:47 - loss: 225.2640 - vae_r_loss: 166.1395 - vae_kl_loss: 59.1244"
     ]
    },
    {
     "name": "stderr",
     "output_type": "stream",
     "text": [
      "/home/ec2-user/anaconda3/envs/hba-gan-gpu-tf14/lib/python3.6/site-packages/keras/callbacks.py:122: UserWarning: Method on_batch_end() is slow compared to the batch update (0.104395). Check your callbacks.\n",
      "  % delta_t_median)\n"
     ]
    },
    {
     "name": "stdout",
     "output_type": "stream",
     "text": [
      " 703/6331 [==>...........................] - ETA: 28:45 - loss: 225.3100 - vae_r_loss: 166.1709 - vae_kl_loss: 59.1391"
     ]
    },
    {
     "name": "stderr",
     "output_type": "stream",
     "text": [
      "/home/ec2-user/anaconda3/envs/hba-gan-gpu-tf14/lib/python3.6/site-packages/keras/callbacks.py:122: UserWarning: Method on_batch_end() is slow compared to the batch update (0.106964). Check your callbacks.\n",
      "  % delta_t_median)\n"
     ]
    },
    {
     "name": "stdout",
     "output_type": "stream",
     "text": [
      " 706/6331 [==>...........................] - ETA: 28:44 - loss: 225.3392 - vae_r_loss: 166.1983 - vae_kl_loss: 59.1409"
     ]
    },
    {
     "name": "stderr",
     "output_type": "stream",
     "text": [
      "/home/ec2-user/anaconda3/envs/hba-gan-gpu-tf14/lib/python3.6/site-packages/keras/callbacks.py:122: UserWarning: Method on_batch_end() is slow compared to the batch update (0.112051). Check your callbacks.\n",
      "  % delta_t_median)\n"
     ]
    },
    {
     "name": "stdout",
     "output_type": "stream",
     "text": [
      "1181/6331 [====>.........................] - ETA: 26:19 - loss: 225.1502 - vae_r_loss: 166.0070 - vae_kl_loss: 59.1432"
     ]
    },
    {
     "name": "stderr",
     "output_type": "stream",
     "text": [
      "/home/ec2-user/anaconda3/envs/hba-gan-gpu-tf14/lib/python3.6/site-packages/keras/callbacks.py:122: UserWarning: Method on_batch_end() is slow compared to the batch update (0.101706). Check your callbacks.\n",
      "  % delta_t_median)\n"
     ]
    },
    {
     "name": "stdout",
     "output_type": "stream",
     "text": [
      "1183/6331 [====>.........................] - ETA: 26:18 - loss: 225.1469 - vae_r_loss: 166.0030 - vae_kl_loss: 59.1440"
     ]
    },
    {
     "name": "stderr",
     "output_type": "stream",
     "text": [
      "/home/ec2-user/anaconda3/envs/hba-gan-gpu-tf14/lib/python3.6/site-packages/keras/callbacks.py:122: UserWarning: Method on_batch_end() is slow compared to the batch update (0.104356). Check your callbacks.\n",
      "  % delta_t_median)\n"
     ]
    },
    {
     "name": "stdout",
     "output_type": "stream",
     "text": [
      "1279/6331 [=====>........................] - ETA: 25:49 - loss: 225.1492 - vae_r_loss: 166.0032 - vae_kl_loss: 59.1460"
     ]
    },
    {
     "name": "stderr",
     "output_type": "stream",
     "text": [
      "/home/ec2-user/anaconda3/envs/hba-gan-gpu-tf14/lib/python3.6/site-packages/keras/callbacks.py:122: UserWarning: Method on_batch_end() is slow compared to the batch update (0.101697). Check your callbacks.\n",
      "  % delta_t_median)\n"
     ]
    },
    {
     "name": "stdout",
     "output_type": "stream",
     "text": [
      "1282/6331 [=====>........................] - ETA: 25:48 - loss: 225.1339 - vae_r_loss: 165.9866 - vae_kl_loss: 59.1473"
     ]
    },
    {
     "name": "stderr",
     "output_type": "stream",
     "text": [
      "/home/ec2-user/anaconda3/envs/hba-gan-gpu-tf14/lib/python3.6/site-packages/keras/callbacks.py:122: UserWarning: Method on_batch_end() is slow compared to the batch update (0.101718). Check your callbacks.\n",
      "  % delta_t_median)\n"
     ]
    },
    {
     "name": "stdout",
     "output_type": "stream",
     "text": [
      "1294/6331 [=====>........................] - ETA: 25:44 - loss: 225.1256 - vae_r_loss: 165.9865 - vae_kl_loss: 59.1391"
     ]
    },
    {
     "name": "stderr",
     "output_type": "stream",
     "text": [
      "/home/ec2-user/anaconda3/envs/hba-gan-gpu-tf14/lib/python3.6/site-packages/keras/callbacks.py:122: UserWarning: Method on_batch_end() is slow compared to the batch update (0.107587). Check your callbacks.\n",
      "  % delta_t_median)\n"
     ]
    },
    {
     "name": "stdout",
     "output_type": "stream",
     "text": [
      "3263/6331 [==============>...............] - ETA: 15:40 - loss: 224.2402 - vae_r_loss: 165.1885 - vae_kl_loss: 59.0518"
     ]
    },
    {
     "name": "stderr",
     "output_type": "stream",
     "text": [
      "/home/ec2-user/anaconda3/envs/hba-gan-gpu-tf14/lib/python3.6/site-packages/keras/callbacks.py:122: UserWarning: Method on_batch_end() is slow compared to the batch update (0.102508). Check your callbacks.\n",
      "  % delta_t_median)\n"
     ]
    },
    {
     "name": "stdout",
     "output_type": "stream",
     "text": [
      "4520/6331 [====================>.........] - ETA: 9:15 - loss: 224.0112 - vae_r_loss: 164.9656 - vae_kl_loss: 59.0455"
     ]
    },
    {
     "name": "stderr",
     "output_type": "stream",
     "text": [
      "/home/ec2-user/anaconda3/envs/hba-gan-gpu-tf14/lib/python3.6/site-packages/keras/callbacks.py:122: UserWarning: Method on_batch_end() is slow compared to the batch update (0.109084). Check your callbacks.\n",
      "  % delta_t_median)\n"
     ]
    },
    {
     "name": "stdout",
     "output_type": "stream",
     "text": [
      "4923/6331 [======================>.......] - ETA: 7:11 - loss: 223.9154 - vae_r_loss: 164.8654 - vae_kl_loss: 59.0499"
     ]
    },
    {
     "name": "stderr",
     "output_type": "stream",
     "text": [
      "/home/ec2-user/anaconda3/envs/hba-gan-gpu-tf14/lib/python3.6/site-packages/keras/callbacks.py:122: UserWarning: Method on_batch_end() is slow compared to the batch update (0.101608). Check your callbacks.\n",
      "  % delta_t_median)\n"
     ]
    },
    {
     "name": "stdout",
     "output_type": "stream",
     "text": [
      "4925/6331 [======================>.......] - ETA: 7:11 - loss: 223.9131 - vae_r_loss: 164.8631 - vae_kl_loss: 59.0500"
     ]
    },
    {
     "name": "stderr",
     "output_type": "stream",
     "text": [
      "/home/ec2-user/anaconda3/envs/hba-gan-gpu-tf14/lib/python3.6/site-packages/keras/callbacks.py:122: UserWarning: Method on_batch_end() is slow compared to the batch update (0.105759). Check your callbacks.\n",
      "  % delta_t_median)\n"
     ]
    },
    {
     "name": "stdout",
     "output_type": "stream",
     "text": [
      "4927/6331 [======================>.......] - ETA: 7:10 - loss: 223.9184 - vae_r_loss: 164.8676 - vae_kl_loss: 59.0508"
     ]
    },
    {
     "name": "stderr",
     "output_type": "stream",
     "text": [
      "/home/ec2-user/anaconda3/envs/hba-gan-gpu-tf14/lib/python3.6/site-packages/keras/callbacks.py:122: UserWarning: Method on_batch_end() is slow compared to the batch update (0.101967). Check your callbacks.\n",
      "  % delta_t_median)\n"
     ]
    },
    {
     "name": "stdout",
     "output_type": "stream",
     "text": [
      "6053/6331 [===========================>..] - ETA: 1:25 - loss: 223.8721 - vae_r_loss: 164.8209 - vae_kl_loss: 59.0511"
     ]
    },
    {
     "name": "stderr",
     "output_type": "stream",
     "text": [
      "/home/ec2-user/anaconda3/envs/hba-gan-gpu-tf14/lib/python3.6/site-packages/keras/callbacks.py:122: UserWarning: Method on_batch_end() is slow compared to the batch update (0.106933). Check your callbacks.\n",
      "  % delta_t_median)\n"
     ]
    },
    {
     "name": "stdout",
     "output_type": "stream",
     "text": [
      "6057/6331 [===========================>..] - ETA: 1:24 - loss: 223.8695 - vae_r_loss: 164.8194 - vae_kl_loss: 59.0501"
     ]
    },
    {
     "name": "stderr",
     "output_type": "stream",
     "text": [
      "/home/ec2-user/anaconda3/envs/hba-gan-gpu-tf14/lib/python3.6/site-packages/keras/callbacks.py:122: UserWarning: Method on_batch_end() is slow compared to the batch update (0.106848). Check your callbacks.\n",
      "  % delta_t_median)\n"
     ]
    },
    {
     "name": "stdout",
     "output_type": "stream",
     "text": [
      "6069/6331 [===========================>..] - ETA: 1:20 - loss: 223.8693 - vae_r_loss: 164.8198 - vae_kl_loss: 59.0495"
     ]
    },
    {
     "name": "stderr",
     "output_type": "stream",
     "text": [
      "/home/ec2-user/anaconda3/envs/hba-gan-gpu-tf14/lib/python3.6/site-packages/keras/callbacks.py:122: UserWarning: Method on_batch_end() is slow compared to the batch update (0.101775). Check your callbacks.\n",
      "  % delta_t_median)\n"
     ]
    },
    {
     "name": "stdout",
     "output_type": "stream",
     "text": [
      "6080/6331 [===========================>..] - ETA: 1:17 - loss: 223.8671 - vae_r_loss: 164.8165 - vae_kl_loss: 59.0506"
     ]
    },
    {
     "name": "stderr",
     "output_type": "stream",
     "text": [
      "/home/ec2-user/anaconda3/envs/hba-gan-gpu-tf14/lib/python3.6/site-packages/keras/callbacks.py:122: UserWarning: Method on_batch_end() is slow compared to the batch update (0.104360). Check your callbacks.\n",
      "  % delta_t_median)\n"
     ]
    },
    {
     "name": "stdout",
     "output_type": "stream",
     "text": [
      "6083/6331 [===========================>..] - ETA: 1:16 - loss: 223.8670 - vae_r_loss: 164.8168 - vae_kl_loss: 59.0502"
     ]
    },
    {
     "name": "stderr",
     "output_type": "stream",
     "text": [
      "/home/ec2-user/anaconda3/envs/hba-gan-gpu-tf14/lib/python3.6/site-packages/keras/callbacks.py:122: UserWarning: Method on_batch_end() is slow compared to the batch update (0.101649). Check your callbacks.\n",
      "  % delta_t_median)\n"
     ]
    },
    {
     "name": "stdout",
     "output_type": "stream",
     "text": [
      "6085/6331 [===========================>..] - ETA: 1:15 - loss: 223.8654 - vae_r_loss: 164.8156 - vae_kl_loss: 59.0497"
     ]
    },
    {
     "name": "stderr",
     "output_type": "stream",
     "text": [
      "/home/ec2-user/anaconda3/envs/hba-gan-gpu-tf14/lib/python3.6/site-packages/keras/callbacks.py:122: UserWarning: Method on_batch_end() is slow compared to the batch update (0.111508). Check your callbacks.\n",
      "  % delta_t_median)\n"
     ]
    },
    {
     "name": "stdout",
     "output_type": "stream",
     "text": [
      "6332/6331 [==============================] - 1941s 307ms/step - loss: 223.8821 - vae_r_loss: 164.8380 - vae_kl_loss: 59.0441\n",
      "\n",
      "Epoch 00006: saving model to run/vae/0001_faces/weights/weights-006-223.88.h5\n",
      "\n",
      "Epoch 00006: saving model to run/vae/0001_faces/weights/weights.h5\n",
      "Epoch 7/200\n",
      "   2/6331 [..............................] - ETA: 24:15 - loss: 226.5927 - vae_r_loss: 167.3252 - vae_kl_loss: 59.2675"
     ]
    },
    {
     "name": "stderr",
     "output_type": "stream",
     "text": [
      "/home/ec2-user/anaconda3/envs/hba-gan-gpu-tf14/lib/python3.6/site-packages/keras/callbacks.py:122: UserWarning: Method on_batch_end() is slow compared to the batch update (0.162473). Check your callbacks.\n",
      "  % delta_t_median)\n"
     ]
    },
    {
     "name": "stdout",
     "output_type": "stream",
     "text": [
      "  69/6331 [..............................] - ETA: 31:34 - loss: 222.5016 - vae_r_loss: 163.9404 - vae_kl_loss: 58.5612"
     ]
    },
    {
     "name": "stderr",
     "output_type": "stream",
     "text": [
      "/home/ec2-user/anaconda3/envs/hba-gan-gpu-tf14/lib/python3.6/site-packages/keras/callbacks.py:122: UserWarning: Method on_batch_end() is slow compared to the batch update (0.115255). Check your callbacks.\n",
      "  % delta_t_median)\n",
      "/home/ec2-user/anaconda3/envs/hba-gan-gpu-tf14/lib/python3.6/site-packages/keras/callbacks.py:122: UserWarning: Method on_batch_end() is slow compared to the batch update (0.104688). Check your callbacks.\n",
      "  % delta_t_median)\n"
     ]
    },
    {
     "name": "stdout",
     "output_type": "stream",
     "text": [
      "  83/6331 [..............................] - ETA: 31:33 - loss: 222.4331 - vae_r_loss: 163.8285 - vae_kl_loss: 58.6047"
     ]
    },
    {
     "name": "stderr",
     "output_type": "stream",
     "text": [
      "/home/ec2-user/anaconda3/envs/hba-gan-gpu-tf14/lib/python3.6/site-packages/keras/callbacks.py:122: UserWarning: Method on_batch_end() is slow compared to the batch update (0.101969). Check your callbacks.\n",
      "  % delta_t_median)\n"
     ]
    },
    {
     "name": "stdout",
     "output_type": "stream",
     "text": [
      "1438/6331 [=====>........................] - ETA: 24:50 - loss: 223.3160 - vae_r_loss: 164.2750 - vae_kl_loss: 59.0410"
     ]
    },
    {
     "name": "stderr",
     "output_type": "stream",
     "text": [
      "/home/ec2-user/anaconda3/envs/hba-gan-gpu-tf14/lib/python3.6/site-packages/keras/callbacks.py:122: UserWarning: Method on_batch_end() is slow compared to the batch update (0.102524). Check your callbacks.\n",
      "  % delta_t_median)\n"
     ]
    },
    {
     "name": "stdout",
     "output_type": "stream",
     "text": [
      "1630/6331 [======>.......................] - ETA: 23:51 - loss: 223.2490 - vae_r_loss: 164.2101 - vae_kl_loss: 59.0388"
     ]
    },
    {
     "name": "stderr",
     "output_type": "stream",
     "text": [
      "/home/ec2-user/anaconda3/envs/hba-gan-gpu-tf14/lib/python3.6/site-packages/keras/callbacks.py:122: UserWarning: Method on_batch_end() is slow compared to the batch update (0.102467). Check your callbacks.\n",
      "  % delta_t_median)\n"
     ]
    },
    {
     "name": "stdout",
     "output_type": "stream",
     "text": [
      "1632/6331 [======>.......................] - ETA: 23:51 - loss: 223.2212 - vae_r_loss: 164.1874 - vae_kl_loss: 59.0338"
     ]
    },
    {
     "name": "stderr",
     "output_type": "stream",
     "text": [
      "/home/ec2-user/anaconda3/envs/hba-gan-gpu-tf14/lib/python3.6/site-packages/keras/callbacks.py:122: UserWarning: Method on_batch_end() is slow compared to the batch update (0.104408). Check your callbacks.\n",
      "  % delta_t_median)\n"
     ]
    },
    {
     "name": "stdout",
     "output_type": "stream",
     "text": [
      "1688/6331 [======>.......................] - ETA: 23:34 - loss: 223.2201 - vae_r_loss: 164.1882 - vae_kl_loss: 59.0319"
     ]
    },
    {
     "name": "stderr",
     "output_type": "stream",
     "text": [
      "/home/ec2-user/anaconda3/envs/hba-gan-gpu-tf14/lib/python3.6/site-packages/keras/callbacks.py:122: UserWarning: Method on_batch_end() is slow compared to the batch update (0.106877). Check your callbacks.\n",
      "  % delta_t_median)\n"
     ]
    },
    {
     "name": "stdout",
     "output_type": "stream",
     "text": [
      "1691/6331 [=======>......................] - ETA: 23:33 - loss: 223.2195 - vae_r_loss: 164.1845 - vae_kl_loss: 59.0350"
     ]
    },
    {
     "name": "stderr",
     "output_type": "stream",
     "text": [
      "/home/ec2-user/anaconda3/envs/hba-gan-gpu-tf14/lib/python3.6/site-packages/keras/callbacks.py:122: UserWarning: Method on_batch_end() is slow compared to the batch update (0.104455). Check your callbacks.\n",
      "  % delta_t_median)\n"
     ]
    },
    {
     "name": "stdout",
     "output_type": "stream",
     "text": [
      "6332/6331 [==============================] - 1936s 306ms/step - loss: 223.2082 - vae_r_loss: 164.1813 - vae_kl_loss: 59.0269\n",
      "\n",
      "Epoch 00007: saving model to run/vae/0001_faces/weights/weights-007-223.20.h5\n",
      "\n",
      "Epoch 00007: saving model to run/vae/0001_faces/weights/weights.h5\n",
      "Epoch 8/200\n",
      "   2/6331 [..............................] - ETA: 23:59 - loss: 225.1355 - vae_r_loss: 166.2685 - vae_kl_loss: 58.8670"
     ]
    },
    {
     "name": "stderr",
     "output_type": "stream",
     "text": [
      "/home/ec2-user/anaconda3/envs/hba-gan-gpu-tf14/lib/python3.6/site-packages/keras/callbacks.py:122: UserWarning: Method on_batch_end() is slow compared to the batch update (0.135494). Check your callbacks.\n",
      "  % delta_t_median)\n"
     ]
    },
    {
     "name": "stdout",
     "output_type": "stream",
     "text": [
      "1826/6331 [=======>......................] - ETA: 22:59 - loss: 222.9900 - vae_r_loss: 163.8981 - vae_kl_loss: 59.0920"
     ]
    },
    {
     "name": "stderr",
     "output_type": "stream",
     "text": [
      "/home/ec2-user/anaconda3/envs/hba-gan-gpu-tf14/lib/python3.6/site-packages/keras/callbacks.py:122: UserWarning: Method on_batch_end() is slow compared to the batch update (0.105294). Check your callbacks.\n",
      "  % delta_t_median)\n"
     ]
    },
    {
     "name": "stdout",
     "output_type": "stream",
     "text": [
      "1828/6331 [=======>......................] - ETA: 22:59 - loss: 222.9916 - vae_r_loss: 163.9014 - vae_kl_loss: 59.0902"
     ]
    },
    {
     "name": "stderr",
     "output_type": "stream",
     "text": [
      "/home/ec2-user/anaconda3/envs/hba-gan-gpu-tf14/lib/python3.6/site-packages/keras/callbacks.py:122: UserWarning: Method on_batch_end() is slow compared to the batch update (0.107448). Check your callbacks.\n",
      "  % delta_t_median)\n"
     ]
    },
    {
     "name": "stdout",
     "output_type": "stream",
     "text": [
      "4447/6331 [====================>.........] - ETA: 9:35 - loss: 222.5327 - vae_r_loss: 163.5292 - vae_kl_loss: 59.0034"
     ]
    },
    {
     "name": "stderr",
     "output_type": "stream",
     "text": [
      "/home/ec2-user/anaconda3/envs/hba-gan-gpu-tf14/lib/python3.6/site-packages/keras/callbacks.py:122: UserWarning: Method on_batch_end() is slow compared to the batch update (0.100706). Check your callbacks.\n",
      "  % delta_t_median)\n"
     ]
    },
    {
     "name": "stdout",
     "output_type": "stream",
     "text": [
      "5914/6331 [===========================>..] - ETA: 2:07 - loss: 222.4949 - vae_r_loss: 163.4736 - vae_kl_loss: 59.0214"
     ]
    },
    {
     "name": "stderr",
     "output_type": "stream",
     "text": [
      "/home/ec2-user/anaconda3/envs/hba-gan-gpu-tf14/lib/python3.6/site-packages/keras/callbacks.py:122: UserWarning: Method on_batch_end() is slow compared to the batch update (0.109477). Check your callbacks.\n",
      "  % delta_t_median)\n"
     ]
    },
    {
     "name": "stdout",
     "output_type": "stream",
     "text": [
      "5920/6331 [===========================>..] - ETA: 2:05 - loss: 222.4928 - vae_r_loss: 163.4724 - vae_kl_loss: 59.0204"
     ]
    },
    {
     "name": "stderr",
     "output_type": "stream",
     "text": [
      "/home/ec2-user/anaconda3/envs/hba-gan-gpu-tf14/lib/python3.6/site-packages/keras/callbacks.py:122: UserWarning: Method on_batch_end() is slow compared to the batch update (0.102316). Check your callbacks.\n",
      "  % delta_t_median)\n"
     ]
    },
    {
     "name": "stdout",
     "output_type": "stream",
     "text": [
      "6332/6331 [==============================] - 1935s 306ms/step - loss: 222.4419 - vae_r_loss: 163.4336 - vae_kl_loss: 59.0083\n",
      "\n",
      "Epoch 00008: saving model to run/vae/0001_faces/weights/weights-008-222.44.h5\n",
      "\n",
      "Epoch 00008: saving model to run/vae/0001_faces/weights/weights.h5\n",
      "Epoch 9/200\n",
      "   2/6331 [..............................] - ETA: 24:16 - loss: 220.2412 - vae_r_loss: 161.2275 - vae_kl_loss: 59.0136"
     ]
    },
    {
     "name": "stderr",
     "output_type": "stream",
     "text": [
      "/home/ec2-user/anaconda3/envs/hba-gan-gpu-tf14/lib/python3.6/site-packages/keras/callbacks.py:122: UserWarning: Method on_batch_end() is slow compared to the batch update (0.152336). Check your callbacks.\n",
      "  % delta_t_median)\n"
     ]
    },
    {
     "name": "stdout",
     "output_type": "stream",
     "text": [
      " 102/6331 [..............................] - ETA: 31:32 - loss: 222.5418 - vae_r_loss: 163.5092 - vae_kl_loss: 59.0326"
     ]
    },
    {
     "name": "stderr",
     "output_type": "stream",
     "text": [
      "/home/ec2-user/anaconda3/envs/hba-gan-gpu-tf14/lib/python3.6/site-packages/keras/callbacks.py:122: UserWarning: Method on_batch_end() is slow compared to the batch update (0.101692). Check your callbacks.\n",
      "  % delta_t_median)\n"
     ]
    },
    {
     "name": "stdout",
     "output_type": "stream",
     "text": [
      " 105/6331 [..............................] - ETA: 31:32 - loss: 222.6422 - vae_r_loss: 163.6129 - vae_kl_loss: 59.0294"
     ]
    },
    {
     "name": "stderr",
     "output_type": "stream",
     "text": [
      "/home/ec2-user/anaconda3/envs/hba-gan-gpu-tf14/lib/python3.6/site-packages/keras/callbacks.py:122: UserWarning: Method on_batch_end() is slow compared to the batch update (0.112076). Check your callbacks.\n",
      "  % delta_t_median)\n"
     ]
    },
    {
     "name": "stdout",
     "output_type": "stream",
     "text": [
      " 107/6331 [..............................] - ETA: 31:32 - loss: 222.4559 - vae_r_loss: 163.4797 - vae_kl_loss: 58.9762"
     ]
    },
    {
     "name": "stderr",
     "output_type": "stream",
     "text": [
      "/home/ec2-user/anaconda3/envs/hba-gan-gpu-tf14/lib/python3.6/site-packages/keras/callbacks.py:122: UserWarning: Method on_batch_end() is slow compared to the batch update (0.119759). Check your callbacks.\n",
      "  % delta_t_median)\n"
     ]
    },
    {
     "name": "stdout",
     "output_type": "stream",
     "text": [
      " 110/6331 [..............................] - ETA: 31:32 - loss: 222.7096 - vae_r_loss: 163.7224 - vae_kl_loss: 58.9872"
     ]
    },
    {
     "name": "stderr",
     "output_type": "stream",
     "text": [
      "/home/ec2-user/anaconda3/envs/hba-gan-gpu-tf14/lib/python3.6/site-packages/keras/callbacks.py:122: UserWarning: Method on_batch_end() is slow compared to the batch update (0.116169). Check your callbacks.\n",
      "  % delta_t_median)\n"
     ]
    },
    {
     "name": "stdout",
     "output_type": "stream",
     "text": [
      " 111/6331 [..............................] - ETA: 31:32 - loss: 222.6271 - vae_r_loss: 163.6724 - vae_kl_loss: 58.9547"
     ]
    },
    {
     "name": "stderr",
     "output_type": "stream",
     "text": [
      "/home/ec2-user/anaconda3/envs/hba-gan-gpu-tf14/lib/python3.6/site-packages/keras/callbacks.py:122: UserWarning: Method on_batch_end() is slow compared to the batch update (0.108408). Check your callbacks.\n",
      "  % delta_t_median)\n"
     ]
    },
    {
     "name": "stdout",
     "output_type": "stream",
     "text": [
      " 116/6331 [..............................] - ETA: 31:31 - loss: 222.8347 - vae_r_loss: 163.7920 - vae_kl_loss: 59.0426"
     ]
    },
    {
     "name": "stderr",
     "output_type": "stream",
     "text": [
      "/home/ec2-user/anaconda3/envs/hba-gan-gpu-tf14/lib/python3.6/site-packages/keras/callbacks.py:122: UserWarning: Method on_batch_end() is slow compared to the batch update (0.100857). Check your callbacks.\n",
      "  % delta_t_median)\n"
     ]
    },
    {
     "name": "stdout",
     "output_type": "stream",
     "text": [
      " 123/6331 [..............................] - ETA: 31:30 - loss: 222.8309 - vae_r_loss: 163.7634 - vae_kl_loss: 59.0675"
     ]
    },
    {
     "name": "stderr",
     "output_type": "stream",
     "text": [
      "/home/ec2-user/anaconda3/envs/hba-gan-gpu-tf14/lib/python3.6/site-packages/keras/callbacks.py:122: UserWarning: Method on_batch_end() is slow compared to the batch update (0.102892). Check your callbacks.\n",
      "  % delta_t_median)\n"
     ]
    },
    {
     "name": "stdout",
     "output_type": "stream",
     "text": [
      " 128/6331 [..............................] - ETA: 31:29 - loss: 222.4673 - vae_r_loss: 163.3665 - vae_kl_loss: 59.1008"
     ]
    },
    {
     "name": "stderr",
     "output_type": "stream",
     "text": [
      "/home/ec2-user/anaconda3/envs/hba-gan-gpu-tf14/lib/python3.6/site-packages/keras/callbacks.py:122: UserWarning: Method on_batch_end() is slow compared to the batch update (0.108655). Check your callbacks.\n",
      "  % delta_t_median)\n"
     ]
    },
    {
     "name": "stdout",
     "output_type": "stream",
     "text": [
      "2489/6331 [==========>...................] - ETA: 19:35 - loss: 222.3729 - vae_r_loss: 163.2729 - vae_kl_loss: 59.1001"
     ]
    },
    {
     "name": "stderr",
     "output_type": "stream",
     "text": [
      "/home/ec2-user/anaconda3/envs/hba-gan-gpu-tf14/lib/python3.6/site-packages/keras/callbacks.py:122: UserWarning: Method on_batch_end() is slow compared to the batch update (0.100011). Check your callbacks.\n",
      "  % delta_t_median)\n"
     ]
    },
    {
     "name": "stdout",
     "output_type": "stream",
     "text": [
      "4182/6331 [==================>...........] - ETA: 10:57 - loss: 222.3131 - vae_r_loss: 163.2504 - vae_kl_loss: 59.0627"
     ]
    },
    {
     "name": "stderr",
     "output_type": "stream",
     "text": [
      "/home/ec2-user/anaconda3/envs/hba-gan-gpu-tf14/lib/python3.6/site-packages/keras/callbacks.py:122: UserWarning: Method on_batch_end() is slow compared to the batch update (0.109614). Check your callbacks.\n",
      "  % delta_t_median)\n"
     ]
    },
    {
     "name": "stdout",
     "output_type": "stream",
     "text": [
      "4805/6331 [=====================>........] - ETA: 7:47 - loss: 222.2705 - vae_r_loss: 163.2132 - vae_kl_loss: 59.0572"
     ]
    },
    {
     "name": "stderr",
     "output_type": "stream",
     "text": [
      "/home/ec2-user/anaconda3/envs/hba-gan-gpu-tf14/lib/python3.6/site-packages/keras/callbacks.py:122: UserWarning: Method on_batch_end() is slow compared to the batch update (0.107055). Check your callbacks.\n",
      "  % delta_t_median)\n"
     ]
    },
    {
     "name": "stdout",
     "output_type": "stream",
     "text": [
      "4808/6331 [=====================>........] - ETA: 7:46 - loss: 222.2740 - vae_r_loss: 163.2175 - vae_kl_loss: 59.0564"
     ]
    },
    {
     "name": "stderr",
     "output_type": "stream",
     "text": [
      "/home/ec2-user/anaconda3/envs/hba-gan-gpu-tf14/lib/python3.6/site-packages/keras/callbacks.py:122: UserWarning: Method on_batch_end() is slow compared to the batch update (0.112166). Check your callbacks.\n",
      "  % delta_t_median)\n"
     ]
    },
    {
     "name": "stdout",
     "output_type": "stream",
     "text": [
      "6332/6331 [==============================] - 1939s 306ms/step - loss: 222.0260 - vae_r_loss: 163.0137 - vae_kl_loss: 59.0124\n",
      "\n",
      "Epoch 00009: saving model to run/vae/0001_faces/weights/weights-009-222.02.h5\n",
      "\n",
      "Epoch 00009: saving model to run/vae/0001_faces/weights/weights.h5\n",
      "Epoch 10/200\n",
      "   2/6331 [..............................] - ETA: 24:21 - loss: 225.8497 - vae_r_loss: 166.7397 - vae_kl_loss: 59.1100"
     ]
    },
    {
     "name": "stderr",
     "output_type": "stream",
     "text": [
      "/home/ec2-user/anaconda3/envs/hba-gan-gpu-tf14/lib/python3.6/site-packages/keras/callbacks.py:122: UserWarning: Method on_batch_end() is slow compared to the batch update (0.137897). Check your callbacks.\n",
      "  % delta_t_median)\n"
     ]
    },
    {
     "name": "stdout",
     "output_type": "stream",
     "text": [
      "2686/6331 [===========>..................] - ETA: 18:37 - loss: 221.7898 - vae_r_loss: 162.7871 - vae_kl_loss: 59.0026"
     ]
    },
    {
     "name": "stderr",
     "output_type": "stream",
     "text": [
      "/home/ec2-user/anaconda3/envs/hba-gan-gpu-tf14/lib/python3.6/site-packages/keras/callbacks.py:122: UserWarning: Method on_batch_end() is slow compared to the batch update (0.101786). Check your callbacks.\n",
      "  % delta_t_median)\n"
     ]
    },
    {
     "name": "stdout",
     "output_type": "stream",
     "text": [
      "3424/6331 [===============>..............] - ETA: 14:51 - loss: 221.7575 - vae_r_loss: 162.7567 - vae_kl_loss: 59.0008"
     ]
    },
    {
     "name": "stderr",
     "output_type": "stream",
     "text": [
      "/home/ec2-user/anaconda3/envs/hba-gan-gpu-tf14/lib/python3.6/site-packages/keras/callbacks.py:122: UserWarning: Method on_batch_end() is slow compared to the batch update (0.101925). Check your callbacks.\n",
      "  % delta_t_median)\n"
     ]
    },
    {
     "name": "stdout",
     "output_type": "stream",
     "text": [
      "3428/6331 [===============>..............] - ETA: 14:50 - loss: 221.7562 - vae_r_loss: 162.7566 - vae_kl_loss: 58.9996"
     ]
    },
    {
     "name": "stderr",
     "output_type": "stream",
     "text": [
      "/home/ec2-user/anaconda3/envs/hba-gan-gpu-tf14/lib/python3.6/site-packages/keras/callbacks.py:122: UserWarning: Method on_batch_end() is slow compared to the batch update (0.101965). Check your callbacks.\n",
      "  % delta_t_median)\n"
     ]
    },
    {
     "name": "stdout",
     "output_type": "stream",
     "text": [
      "6332/6331 [==============================] - 1941s 307ms/step - loss: 221.6514 - vae_r_loss: 162.6772 - vae_kl_loss: 58.9742\n",
      "\n",
      "Epoch 00010: saving model to run/vae/0001_faces/weights/weights-010-221.65.h5\n",
      "\n",
      "Epoch 00010: saving model to run/vae/0001_faces/weights/weights.h5\n",
      "Epoch 11/200\n",
      "   2/6331 [..............................] - ETA: 25:17 - loss: 215.0140 - vae_r_loss: 154.5688 - vae_kl_loss: 60.4452"
     ]
    },
    {
     "name": "stderr",
     "output_type": "stream",
     "text": [
      "/home/ec2-user/anaconda3/envs/hba-gan-gpu-tf14/lib/python3.6/site-packages/keras/callbacks.py:122: UserWarning: Method on_batch_end() is slow compared to the batch update (0.141892). Check your callbacks.\n",
      "  % delta_t_median)\n"
     ]
    },
    {
     "name": "stdout",
     "output_type": "stream",
     "text": [
      "3784/6331 [================>.............] - ETA: 13:00 - loss: 221.4464 - vae_r_loss: 162.4133 - vae_kl_loss: 59.0331"
     ]
    },
    {
     "name": "stderr",
     "output_type": "stream",
     "text": [
      "/home/ec2-user/anaconda3/envs/hba-gan-gpu-tf14/lib/python3.6/site-packages/keras/callbacks.py:122: UserWarning: Method on_batch_end() is slow compared to the batch update (0.101749). Check your callbacks.\n",
      "  % delta_t_median)\n"
     ]
    },
    {
     "name": "stdout",
     "output_type": "stream",
     "text": [
      "5954/6331 [===========================>..] - ETA: 1:55 - loss: 221.3752 - vae_r_loss: 162.3839 - vae_kl_loss: 58.9913"
     ]
    },
    {
     "name": "stderr",
     "output_type": "stream",
     "text": [
      "/home/ec2-user/anaconda3/envs/hba-gan-gpu-tf14/lib/python3.6/site-packages/keras/callbacks.py:122: UserWarning: Method on_batch_end() is slow compared to the batch update (0.101869). Check your callbacks.\n",
      "  % delta_t_median)\n"
     ]
    },
    {
     "name": "stdout",
     "output_type": "stream",
     "text": [
      "6332/6331 [==============================] - 1940s 306ms/step - loss: 221.3636 - vae_r_loss: 162.3708 - vae_kl_loss: 58.9929\n",
      "\n",
      "Epoch 00011: saving model to run/vae/0001_faces/weights/weights-011-221.37.h5\n",
      "\n",
      "Epoch 00011: saving model to run/vae/0001_faces/weights/weights.h5\n",
      "Epoch 12/200\n",
      "   2/6331 [..............................] - ETA: 24:06 - loss: 216.0462 - vae_r_loss: 156.3120 - vae_kl_loss: 59.7342"
     ]
    },
    {
     "name": "stderr",
     "output_type": "stream",
     "text": [
      "/home/ec2-user/anaconda3/envs/hba-gan-gpu-tf14/lib/python3.6/site-packages/keras/callbacks.py:122: UserWarning: Method on_batch_end() is slow compared to the batch update (0.161570). Check your callbacks.\n",
      "  % delta_t_median)\n"
     ]
    },
    {
     "name": "stdout",
     "output_type": "stream",
     "text": [
      " 375/6331 [>.............................] - ETA: 30:20 - loss: 220.9241 - vae_r_loss: 161.9694 - vae_kl_loss: 58.9548"
     ]
    },
    {
     "name": "stderr",
     "output_type": "stream",
     "text": [
      "/home/ec2-user/anaconda3/envs/hba-gan-gpu-tf14/lib/python3.6/site-packages/keras/callbacks.py:122: UserWarning: Method on_batch_end() is slow compared to the batch update (0.107198). Check your callbacks.\n",
      "  % delta_t_median)\n"
     ]
    },
    {
     "name": "stdout",
     "output_type": "stream",
     "text": [
      " 380/6331 [>.............................] - ETA: 30:18 - loss: 220.7652 - vae_r_loss: 161.8260 - vae_kl_loss: 58.9391"
     ]
    },
    {
     "name": "stderr",
     "output_type": "stream",
     "text": [
      "/home/ec2-user/anaconda3/envs/hba-gan-gpu-tf14/lib/python3.6/site-packages/keras/callbacks.py:122: UserWarning: Method on_batch_end() is slow compared to the batch update (0.104308). Check your callbacks.\n",
      "  % delta_t_median)\n"
     ]
    },
    {
     "name": "stdout",
     "output_type": "stream",
     "text": [
      " 388/6331 [>.............................] - ETA: 30:16 - loss: 220.8634 - vae_r_loss: 161.8908 - vae_kl_loss: 58.9726"
     ]
    },
    {
     "name": "stderr",
     "output_type": "stream",
     "text": [
      "/home/ec2-user/anaconda3/envs/hba-gan-gpu-tf14/lib/python3.6/site-packages/keras/callbacks.py:122: UserWarning: Method on_batch_end() is slow compared to the batch update (0.101756). Check your callbacks.\n",
      "  % delta_t_median)\n"
     ]
    },
    {
     "name": "stdout",
     "output_type": "stream",
     "text": [
      " 389/6331 [>.............................] - ETA: 30:16 - loss: 220.9028 - vae_r_loss: 161.9205 - vae_kl_loss: 58.9822"
     ]
    },
    {
     "name": "stderr",
     "output_type": "stream",
     "text": [
      "/home/ec2-user/anaconda3/envs/hba-gan-gpu-tf14/lib/python3.6/site-packages/keras/callbacks.py:122: UserWarning: Method on_batch_end() is slow compared to the batch update (0.101755). Check your callbacks.\n",
      "  % delta_t_median)\n"
     ]
    },
    {
     "name": "stdout",
     "output_type": "stream",
     "text": [
      " 392/6331 [>.............................] - ETA: 30:15 - loss: 220.8684 - vae_r_loss: 161.8982 - vae_kl_loss: 58.9701"
     ]
    },
    {
     "name": "stderr",
     "output_type": "stream",
     "text": [
      "/home/ec2-user/anaconda3/envs/hba-gan-gpu-tf14/lib/python3.6/site-packages/keras/callbacks.py:122: UserWarning: Method on_batch_end() is slow compared to the batch update (0.102069). Check your callbacks.\n",
      "  % delta_t_median)\n"
     ]
    },
    {
     "name": "stdout",
     "output_type": "stream",
     "text": [
      " 403/6331 [>.............................] - ETA: 30:11 - loss: 220.8047 - vae_r_loss: 161.8511 - vae_kl_loss: 58.9536"
     ]
    },
    {
     "name": "stderr",
     "output_type": "stream",
     "text": [
      "/home/ec2-user/anaconda3/envs/hba-gan-gpu-tf14/lib/python3.6/site-packages/keras/callbacks.py:122: UserWarning: Method on_batch_end() is slow compared to the batch update (0.104965). Check your callbacks.\n",
      "  % delta_t_median)\n"
     ]
    },
    {
     "name": "stdout",
     "output_type": "stream",
     "text": [
      " 431/6331 [=>............................] - ETA: 30:03 - loss: 220.9555 - vae_r_loss: 161.9320 - vae_kl_loss: 59.0235"
     ]
    },
    {
     "name": "stderr",
     "output_type": "stream",
     "text": [
      "/home/ec2-user/anaconda3/envs/hba-gan-gpu-tf14/lib/python3.6/site-packages/keras/callbacks.py:122: UserWarning: Method on_batch_end() is slow compared to the batch update (0.104561). Check your callbacks.\n",
      "  % delta_t_median)\n"
     ]
    },
    {
     "name": "stdout",
     "output_type": "stream",
     "text": [
      "2784/6331 [============>.................] - ETA: 18:07 - loss: 221.1696 - vae_r_loss: 162.2434 - vae_kl_loss: 58.9263"
     ]
    },
    {
     "name": "stderr",
     "output_type": "stream",
     "text": [
      "/home/ec2-user/anaconda3/envs/hba-gan-gpu-tf14/lib/python3.6/site-packages/keras/callbacks.py:122: UserWarning: Method on_batch_end() is slow compared to the batch update (0.100472). Check your callbacks.\n",
      "  % delta_t_median)\n"
     ]
    },
    {
     "name": "stdout",
     "output_type": "stream",
     "text": [
      "2804/6331 [============>.................] - ETA: 18:01 - loss: 221.1671 - vae_r_loss: 162.2393 - vae_kl_loss: 58.9278"
     ]
    },
    {
     "name": "stderr",
     "output_type": "stream",
     "text": [
      "/home/ec2-user/anaconda3/envs/hba-gan-gpu-tf14/lib/python3.6/site-packages/keras/callbacks.py:122: UserWarning: Method on_batch_end() is slow compared to the batch update (0.102360). Check your callbacks.\n",
      "  % delta_t_median)\n"
     ]
    },
    {
     "name": "stdout",
     "output_type": "stream",
     "text": [
      "2809/6331 [============>.................] - ETA: 18:00 - loss: 221.1655 - vae_r_loss: 162.2376 - vae_kl_loss: 58.9279"
     ]
    },
    {
     "name": "stderr",
     "output_type": "stream",
     "text": [
      "/home/ec2-user/anaconda3/envs/hba-gan-gpu-tf14/lib/python3.6/site-packages/keras/callbacks.py:122: UserWarning: Method on_batch_end() is slow compared to the batch update (0.101789). Check your callbacks.\n",
      "  % delta_t_median)\n"
     ]
    },
    {
     "name": "stdout",
     "output_type": "stream",
     "text": [
      "4225/6331 [===================>..........] - ETA: 10:46 - loss: 221.2187 - vae_r_loss: 162.2309 - vae_kl_loss: 58.9878"
     ]
    },
    {
     "name": "stderr",
     "output_type": "stream",
     "text": [
      "/home/ec2-user/anaconda3/envs/hba-gan-gpu-tf14/lib/python3.6/site-packages/keras/callbacks.py:122: UserWarning: Method on_batch_end() is slow compared to the batch update (0.101700). Check your callbacks.\n",
      "  % delta_t_median)\n"
     ]
    },
    {
     "name": "stdout",
     "output_type": "stream",
     "text": [
      "4228/6331 [===================>..........] - ETA: 10:45 - loss: 221.2244 - vae_r_loss: 162.2361 - vae_kl_loss: 58.9882"
     ]
    },
    {
     "name": "stderr",
     "output_type": "stream",
     "text": [
      "/home/ec2-user/anaconda3/envs/hba-gan-gpu-tf14/lib/python3.6/site-packages/keras/callbacks.py:122: UserWarning: Method on_batch_end() is slow compared to the batch update (0.104925). Check your callbacks.\n",
      "  % delta_t_median)\n"
     ]
    },
    {
     "name": "stdout",
     "output_type": "stream",
     "text": [
      "4261/6331 [===================>..........] - ETA: 10:35 - loss: 221.2248 - vae_r_loss: 162.2362 - vae_kl_loss: 58.9886"
     ]
    },
    {
     "name": "stderr",
     "output_type": "stream",
     "text": [
      "/home/ec2-user/anaconda3/envs/hba-gan-gpu-tf14/lib/python3.6/site-packages/keras/callbacks.py:122: UserWarning: Method on_batch_end() is slow compared to the batch update (0.101314). Check your callbacks.\n",
      "  % delta_t_median)\n"
     ]
    },
    {
     "name": "stdout",
     "output_type": "stream",
     "text": [
      "4264/6331 [===================>..........] - ETA: 10:34 - loss: 221.2232 - vae_r_loss: 162.2352 - vae_kl_loss: 58.9880"
     ]
    },
    {
     "name": "stderr",
     "output_type": "stream",
     "text": [
      "/home/ec2-user/anaconda3/envs/hba-gan-gpu-tf14/lib/python3.6/site-packages/keras/callbacks.py:122: UserWarning: Method on_batch_end() is slow compared to the batch update (0.103862). Check your callbacks.\n",
      "  % delta_t_median)\n"
     ]
    },
    {
     "name": "stdout",
     "output_type": "stream",
     "text": [
      "4285/6331 [===================>..........] - ETA: 10:27 - loss: 221.2168 - vae_r_loss: 162.2288 - vae_kl_loss: 58.9880"
     ]
    },
    {
     "name": "stderr",
     "output_type": "stream",
     "text": [
      "/home/ec2-user/anaconda3/envs/hba-gan-gpu-tf14/lib/python3.6/site-packages/keras/callbacks.py:122: UserWarning: Method on_batch_end() is slow compared to the batch update (0.101894). Check your callbacks.\n",
      "  % delta_t_median)\n"
     ]
    },
    {
     "name": "stdout",
     "output_type": "stream",
     "text": [
      "4288/6331 [===================>..........] - ETA: 10:26 - loss: 221.2095 - vae_r_loss: 162.2206 - vae_kl_loss: 58.9890"
     ]
    },
    {
     "name": "stderr",
     "output_type": "stream",
     "text": [
      "/home/ec2-user/anaconda3/envs/hba-gan-gpu-tf14/lib/python3.6/site-packages/keras/callbacks.py:122: UserWarning: Method on_batch_end() is slow compared to the batch update (0.104466). Check your callbacks.\n",
      "  % delta_t_median)\n"
     ]
    },
    {
     "name": "stdout",
     "output_type": "stream",
     "text": [
      "6332/6331 [==============================] - 1943s 307ms/step - loss: 221.0935 - vae_r_loss: 162.1254 - vae_kl_loss: 58.9681\n",
      "\n",
      "Epoch 00012: saving model to run/vae/0001_faces/weights/weights-012-221.09.h5\n",
      "\n",
      "Epoch 00012: saving model to run/vae/0001_faces/weights/weights.h5\n",
      "Epoch 13/200\n",
      "   2/6331 [..............................] - ETA: 23:51 - loss: 213.7017 - vae_r_loss: 154.7675 - vae_kl_loss: 58.9342"
     ]
    },
    {
     "name": "stderr",
     "output_type": "stream",
     "text": [
      "/home/ec2-user/anaconda3/envs/hba-gan-gpu-tf14/lib/python3.6/site-packages/keras/callbacks.py:122: UserWarning: Method on_batch_end() is slow compared to the batch update (0.135473). Check your callbacks.\n",
      "  % delta_t_median)\n"
     ]
    },
    {
     "name": "stdout",
     "output_type": "stream",
     "text": [
      " 877/6331 [===>..........................] - ETA: 27:52 - loss: 220.3666 - vae_r_loss: 161.5138 - vae_kl_loss: 58.8527"
     ]
    },
    {
     "name": "stderr",
     "output_type": "stream",
     "text": [
      "/home/ec2-user/anaconda3/envs/hba-gan-gpu-tf14/lib/python3.6/site-packages/keras/callbacks.py:122: UserWarning: Method on_batch_end() is slow compared to the batch update (0.104288). Check your callbacks.\n",
      "  % delta_t_median)\n"
     ]
    },
    {
     "name": "stdout",
     "output_type": "stream",
     "text": [
      "4734/6331 [=====================>........] - ETA: 8:08 - loss: 221.0287 - vae_r_loss: 162.0687 - vae_kl_loss: 58.9600"
     ]
    },
    {
     "name": "stderr",
     "output_type": "stream",
     "text": [
      "/home/ec2-user/anaconda3/envs/hba-gan-gpu-tf14/lib/python3.6/site-packages/keras/callbacks.py:122: UserWarning: Method on_batch_end() is slow compared to the batch update (0.107174). Check your callbacks.\n",
      "  % delta_t_median)\n"
     ]
    },
    {
     "name": "stdout",
     "output_type": "stream",
     "text": [
      "6036/6331 [===========================>..] - ETA: 1:30 - loss: 220.9624 - vae_r_loss: 161.9924 - vae_kl_loss: 58.9700"
     ]
    },
    {
     "name": "stderr",
     "output_type": "stream",
     "text": [
      "/home/ec2-user/anaconda3/envs/hba-gan-gpu-tf14/lib/python3.6/site-packages/keras/callbacks.py:122: UserWarning: Method on_batch_end() is slow compared to the batch update (0.101905). Check your callbacks.\n",
      "  % delta_t_median)\n"
     ]
    },
    {
     "name": "stdout",
     "output_type": "stream",
     "text": [
      "6332/6331 [==============================] - 1938s 306ms/step - loss: 220.9051 - vae_r_loss: 161.9407 - vae_kl_loss: 58.9644\n",
      "\n",
      "Epoch 00013: saving model to run/vae/0001_faces/weights/weights-013-220.91.h5\n",
      "\n",
      "Epoch 00013: saving model to run/vae/0001_faces/weights/weights.h5\n",
      "Epoch 14/200\n",
      "   2/6331 [..............................] - ETA: 24:09 - loss: 230.2913 - vae_r_loss: 172.3299 - vae_kl_loss: 57.9615"
     ]
    },
    {
     "name": "stderr",
     "output_type": "stream",
     "text": [
      "/home/ec2-user/anaconda3/envs/hba-gan-gpu-tf14/lib/python3.6/site-packages/keras/callbacks.py:122: UserWarning: Method on_batch_end() is slow compared to the batch update (0.161007). Check your callbacks.\n",
      "  % delta_t_median)\n",
      "/home/ec2-user/anaconda3/envs/hba-gan-gpu-tf14/lib/python3.6/site-packages/keras/callbacks.py:122: UserWarning: Method on_batch_end() is slow compared to the batch update (0.104170). Check your callbacks.\n",
      "  % delta_t_median)\n"
     ]
    },
    {
     "name": "stdout",
     "output_type": "stream",
     "text": [
      "4746/6331 [=====================>........] - ETA: 8:05 - loss: 220.5962 - vae_r_loss: 161.6688 - vae_kl_loss: 58.9274"
     ]
    },
    {
     "name": "stderr",
     "output_type": "stream",
     "text": [
      "/home/ec2-user/anaconda3/envs/hba-gan-gpu-tf14/lib/python3.6/site-packages/keras/callbacks.py:122: UserWarning: Method on_batch_end() is slow compared to the batch update (0.106370). Check your callbacks.\n",
      "  % delta_t_median)\n"
     ]
    },
    {
     "name": "stdout",
     "output_type": "stream",
     "text": [
      "6332/6331 [==============================] - 1937s 306ms/step - loss: 220.6602 - vae_r_loss: 161.6866 - vae_kl_loss: 58.9736\n",
      "\n",
      "Epoch 00014: saving model to run/vae/0001_faces/weights/weights-014-220.66.h5\n",
      "\n",
      "Epoch 00014: saving model to run/vae/0001_faces/weights/weights.h5\n",
      "Epoch 15/200\n",
      "   2/6331 [..............................] - ETA: 24:04 - loss: 208.7794 - vae_r_loss: 149.4428 - vae_kl_loss: 59.3367"
     ]
    },
    {
     "name": "stderr",
     "output_type": "stream",
     "text": [
      "/home/ec2-user/anaconda3/envs/hba-gan-gpu-tf14/lib/python3.6/site-packages/keras/callbacks.py:122: UserWarning: Method on_batch_end() is slow compared to the batch update (0.163020). Check your callbacks.\n",
      "  % delta_t_median)\n"
     ]
    },
    {
     "name": "stdout",
     "output_type": "stream",
     "text": [
      "  48/6331 [..............................] - ETA: 31:34 - loss: 220.3346 - vae_r_loss: 160.8846 - vae_kl_loss: 59.4500"
     ]
    },
    {
     "name": "stderr",
     "output_type": "stream",
     "text": [
      "/home/ec2-user/anaconda3/envs/hba-gan-gpu-tf14/lib/python3.6/site-packages/keras/callbacks.py:122: UserWarning: Method on_batch_end() is slow compared to the batch update (0.104321). Check your callbacks.\n",
      "  % delta_t_median)\n"
     ]
    },
    {
     "name": "stdout",
     "output_type": "stream",
     "text": [
      "  50/6331 [..............................] - ETA: 31:34 - loss: 220.8287 - vae_r_loss: 161.4349 - vae_kl_loss: 59.3938"
     ]
    },
    {
     "name": "stderr",
     "output_type": "stream",
     "text": [
      "/home/ec2-user/anaconda3/envs/hba-gan-gpu-tf14/lib/python3.6/site-packages/keras/callbacks.py:122: UserWarning: Method on_batch_end() is slow compared to the batch update (0.102802). Check your callbacks.\n",
      "  % delta_t_median)\n"
     ]
    },
    {
     "name": "stdout",
     "output_type": "stream",
     "text": [
      "  63/6331 [..............................] - ETA: 31:35 - loss: 221.6035 - vae_r_loss: 162.1945 - vae_kl_loss: 59.4089"
     ]
    },
    {
     "name": "stderr",
     "output_type": "stream",
     "text": [
      "/home/ec2-user/anaconda3/envs/hba-gan-gpu-tf14/lib/python3.6/site-packages/keras/callbacks.py:122: UserWarning: Method on_batch_end() is slow compared to the batch update (0.109549). Check your callbacks.\n",
      "  % delta_t_median)\n"
     ]
    },
    {
     "name": "stdout",
     "output_type": "stream",
     "text": [
      "2199/6331 [=========>....................] - ETA: 21:03 - loss: 220.6923 - vae_r_loss: 161.6293 - vae_kl_loss: 59.0630"
     ]
    },
    {
     "name": "stderr",
     "output_type": "stream",
     "text": [
      "/home/ec2-user/anaconda3/envs/hba-gan-gpu-tf14/lib/python3.6/site-packages/keras/callbacks.py:122: UserWarning: Method on_batch_end() is slow compared to the batch update (0.104323). Check your callbacks.\n",
      "  % delta_t_median)\n"
     ]
    },
    {
     "name": "stdout",
     "output_type": "stream",
     "text": [
      "2202/6331 [=========>....................] - ETA: 21:02 - loss: 220.6865 - vae_r_loss: 161.6239 - vae_kl_loss: 59.0626"
     ]
    },
    {
     "name": "stderr",
     "output_type": "stream",
     "text": [
      "/home/ec2-user/anaconda3/envs/hba-gan-gpu-tf14/lib/python3.6/site-packages/keras/callbacks.py:122: UserWarning: Method on_batch_end() is slow compared to the batch update (0.106977). Check your callbacks.\n",
      "  % delta_t_median)\n"
     ]
    },
    {
     "name": "stdout",
     "output_type": "stream",
     "text": [
      "3011/6331 [=============>................] - ETA: 16:55 - loss: 220.5613 - vae_r_loss: 161.5655 - vae_kl_loss: 58.9958"
     ]
    },
    {
     "name": "stderr",
     "output_type": "stream",
     "text": [
      "/home/ec2-user/anaconda3/envs/hba-gan-gpu-tf14/lib/python3.6/site-packages/keras/callbacks.py:122: UserWarning: Method on_batch_end() is slow compared to the batch update (0.105543). Check your callbacks.\n",
      "  % delta_t_median)\n"
     ]
    },
    {
     "name": "stdout",
     "output_type": "stream",
     "text": [
      "3976/6331 [=================>............] - ETA: 12:00 - loss: 220.5332 - vae_r_loss: 161.5305 - vae_kl_loss: 59.0027"
     ]
    },
    {
     "name": "stderr",
     "output_type": "stream",
     "text": [
      "/home/ec2-user/anaconda3/envs/hba-gan-gpu-tf14/lib/python3.6/site-packages/keras/callbacks.py:122: UserWarning: Method on_batch_end() is slow compared to the batch update (0.100221). Check your callbacks.\n",
      "  % delta_t_median)\n"
     ]
    },
    {
     "name": "stdout",
     "output_type": "stream",
     "text": [
      "3978/6331 [=================>............] - ETA: 12:00 - loss: 220.5362 - vae_r_loss: 161.5348 - vae_kl_loss: 59.0014"
     ]
    },
    {
     "name": "stderr",
     "output_type": "stream",
     "text": [
      "/home/ec2-user/anaconda3/envs/hba-gan-gpu-tf14/lib/python3.6/site-packages/keras/callbacks.py:122: UserWarning: Method on_batch_end() is slow compared to the batch update (0.100202). Check your callbacks.\n",
      "  % delta_t_median)\n"
     ]
    },
    {
     "name": "stdout",
     "output_type": "stream",
     "text": [
      "6005/6331 [===========================>..] - ETA: 1:39 - loss: 220.4182 - vae_r_loss: 161.4257 - vae_kl_loss: 58.9925"
     ]
    },
    {
     "name": "stderr",
     "output_type": "stream",
     "text": [
      "/home/ec2-user/anaconda3/envs/hba-gan-gpu-tf14/lib/python3.6/site-packages/keras/callbacks.py:122: UserWarning: Method on_batch_end() is slow compared to the batch update (0.101743). Check your callbacks.\n",
      "  % delta_t_median)\n"
     ]
    },
    {
     "name": "stdout",
     "output_type": "stream",
     "text": [
      "6007/6331 [===========================>..] - ETA: 1:39 - loss: 220.4158 - vae_r_loss: 161.4237 - vae_kl_loss: 58.9921"
     ]
    },
    {
     "name": "stderr",
     "output_type": "stream",
     "text": [
      "/home/ec2-user/anaconda3/envs/hba-gan-gpu-tf14/lib/python3.6/site-packages/keras/callbacks.py:122: UserWarning: Method on_batch_end() is slow compared to the batch update (0.104298). Check your callbacks.\n",
      "  % delta_t_median)\n"
     ]
    },
    {
     "name": "stdout",
     "output_type": "stream",
     "text": [
      "6009/6331 [===========================>..] - ETA: 1:38 - loss: 220.4120 - vae_r_loss: 161.4207 - vae_kl_loss: 58.9913"
     ]
    },
    {
     "name": "stderr",
     "output_type": "stream",
     "text": [
      "/home/ec2-user/anaconda3/envs/hba-gan-gpu-tf14/lib/python3.6/site-packages/keras/callbacks.py:122: UserWarning: Method on_batch_end() is slow compared to the batch update (0.106969). Check your callbacks.\n",
      "  % delta_t_median)\n"
     ]
    },
    {
     "name": "stdout",
     "output_type": "stream",
     "text": [
      "6013/6331 [===========================>..] - ETA: 1:37 - loss: 220.4070 - vae_r_loss: 161.4157 - vae_kl_loss: 58.9913"
     ]
    },
    {
     "name": "stderr",
     "output_type": "stream",
     "text": [
      "/home/ec2-user/anaconda3/envs/hba-gan-gpu-tf14/lib/python3.6/site-packages/keras/callbacks.py:122: UserWarning: Method on_batch_end() is slow compared to the batch update (0.105131). Check your callbacks.\n",
      "  % delta_t_median)\n"
     ]
    },
    {
     "name": "stdout",
     "output_type": "stream",
     "text": [
      "6018/6331 [===========================>..] - ETA: 1:35 - loss: 220.4043 - vae_r_loss: 161.4139 - vae_kl_loss: 58.9904"
     ]
    },
    {
     "name": "stderr",
     "output_type": "stream",
     "text": [
      "/home/ec2-user/anaconda3/envs/hba-gan-gpu-tf14/lib/python3.6/site-packages/keras/callbacks.py:122: UserWarning: Method on_batch_end() is slow compared to the batch update (0.104452). Check your callbacks.\n",
      "  % delta_t_median)\n"
     ]
    },
    {
     "name": "stdout",
     "output_type": "stream",
     "text": [
      "6020/6331 [===========================>..] - ETA: 1:35 - loss: 220.4007 - vae_r_loss: 161.4113 - vae_kl_loss: 58.9894"
     ]
    },
    {
     "name": "stderr",
     "output_type": "stream",
     "text": [
      "/home/ec2-user/anaconda3/envs/hba-gan-gpu-tf14/lib/python3.6/site-packages/keras/callbacks.py:122: UserWarning: Method on_batch_end() is slow compared to the batch update (0.105149). Check your callbacks.\n",
      "  % delta_t_median)\n"
     ]
    },
    {
     "name": "stdout",
     "output_type": "stream",
     "text": [
      "6027/6331 [===========================>..] - ETA: 1:33 - loss: 220.4021 - vae_r_loss: 161.4141 - vae_kl_loss: 58.9881"
     ]
    },
    {
     "name": "stderr",
     "output_type": "stream",
     "text": [
      "/home/ec2-user/anaconda3/envs/hba-gan-gpu-tf14/lib/python3.6/site-packages/keras/callbacks.py:122: UserWarning: Method on_batch_end() is slow compared to the batch update (0.104398). Check your callbacks.\n",
      "  % delta_t_median)\n",
      "/home/ec2-user/anaconda3/envs/hba-gan-gpu-tf14/lib/python3.6/site-packages/keras/callbacks.py:122: UserWarning: Method on_batch_end() is slow compared to the batch update (0.103902). Check your callbacks.\n",
      "  % delta_t_median)\n"
     ]
    },
    {
     "name": "stdout",
     "output_type": "stream",
     "text": [
      "6028/6331 [===========================>..] - ETA: 1:32 - loss: 220.4009 - vae_r_loss: 161.4128 - vae_kl_loss: 58.9880"
     ]
    },
    {
     "name": "stderr",
     "output_type": "stream",
     "text": [
      "/home/ec2-user/anaconda3/envs/hba-gan-gpu-tf14/lib/python3.6/site-packages/keras/callbacks.py:122: UserWarning: Method on_batch_end() is slow compared to the batch update (0.101340). Check your callbacks.\n",
      "  % delta_t_median)\n"
     ]
    },
    {
     "name": "stdout",
     "output_type": "stream",
     "text": [
      "6332/6331 [==============================] - 1938s 306ms/step - loss: 220.4083 - vae_r_loss: 161.4164 - vae_kl_loss: 58.9919\n",
      "\n",
      "Epoch 00015: saving model to run/vae/0001_faces/weights/weights-015-220.41.h5\n",
      "\n",
      "Epoch 00015: saving model to run/vae/0001_faces/weights/weights.h5\n",
      "Epoch 16/200\n",
      "   2/6331 [..............................] - ETA: 23:54 - loss: 216.8145 - vae_r_loss: 155.8990 - vae_kl_loss: 60.9155"
     ]
    },
    {
     "name": "stderr",
     "output_type": "stream",
     "text": [
      "/home/ec2-user/anaconda3/envs/hba-gan-gpu-tf14/lib/python3.6/site-packages/keras/callbacks.py:122: UserWarning: Method on_batch_end() is slow compared to the batch update (0.164775). Check your callbacks.\n",
      "  % delta_t_median)\n"
     ]
    },
    {
     "name": "stdout",
     "output_type": "stream",
     "text": [
      "3942/6331 [=================>............] - ETA: 12:12 - loss: 220.2230 - vae_r_loss: 161.2337 - vae_kl_loss: 58.9893"
     ]
    },
    {
     "name": "stderr",
     "output_type": "stream",
     "text": [
      "/home/ec2-user/anaconda3/envs/hba-gan-gpu-tf14/lib/python3.6/site-packages/keras/callbacks.py:122: UserWarning: Method on_batch_end() is slow compared to the batch update (0.104224). Check your callbacks.\n",
      "  % delta_t_median)\n"
     ]
    },
    {
     "name": "stdout",
     "output_type": "stream",
     "text": [
      "3947/6331 [=================>............] - ETA: 12:10 - loss: 220.2182 - vae_r_loss: 161.2278 - vae_kl_loss: 58.9904"
     ]
    },
    {
     "name": "stderr",
     "output_type": "stream",
     "text": [
      "/home/ec2-user/anaconda3/envs/hba-gan-gpu-tf14/lib/python3.6/site-packages/keras/callbacks.py:122: UserWarning: Method on_batch_end() is slow compared to the batch update (0.101759). Check your callbacks.\n",
      "  % delta_t_median)\n"
     ]
    },
    {
     "name": "stdout",
     "output_type": "stream",
     "text": [
      "4161/6331 [==================>...........] - ETA: 11:05 - loss: 220.2053 - vae_r_loss: 161.2166 - vae_kl_loss: 58.9887"
     ]
    },
    {
     "name": "stderr",
     "output_type": "stream",
     "text": [
      "/home/ec2-user/anaconda3/envs/hba-gan-gpu-tf14/lib/python3.6/site-packages/keras/callbacks.py:122: UserWarning: Method on_batch_end() is slow compared to the batch update (0.101855). Check your callbacks.\n",
      "  % delta_t_median)\n"
     ]
    },
    {
     "name": "stdout",
     "output_type": "stream",
     "text": [
      "4163/6331 [==================>...........] - ETA: 11:04 - loss: 220.2031 - vae_r_loss: 161.2146 - vae_kl_loss: 58.9884"
     ]
    },
    {
     "name": "stderr",
     "output_type": "stream",
     "text": [
      "/home/ec2-user/anaconda3/envs/hba-gan-gpu-tf14/lib/python3.6/site-packages/keras/callbacks.py:122: UserWarning: Method on_batch_end() is slow compared to the batch update (0.107033). Check your callbacks.\n",
      "  % delta_t_median)\n"
     ]
    },
    {
     "name": "stdout",
     "output_type": "stream",
     "text": [
      "5963/6331 [===========================>..] - ETA: 1:52 - loss: 220.2976 - vae_r_loss: 161.3171 - vae_kl_loss: 58.9805"
     ]
    },
    {
     "name": "stderr",
     "output_type": "stream",
     "text": [
      "/home/ec2-user/anaconda3/envs/hba-gan-gpu-tf14/lib/python3.6/site-packages/keras/callbacks.py:122: UserWarning: Method on_batch_end() is slow compared to the batch update (0.102002). Check your callbacks.\n",
      "  % delta_t_median)\n"
     ]
    },
    {
     "name": "stdout",
     "output_type": "stream",
     "text": [
      "5966/6331 [===========================>..] - ETA: 1:51 - loss: 220.2983 - vae_r_loss: 161.3166 - vae_kl_loss: 58.9816"
     ]
    },
    {
     "name": "stderr",
     "output_type": "stream",
     "text": [
      "/home/ec2-user/anaconda3/envs/hba-gan-gpu-tf14/lib/python3.6/site-packages/keras/callbacks.py:122: UserWarning: Method on_batch_end() is slow compared to the batch update (0.101964). Check your callbacks.\n",
      "  % delta_t_median)\n"
     ]
    },
    {
     "name": "stdout",
     "output_type": "stream",
     "text": [
      "5968/6331 [===========================>..] - ETA: 1:51 - loss: 220.2981 - vae_r_loss: 161.3162 - vae_kl_loss: 58.9819"
     ]
    },
    {
     "name": "stderr",
     "output_type": "stream",
     "text": [
      "/home/ec2-user/anaconda3/envs/hba-gan-gpu-tf14/lib/python3.6/site-packages/keras/callbacks.py:122: UserWarning: Method on_batch_end() is slow compared to the batch update (0.107051). Check your callbacks.\n",
      "  % delta_t_median)\n"
     ]
    },
    {
     "name": "stdout",
     "output_type": "stream",
     "text": [
      "5972/6331 [===========================>..] - ETA: 1:50 - loss: 220.2961 - vae_r_loss: 161.3148 - vae_kl_loss: 58.9813"
     ]
    },
    {
     "name": "stderr",
     "output_type": "stream",
     "text": [
      "/home/ec2-user/anaconda3/envs/hba-gan-gpu-tf14/lib/python3.6/site-packages/keras/callbacks.py:122: UserWarning: Method on_batch_end() is slow compared to the batch update (0.101880). Check your callbacks.\n",
      "  % delta_t_median)\n"
     ]
    },
    {
     "name": "stdout",
     "output_type": "stream",
     "text": [
      "5974/6331 [===========================>..] - ETA: 1:49 - loss: 220.2958 - vae_r_loss: 161.3150 - vae_kl_loss: 58.9808"
     ]
    },
    {
     "name": "stderr",
     "output_type": "stream",
     "text": [
      "/home/ec2-user/anaconda3/envs/hba-gan-gpu-tf14/lib/python3.6/site-packages/keras/callbacks.py:122: UserWarning: Method on_batch_end() is slow compared to the batch update (0.101875). Check your callbacks.\n",
      "  % delta_t_median)\n"
     ]
    },
    {
     "name": "stdout",
     "output_type": "stream",
     "text": [
      "6332/6331 [==============================] - 1941s 307ms/step - loss: 220.3055 - vae_r_loss: 161.3287 - vae_kl_loss: 58.9768\n",
      "\n",
      "Epoch 00016: saving model to run/vae/0001_faces/weights/weights-016-220.30.h5\n",
      "\n",
      "Epoch 00016: saving model to run/vae/0001_faces/weights/weights.h5\n",
      "Epoch 17/200\n",
      "   2/6331 [..............................] - ETA: 24:09 - loss: 212.1378 - vae_r_loss: 153.8095 - vae_kl_loss: 58.3283"
     ]
    },
    {
     "name": "stderr",
     "output_type": "stream",
     "text": [
      "/home/ec2-user/anaconda3/envs/hba-gan-gpu-tf14/lib/python3.6/site-packages/keras/callbacks.py:122: UserWarning: Method on_batch_end() is slow compared to the batch update (0.150887). Check your callbacks.\n",
      "  % delta_t_median)\n"
     ]
    },
    {
     "name": "stdout",
     "output_type": "stream",
     "text": [
      " 618/6331 [=>............................] - ETA: 29:04 - loss: 220.3704 - vae_r_loss: 161.2665 - vae_kl_loss: 59.1039"
     ]
    },
    {
     "name": "stderr",
     "output_type": "stream",
     "text": [
      "/home/ec2-user/anaconda3/envs/hba-gan-gpu-tf14/lib/python3.6/site-packages/keras/callbacks.py:122: UserWarning: Method on_batch_end() is slow compared to the batch update (0.101983). Check your callbacks.\n",
      "  % delta_t_median)\n"
     ]
    },
    {
     "name": "stdout",
     "output_type": "stream",
     "text": [
      " 620/6331 [=>............................] - ETA: 29:03 - loss: 220.3405 - vae_r_loss: 161.2311 - vae_kl_loss: 59.1094"
     ]
    },
    {
     "name": "stderr",
     "output_type": "stream",
     "text": [
      "/home/ec2-user/anaconda3/envs/hba-gan-gpu-tf14/lib/python3.6/site-packages/keras/callbacks.py:122: UserWarning: Method on_batch_end() is slow compared to the batch update (0.104490). Check your callbacks.\n",
      "  % delta_t_median)\n"
     ]
    },
    {
     "name": "stdout",
     "output_type": "stream",
     "text": [
      "2050/6331 [========>.....................] - ETA: 21:47 - loss: 220.1445 - vae_r_loss: 161.1866 - vae_kl_loss: 58.9579"
     ]
    },
    {
     "name": "stderr",
     "output_type": "stream",
     "text": [
      "/home/ec2-user/anaconda3/envs/hba-gan-gpu-tf14/lib/python3.6/site-packages/keras/callbacks.py:122: UserWarning: Method on_batch_end() is slow compared to the batch update (0.101382). Check your callbacks.\n",
      "  % delta_t_median)\n"
     ]
    },
    {
     "name": "stdout",
     "output_type": "stream",
     "text": [
      "2052/6331 [========>.....................] - ETA: 21:46 - loss: 220.1423 - vae_r_loss: 161.1849 - vae_kl_loss: 58.9574"
     ]
    },
    {
     "name": "stderr",
     "output_type": "stream",
     "text": [
      "/home/ec2-user/anaconda3/envs/hba-gan-gpu-tf14/lib/python3.6/site-packages/keras/callbacks.py:122: UserWarning: Method on_batch_end() is slow compared to the batch update (0.108989). Check your callbacks.\n",
      "  % delta_t_median)\n"
     ]
    },
    {
     "name": "stdout",
     "output_type": "stream",
     "text": [
      "2057/6331 [========>.....................] - ETA: 21:45 - loss: 220.1201 - vae_r_loss: 161.1644 - vae_kl_loss: 58.9557"
     ]
    },
    {
     "name": "stderr",
     "output_type": "stream",
     "text": [
      "/home/ec2-user/anaconda3/envs/hba-gan-gpu-tf14/lib/python3.6/site-packages/keras/callbacks.py:122: UserWarning: Method on_batch_end() is slow compared to the batch update (0.103854). Check your callbacks.\n",
      "  % delta_t_median)\n"
     ]
    },
    {
     "name": "stdout",
     "output_type": "stream",
     "text": [
      "2058/6331 [========>.....................] - ETA: 21:45 - loss: 220.1352 - vae_r_loss: 161.1783 - vae_kl_loss: 58.9570"
     ]
    },
    {
     "name": "stderr",
     "output_type": "stream",
     "text": [
      "/home/ec2-user/anaconda3/envs/hba-gan-gpu-tf14/lib/python3.6/site-packages/keras/callbacks.py:122: UserWarning: Method on_batch_end() is slow compared to the batch update (0.101717). Check your callbacks.\n",
      "  % delta_t_median)\n"
     ]
    },
    {
     "name": "stdout",
     "output_type": "stream",
     "text": [
      "2059/6331 [========>.....................] - ETA: 21:44 - loss: 220.1341 - vae_r_loss: 161.1773 - vae_kl_loss: 58.9568"
     ]
    },
    {
     "name": "stderr",
     "output_type": "stream",
     "text": [
      "/home/ec2-user/anaconda3/envs/hba-gan-gpu-tf14/lib/python3.6/site-packages/keras/callbacks.py:122: UserWarning: Method on_batch_end() is slow compared to the batch update (0.100170). Check your callbacks.\n",
      "  % delta_t_median)\n"
     ]
    },
    {
     "name": "stdout",
     "output_type": "stream",
     "text": [
      "2080/6331 [========>.....................] - ETA: 21:38 - loss: 220.1542 - vae_r_loss: 161.1904 - vae_kl_loss: 58.9638"
     ]
    },
    {
     "name": "stderr",
     "output_type": "stream",
     "text": [
      "/home/ec2-user/anaconda3/envs/hba-gan-gpu-tf14/lib/python3.6/site-packages/keras/callbacks.py:122: UserWarning: Method on_batch_end() is slow compared to the batch update (0.104436). Check your callbacks.\n",
      "  % delta_t_median)\n"
     ]
    },
    {
     "name": "stdout",
     "output_type": "stream",
     "text": [
      "2717/6331 [===========>..................] - ETA: 18:24 - loss: 220.0508 - vae_r_loss: 161.1101 - vae_kl_loss: 58.9407"
     ]
    }
   ],
   "source": [
    "vae.train_with_generator(     \n",
    "    data_flow\n",
    "    , epochs = EPOCHS\n",
    "    , steps_per_epoch = NUM_IMAGES / BATCH_SIZE\n",
    "    , run_folder = RUN_FOLDER\n",
    "    , print_every_n_batches = PRINT_EVERY_N_BATCHES\n",
    "    , initial_epoch = INITIAL_EPOCH\n",
    ")"
   ]
  },
  {
   "cell_type": "code",
   "execution_count": null,
   "metadata": {},
   "outputs": [],
   "source": []
  }
 ],
 "metadata": {
  "kernelspec": {
   "display_name": "conda_hba-gan-gpu-tf14",
   "language": "python",
   "name": "conda_hba-gan-gpu-tf14"
  },
  "language_info": {
   "codemirror_mode": {
    "name": "ipython",
    "version": 3
   },
   "file_extension": ".py",
   "mimetype": "text/x-python",
   "name": "python",
   "nbconvert_exporter": "python",
   "pygments_lexer": "ipython3",
   "version": "3.6.11"
  }
 },
 "nbformat": 4,
 "nbformat_minor": 2
}
